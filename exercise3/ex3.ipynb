{
  "nbformat": 4,
  "nbformat_minor": 0,
  "metadata": {
    "colab": {
      "name": "ex3.ipynb",
      "version": "0.3.2",
      "provenance": [],
      "include_colab_link": true
    },
    "kernelspec": {
      "display_name": "Python 3",
      "language": "python",
      "name": "python3"
    }
  },
  "cells": [
    {
      "cell_type": "markdown",
      "metadata": {
        "id": "view-in-github",
        "colab_type": "text"
      },
      "source": [
        "<a href=\"https://colab.research.google.com/github/lucasblt/ren-elec-markets/blob/master/exercise3/ex3.ipynb\" target=\"_parent\"><img src=\"https://colab.research.google.com/assets/colab-badge.svg\" alt=\"Open In Colab\"/></a>"
      ]
    },
    {
      "metadata": {
        "id": "v_7LsVRlDaiP",
        "colab_type": "code",
        "colab": {}
      },
      "cell_type": "code",
      "source": [
        "import pulp as plp\n",
        "import pandas as pd\n",
        "import numpy as np\n",
        "import matplotlib.pyplot as plt\n",
        "import day_ahead\n",
        "import balancing_market"
      ],
      "execution_count": 0,
      "outputs": []
    },
    {
      "metadata": {
        "id": "b1Zg80zfDaiU",
        "colab_type": "text"
      },
      "cell_type": "markdown",
      "source": [
        "## 1.1"
      ]
    },
    {
      "metadata": {
        "id": "ScrJjU4bDaiV",
        "colab_type": "code",
        "colab": {}
      },
      "cell_type": "code",
      "source": [
        "g_df = pd.DataFrame({'ID' : ['G1','G2','G3','G4','G5'],\n",
        "                     'region' : ['E', 'E', 'E', 'E', 'E'],\n",
        "                     'power_g' : [15, 100, 32, 25, 70],\n",
        "                     'cost_g' : [75, 15, 0, 42, 10]})\n",
        "\n",
        "d_df = pd.DataFrame({'ID' : ['D1','D2','D3','D4','D5', 'D6', 'D7'],\n",
        "                     'region' : ['E', 'E', 'E', 'E', 'E', 'E', 'E'],\n",
        "                     'power_d' : [35, 23, 12, 38, 43, 16, 57],\n",
        "                     'cost_d' : [65, 78, 10, 46, 63, 32, 50]})\n",
        "\n",
        "limit = 0\n",
        "\n",
        "schedule_g, schedule_d, price = day_ahead.solver(g_df, d_df, limit)\n",
        "\n",
        "schedule_g['Revenue'] = schedule_g['Scheduled Pg']*schedule_g['Market Price']\n",
        "schedule_d['Payment'] = schedule_d['Scheduled Pd']*schedule_d['Market Price']"
      ],
      "execution_count": 0,
      "outputs": []
    },
    {
      "metadata": {
        "id": "9uehQ-LtDaic",
        "colab_type": "text"
      },
      "cell_type": "markdown",
      "source": [
        "## 1.2"
      ]
    },
    {
      "metadata": {
        "id": "9Iumj5j-Daic",
        "colab_type": "code",
        "colab": {}
      },
      "cell_type": "code",
      "source": [
        "up_df = pd.DataFrame({'ID' : ['G1','G4','G5'],\n",
        "                     'up_g' : [15, 5, 20],\n",
        "                     'cost_up' : [80, 50, 35]})\n",
        "\n",
        "down_df = pd.DataFrame({'ID' : ['G4','G5'],\n",
        "                     'down_g' : [15, 20],\n",
        "                     'cost_down' : [15, 5]})\n",
        "\n",
        "up_df = up_df.sort_values(by=['cost_up'])\n",
        "up_df['Cumulative'] = up_df['up_g'].cumsum()\n",
        "\n",
        "down_df = down_df.sort_values(by=['cost_down'], ascending=False)\n",
        "down_df['Cumulative'] = -down_df['down_g'].cumsum()\n"
      ],
      "execution_count": 0,
      "outputs": []
    },
    {
      "metadata": {
        "id": "hlUE9BQGDaif",
        "colab_type": "code",
        "colab": {}
      },
      "cell_type": "code",
      "source": [
        "down_df['Cumulative'].values"
      ],
      "execution_count": 0,
      "outputs": []
    },
    {
      "metadata": {
        "id": "F63HoIxBDaih",
        "colab_type": "code",
        "colab": {}
      },
      "cell_type": "code",
      "source": [
        "np.flip(down_df['Cumulative'].values)"
      ],
      "execution_count": 0,
      "outputs": []
    },
    {
      "metadata": {
        "id": "ZB9FcqacDaik",
        "colab_type": "code",
        "colab": {}
      },
      "cell_type": "code",
      "source": [
        "x = np.concatenate((np.flip(down_df['Cumulative'].values), up_df['Cumulative'].values))\n",
        "y = np.concatenate((np.flip(down_df['cost_down'].values), up_df['cost_up'].values))"
      ],
      "execution_count": 0,
      "outputs": []
    },
    {
      "metadata": {
        "id": "K9l3K556Daiq",
        "colab_type": "code",
        "colab": {}
      },
      "cell_type": "code",
      "source": [
        "x1 = [-35, -15, 0, 20, 25, 40]\n",
        "y1 = [ 5, 15, 35, 50, 80, 80]\n",
        "\n",
        "fig, ax = plt.subplots(figsize=(16, 5))\n",
        "ax.step(x1,y1,where='post')\n",
        "ax.axvline(0, linestyle = ':' ,color = 'green')\n",
        "ax.axvline(22, linestyle = ':' ,color = 'red')\n",
        "ax.axhline(32, linestyle = ':' ,color = 'green')\n",
        "ax.axhline(50, linestyle = ':' ,color = 'red')"
      ],
      "execution_count": 0,
      "outputs": []
    },
    {
      "metadata": {
        "id": "RL0F8OzsDaiu",
        "colab_type": "code",
        "colab": {},
        "outputId": "586106f1-24e6-4b42-ead5-3ae5689dc81c"
      },
      "cell_type": "code",
      "source": [
        "up_df = pd.DataFrame({'ID' : ['G1','G4','G5'],\n",
        "                      'region' : ['E', 'E', 'E'],\n",
        "                      'up_g' : [15, 5, 20],\n",
        "                      'cost_up' : [80, 50, 35]})\n",
        "\n",
        "down_df = pd.DataFrame({'ID' : ['G5'],\n",
        "                        'region' : ['E'],\n",
        "                        'down_g' : [20],\n",
        "                        'cost_down' : [5]})\n",
        "delta = 22\n",
        "\n",
        "schedule_up, schedule_down, price = balancing_market.solver(up_df, down_df, delta)\n",
        "schedule_up"
      ],
      "execution_count": 0,
      "outputs": [
        {
          "output_type": "execute_result",
          "data": {
            "text/html": [
              "<div>\n",
              "<style scoped>\n",
              "    .dataframe tbody tr th:only-of-type {\n",
              "        vertical-align: middle;\n",
              "    }\n",
              "\n",
              "    .dataframe tbody tr th {\n",
              "        vertical-align: top;\n",
              "    }\n",
              "\n",
              "    .dataframe thead th {\n",
              "        text-align: right;\n",
              "    }\n",
              "</style>\n",
              "<table border=\"1\" class=\"dataframe\">\n",
              "  <thead>\n",
              "    <tr style=\"text-align: right;\">\n",
              "      <th></th>\n",
              "      <th>ID</th>\n",
              "      <th>Region</th>\n",
              "      <th>Market Price</th>\n",
              "      <th>Scheduled Pg</th>\n",
              "    </tr>\n",
              "  </thead>\n",
              "  <tbody>\n",
              "    <tr>\n",
              "      <th>0</th>\n",
              "      <td>G1_up</td>\n",
              "      <td>E</td>\n",
              "      <td>50.0</td>\n",
              "      <td>0.0</td>\n",
              "    </tr>\n",
              "    <tr>\n",
              "      <th>1</th>\n",
              "      <td>G4_up</td>\n",
              "      <td>E</td>\n",
              "      <td>50.0</td>\n",
              "      <td>2.0</td>\n",
              "    </tr>\n",
              "    <tr>\n",
              "      <th>2</th>\n",
              "      <td>G5_up</td>\n",
              "      <td>E</td>\n",
              "      <td>50.0</td>\n",
              "      <td>20.0</td>\n",
              "    </tr>\n",
              "  </tbody>\n",
              "</table>\n",
              "</div>"
            ],
            "text/plain": [
              "      ID Region  Market Price  Scheduled Pg\n",
              "0  G1_up      E          50.0           0.0\n",
              "1  G4_up      E          50.0           2.0\n",
              "2  G5_up      E          50.0          20.0"
            ]
          },
          "metadata": {
            "tags": []
          },
          "execution_count": 4
        }
      ]
    },
    {
      "metadata": {
        "id": "7xd4hFi0Dai1",
        "colab_type": "code",
        "colab": {},
        "outputId": "3bd99d55-9b19-4056-c2da-07939a2bc34d"
      },
      "cell_type": "code",
      "source": [
        "up_df = pd.DataFrame({'ID' : ['G1','G4','G5'],\n",
        "                      'region' : ['E', 'E', 'E'],\n",
        "                      'up_g' : [15, 5, 20],\n",
        "                      'cost_up' : [80, 50, 35]})\n",
        "\n",
        "down_df = pd.DataFrame({'ID' : ['G5'],\n",
        "                        'region' : ['E'],\n",
        "                        'down_g' : [20],\n",
        "                        'cost_down' : [5]})\n",
        "delta = 10\n",
        "\n",
        "schedule_up, schedule_down, price = balancing_market.solver(up_df, down_df, delta)\n",
        "schedule_up"
      ],
      "execution_count": 0,
      "outputs": [
        {
          "output_type": "execute_result",
          "data": {
            "text/html": [
              "<div>\n",
              "<style scoped>\n",
              "    .dataframe tbody tr th:only-of-type {\n",
              "        vertical-align: middle;\n",
              "    }\n",
              "\n",
              "    .dataframe tbody tr th {\n",
              "        vertical-align: top;\n",
              "    }\n",
              "\n",
              "    .dataframe thead th {\n",
              "        text-align: right;\n",
              "    }\n",
              "</style>\n",
              "<table border=\"1\" class=\"dataframe\">\n",
              "  <thead>\n",
              "    <tr style=\"text-align: right;\">\n",
              "      <th></th>\n",
              "      <th>ID</th>\n",
              "      <th>Region</th>\n",
              "      <th>Market Price</th>\n",
              "      <th>Scheduled Pg</th>\n",
              "    </tr>\n",
              "  </thead>\n",
              "  <tbody>\n",
              "    <tr>\n",
              "      <th>0</th>\n",
              "      <td>G1_up</td>\n",
              "      <td>E</td>\n",
              "      <td>35.0</td>\n",
              "      <td>0.0</td>\n",
              "    </tr>\n",
              "    <tr>\n",
              "      <th>1</th>\n",
              "      <td>G4_up</td>\n",
              "      <td>E</td>\n",
              "      <td>35.0</td>\n",
              "      <td>0.0</td>\n",
              "    </tr>\n",
              "    <tr>\n",
              "      <th>2</th>\n",
              "      <td>G5_up</td>\n",
              "      <td>E</td>\n",
              "      <td>35.0</td>\n",
              "      <td>10.0</td>\n",
              "    </tr>\n",
              "  </tbody>\n",
              "</table>\n",
              "</div>"
            ],
            "text/plain": [
              "      ID Region  Market Price  Scheduled Pg\n",
              "0  G1_up      E          35.0           0.0\n",
              "1  G4_up      E          35.0           0.0\n",
              "2  G5_up      E          35.0          10.0"
            ]
          },
          "metadata": {
            "tags": []
          },
          "execution_count": 6
        }
      ]
    },
    {
      "metadata": {
        "id": "5b-zp-TsDai4",
        "colab_type": "code",
        "colab": {}
      },
      "cell_type": "code",
      "source": [
        ""
      ],
      "execution_count": 0,
      "outputs": []
    }
  ]
}