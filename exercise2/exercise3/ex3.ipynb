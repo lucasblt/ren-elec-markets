{
 "cells": [
  {
   "cell_type": "code",
   "execution_count": 1,
   "metadata": {},
   "outputs": [],
   "source": [
    "import pulp as plp\n",
    "import pandas as pd\n",
    "import numpy as np\n",
    "import matplotlib.pyplot as plt\n",
    "import day_ahead\n",
    "import balancing_market"
   ]
  },
  {
   "cell_type": "markdown",
   "metadata": {},
   "source": [
    "## 1.1"
   ]
  },
  {
   "cell_type": "code",
   "execution_count": null,
   "metadata": {},
   "outputs": [],
   "source": [
    "g_df = pd.DataFrame({'ID' : ['G1','G2','G3','G4','G5'],\n",
    "                     'region' : ['E', 'E', 'E', 'E', 'E'],\n",
    "                     'power_g' : [15, 100, 32, 25, 70],\n",
    "                     'cost_g' : [75, 15, 0, 42, 10]})\n",
    "\n",
    "d_df = pd.DataFrame({'ID' : ['D1','D2','D3','D4','D5', 'D6', 'D7'],\n",
    "                     'region' : ['E', 'E', 'E', 'E', 'E', 'E', 'E'],\n",
    "                     'power_d' : [35, 23, 12, 38, 43, 16, 57],\n",
    "                     'cost_d' : [65, 78, 10, 46, 63, 32, 50]})\n",
    "\n",
    "limit = 0\n",
    "\n",
    "schedule_g, schedule_d, price = day_ahead.solver(g_df, d_df, limit)\n",
    "\n",
    "schedule_g['Revenue'] = schedule_g['Scheduled Pg']*schedule_g['Market Price']\n",
    "schedule_d['Payment'] = schedule_d['Scheduled Pd']*schedule_d['Market Price']"
   ]
  },
  {
   "cell_type": "code",
   "execution_count": null,
   "metadata": {},
   "outputs": [],
   "source": [
    "schedule_g"
   ]
  },
  {
   "cell_type": "code",
   "execution_count": null,
   "metadata": {},
   "outputs": [],
   "source": [
    "schedule_d"
   ]
  },
  {
   "cell_type": "markdown",
   "metadata": {},
   "source": [
    "## 1.2"
   ]
  },
  {
   "cell_type": "code",
   "execution_count": null,
   "metadata": {},
   "outputs": [],
   "source": [
    "up_df = pd.DataFrame({'ID' : ['G1','G4','G5'],\n",
    "                     'up_g' : [15, 5, 20],\n",
    "                     'cost_up' : [80, 50, 35]})\n",
    "\n",
    "down_df = pd.DataFrame({'ID' : ['G4','G5'],\n",
    "                     'down_g' : [15, 20],\n",
    "                     'cost_down' : [15, 5]})\n",
    "\n",
    "up_df = up_df.sort_values(by=['cost_up'])\n",
    "up_df['Cumulative'] = up_df['up_g'].cumsum()\n",
    "\n",
    "down_df = down_df.sort_values(by=['cost_down'], ascending=False)\n",
    "down_df['Cumulative'] = -down_df['down_g'].cumsum()\n"
   ]
  },
  {
   "cell_type": "code",
   "execution_count": null,
   "metadata": {},
   "outputs": [],
   "source": [
    "down_df['Cumulative'].values"
   ]
  },
  {
   "cell_type": "code",
   "execution_count": null,
   "metadata": {},
   "outputs": [],
   "source": [
    "np.flip(down_df['Cumulative'].values)"
   ]
  },
  {
   "cell_type": "code",
   "execution_count": null,
   "metadata": {},
   "outputs": [],
   "source": [
    "x = np.concatenate((np.flip(down_df['Cumulative'].values), up_df['Cumulative'].values))\n",
    "y = np.concatenate((np.flip(down_df['cost_down'].values), up_df['cost_up'].values))"
   ]
  },
  {
   "cell_type": "code",
   "execution_count": null,
   "metadata": {},
   "outputs": [],
   "source": [
    "x1 = [-35, -15, 0, 20, 25, 40]\n",
    "y1 = [ 5, 15, 35, 50, 80, 80]\n",
    "\n",
    "fig, ax = plt.subplots(figsize=(16, 5))\n",
    "ax.step(x1,y1,where='post')\n",
    "ax.axvline(0, linestyle = ':' ,color = 'green')\n",
    "ax.axvline(22, linestyle = ':' ,color = 'red')\n",
    "ax.axhline(32, linestyle = ':' ,color = 'green')\n",
    "ax.axhline(50, linestyle = ':' ,color = 'red')"
   ]
  },
  {
   "cell_type": "code",
   "execution_count": 4,
   "metadata": {},
   "outputs": [
    {
     "data": {
      "text/html": [
       "<div>\n",
       "<style scoped>\n",
       "    .dataframe tbody tr th:only-of-type {\n",
       "        vertical-align: middle;\n",
       "    }\n",
       "\n",
       "    .dataframe tbody tr th {\n",
       "        vertical-align: top;\n",
       "    }\n",
       "\n",
       "    .dataframe thead th {\n",
       "        text-align: right;\n",
       "    }\n",
       "</style>\n",
       "<table border=\"1\" class=\"dataframe\">\n",
       "  <thead>\n",
       "    <tr style=\"text-align: right;\">\n",
       "      <th></th>\n",
       "      <th>ID</th>\n",
       "      <th>Region</th>\n",
       "      <th>Market Price</th>\n",
       "      <th>Scheduled Pg</th>\n",
       "    </tr>\n",
       "  </thead>\n",
       "  <tbody>\n",
       "    <tr>\n",
       "      <th>0</th>\n",
       "      <td>G1_up</td>\n",
       "      <td>E</td>\n",
       "      <td>50.0</td>\n",
       "      <td>0.0</td>\n",
       "    </tr>\n",
       "    <tr>\n",
       "      <th>1</th>\n",
       "      <td>G4_up</td>\n",
       "      <td>E</td>\n",
       "      <td>50.0</td>\n",
       "      <td>2.0</td>\n",
       "    </tr>\n",
       "    <tr>\n",
       "      <th>2</th>\n",
       "      <td>G5_up</td>\n",
       "      <td>E</td>\n",
       "      <td>50.0</td>\n",
       "      <td>20.0</td>\n",
       "    </tr>\n",
       "  </tbody>\n",
       "</table>\n",
       "</div>"
      ],
      "text/plain": [
       "      ID Region  Market Price  Scheduled Pg\n",
       "0  G1_up      E          50.0           0.0\n",
       "1  G4_up      E          50.0           2.0\n",
       "2  G5_up      E          50.0          20.0"
      ]
     },
     "execution_count": 4,
     "metadata": {},
     "output_type": "execute_result"
    }
   ],
   "source": [
    "up_df = pd.DataFrame({'ID' : ['G1','G4','G5'],\n",
    "                      'region' : ['E', 'E', 'E'],\n",
    "                      'up_g' : [15, 5, 20],\n",
    "                      'cost_up' : [80, 50, 35]})\n",
    "\n",
    "down_df = pd.DataFrame({'ID' : ['G5'],\n",
    "                        'region' : ['E'],\n",
    "                        'down_g' : [20],\n",
    "                        'cost_down' : [5]})\n",
    "delta = 22\n",
    "\n",
    "schedule_up, schedule_down, price = balancing_market.solver(up_df, down_df, delta)\n",
    "schedule_up"
   ]
  },
  {
   "cell_type": "code",
   "execution_count": 6,
   "metadata": {},
   "outputs": [
    {
     "data": {
      "text/html": [
       "<div>\n",
       "<style scoped>\n",
       "    .dataframe tbody tr th:only-of-type {\n",
       "        vertical-align: middle;\n",
       "    }\n",
       "\n",
       "    .dataframe tbody tr th {\n",
       "        vertical-align: top;\n",
       "    }\n",
       "\n",
       "    .dataframe thead th {\n",
       "        text-align: right;\n",
       "    }\n",
       "</style>\n",
       "<table border=\"1\" class=\"dataframe\">\n",
       "  <thead>\n",
       "    <tr style=\"text-align: right;\">\n",
       "      <th></th>\n",
       "      <th>ID</th>\n",
       "      <th>Region</th>\n",
       "      <th>Market Price</th>\n",
       "      <th>Scheduled Pg</th>\n",
       "    </tr>\n",
       "  </thead>\n",
       "  <tbody>\n",
       "    <tr>\n",
       "      <th>0</th>\n",
       "      <td>G1_up</td>\n",
       "      <td>E</td>\n",
       "      <td>35.0</td>\n",
       "      <td>0.0</td>\n",
       "    </tr>\n",
       "    <tr>\n",
       "      <th>1</th>\n",
       "      <td>G4_up</td>\n",
       "      <td>E</td>\n",
       "      <td>35.0</td>\n",
       "      <td>0.0</td>\n",
       "    </tr>\n",
       "    <tr>\n",
       "      <th>2</th>\n",
       "      <td>G5_up</td>\n",
       "      <td>E</td>\n",
       "      <td>35.0</td>\n",
       "      <td>10.0</td>\n",
       "    </tr>\n",
       "  </tbody>\n",
       "</table>\n",
       "</div>"
      ],
      "text/plain": [
       "      ID Region  Market Price  Scheduled Pg\n",
       "0  G1_up      E          35.0           0.0\n",
       "1  G4_up      E          35.0           0.0\n",
       "2  G5_up      E          35.0          10.0"
      ]
     },
     "execution_count": 6,
     "metadata": {},
     "output_type": "execute_result"
    }
   ],
   "source": [
    "up_df = pd.DataFrame({'ID' : ['G1','G4','G5'],\n",
    "                      'region' : ['E', 'E', 'E'],\n",
    "                      'up_g' : [15, 5, 20],\n",
    "                      'cost_up' : [80, 50, 35]})\n",
    "\n",
    "down_df = pd.DataFrame({'ID' : ['G5'],\n",
    "                        'region' : ['E'],\n",
    "                        'down_g' : [20],\n",
    "                        'cost_down' : [5]})\n",
    "delta = 10\n",
    "\n",
    "schedule_up, schedule_down, price = balancing_market.solver(up_df, down_df, delta)\n",
    "schedule_up"
   ]
  },
  {
   "cell_type": "code",
   "execution_count": null,
   "metadata": {},
   "outputs": [],
   "source": []
  }
 ],
 "metadata": {
  "kernelspec": {
   "display_name": "Python 3",
   "language": "python",
   "name": "python3"
  },
  "language_info": {
   "codemirror_mode": {
    "name": "ipython",
    "version": 3
   },
   "file_extension": ".py",
   "mimetype": "text/x-python",
   "name": "python",
   "nbconvert_exporter": "python",
   "pygments_lexer": "ipython3",
   "version": "3.7.1"
  }
 },
 "nbformat": 4,
 "nbformat_minor": 2
}
