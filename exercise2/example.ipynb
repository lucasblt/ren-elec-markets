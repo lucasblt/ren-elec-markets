{
 "cells": [
  {
   "cell_type": "code",
   "execution_count": 76,
   "metadata": {},
   "outputs": [],
   "source": [
    "import pulp as plp\n",
    "import pandas as pd\n",
    "import numpy as np\n",
    "import matplotlib.pyplot as plt"
   ]
  },
  {
   "cell_type": "code",
   "execution_count": 77,
   "metadata": {},
   "outputs": [],
   "source": [
    "g_df = pd.DataFrame({'region' : ['W', 'E', 'W', 'E', 'W', 'E', 'W','W','W','W','E','W','E','E','E'],\n",
    "                     'power_g' : [120, 50, 200, 400, 60, 50, 60, 100, 70, 50, 70, 45, 50, 60, 50],\n",
    "                     'cost_g' : [0, 0, 15, 30, 32.5, 34, 36, 37.5, 39, 40, 60, 70, 100, 150, 200]})\n",
    "d_df = pd.DataFrame({'region' : ['W','E','W','E','W','W','E','W','W','E','E','E'],\n",
    "                     'power_d' : [250, 300, 120, 80, 40, 70, 60, 45, 30, 35, 25, 10],\n",
    "                     'cost_d' : [200, 110, 100, 90, 85, 75, 65, 40, 38, 31, 24, 16]})\n",
    "# East Region\n",
    "power_g_e = g_df[g_df['region']=='E'].values[:,1].T.tolist()\n",
    "cost_g_e = g_df[g_df['region']=='E'].values[:,2].T.tolist()\n",
    "power_d_e = d_df[d_df['region']=='E'].values[:,1].T.tolist()\n",
    "cost_d_e = d_df[d_df['region']=='E'].values[:,2].T.tolist()\n",
    "\n",
    "# West Region\n",
    "power_g_w = g_df[g_df['region']=='W'].values[:,1].T.tolist()\n",
    "cost_g_w = g_df[g_df['region']=='W'].values[:,2].T.tolist()\n",
    "power_d_w = d_df[d_df['region']=='W'].values[:,1].T.tolist()\n",
    "cost_d_w = d_df[d_df['region']=='W'].values[:,2].T.tolist()\n",
    "\n",
    "# Interconnection\n",
    "limit = 40"
   ]
  },
  {
   "cell_type": "code",
   "execution_count": 78,
   "metadata": {},
   "outputs": [],
   "source": [
    "ng_e = len(power_g_e)\n",
    "nd_e = len(power_d_e)\n",
    "\n",
    "ng_w = len(power_g_w)\n",
    "nd_w = len(power_d_w)\n",
    "\n",
    "set_ng_e = range(1, ng_e + 1)\n",
    "set_nd_e = range(1, nd_e + 1)\n",
    "\n",
    "set_ng_w = range(1, ng_w + 1)\n",
    "set_nd_w = range(1, nd_w + 1)\n",
    "\n",
    "cg_e = {(i): cost_g_e[i-1] for i in set_ng_e}\n",
    "pg_e = {(i): power_g_e[i-1] for i in set_ng_e}\n",
    "cd_e = {(i): cost_d_e[i-1] for i in set_nd_e}\n",
    "pd_e = {(i): power_d_e[i-1] for i in set_nd_e}\n",
    "\n",
    "cg_w = {(i): cost_g_w[i-1] for i in set_ng_w}\n",
    "pg_w = {(i): power_g_w[i-1] for i in set_ng_w}\n",
    "cd_w = {(i): cost_d_w[i-1] for i in set_nd_w}\n",
    "pd_w = {(i): power_d_w[i-1] for i in set_nd_w}"
   ]
  },
  {
   "cell_type": "code",
   "execution_count": 79,
   "metadata": {},
   "outputs": [],
   "source": [
    "opt_model = plp.LpProblem(name=\"Model\")"
   ]
  },
  {
   "cell_type": "code",
   "execution_count": 80,
   "metadata": {},
   "outputs": [],
   "source": [
    "yg_e  = {(i): plp.LpVariable(cat='Continuous', lowBound=0, upBound=pg_e[i], name=\"yg_e_{}\".format(i)) for i in set_ng_e}\n",
    "yd_e  = {(i): plp.LpVariable(cat='Continuous', lowBound=0, upBound=pd_e[i], name=\"yd_e_{}\".format(i)) for i in set_nd_e}\n",
    "\n",
    "yg_w  = {(i): plp.LpVariable(cat='Continuous', lowBound=0, upBound=pg_w[i], name=\"yg_w_{}\".format(i)) for i in set_ng_w}\n",
    "yd_w  = {(i): plp.LpVariable(cat='Continuous', lowBound=0, upBound=pd_w[i], name=\"yd_w_{}\".format(i)) for i in set_nd_w}\n",
    "\n",
    "theta = plp.LpVariable(cat='Continuous', lowBound=-limit, upBound=limit, name=\"theta\")"
   ]
  },
  {
   "cell_type": "code",
   "execution_count": 81,
   "metadata": {},
   "outputs": [],
   "source": [
    "constraint_1 = plp.LpConstraint(\n",
    "                 e=plp.lpSum(yd_w[j] for j in set_nd_w) - plp.lpSum(yg_w[i] for i in set_ng_w)-theta,\n",
    "                 sense=plp.LpConstraintEQ,\n",
    "                 rhs=0,\n",
    "                 name=\"constraint_eq_1\")\n",
    "\n",
    "constraint_2 = plp.LpConstraint(\n",
    "                 e=plp.lpSum(yd_e[j] for j in set_nd_e) - plp.lpSum(yg_e[i] for i in set_ng_e)+theta,\n",
    "                 sense=plp.LpConstraintEQ,\n",
    "                 rhs=0,\n",
    "                 name=\"constraint_eq_2\")"
   ]
  },
  {
   "cell_type": "code",
   "execution_count": 83,
   "metadata": {},
   "outputs": [
    {
     "data": {
      "text/plain": [
       "1*theta + 1*yd_e_1 + 1*yd_e_2 + 1*yd_e_3 + 1*yd_e_4 + 1*yd_e_5 + 1*yd_e_6 + -1*yg_e_1 + -1*yg_e_2 + -1*yg_e_3 + -1*yg_e_4 + -1*yg_e_5 + -1*yg_e_6 + -1*yg_e_7 + 0 = 0"
      ]
     },
     "execution_count": 83,
     "metadata": {},
     "output_type": "execute_result"
    }
   ],
   "source": [
    "constraint_2"
   ]
  },
  {
   "cell_type": "code",
   "execution_count": 84,
   "metadata": {},
   "outputs": [],
   "source": [
    "opt_model += constraint_1, \"balance between supply and demand west\"\n",
    "opt_model += constraint_2, \"balance between supply and demand east\""
   ]
  },
  {
   "cell_type": "code",
   "execution_count": 85,
   "metadata": {},
   "outputs": [],
   "source": [
    "objective = plp.lpSum(yd_e[j]*cd_e[j] for j in set_nd_e) + plp.lpSum(yd_w[i]*cd_w[i] for i in set_nd_w) - (\n",
    "            plp.lpSum(yg_e[j]*cg_e[j] for j in set_ng_e) + plp.lpSum(yg_w[i]*cg_w[i] for i in set_ng_w))"
   ]
  },
  {
   "cell_type": "code",
   "execution_count": 86,
   "metadata": {},
   "outputs": [],
   "source": [
    "opt_model.sense = plp.LpMaximize\n",
    "opt_model.setObjective(objective)"
   ]
  },
  {
   "cell_type": "code",
   "execution_count": 87,
   "metadata": {},
   "outputs": [
    {
     "data": {
      "text/plain": [
       "1"
      ]
     },
     "execution_count": 87,
     "metadata": {},
     "output_type": "execute_result"
    }
   ],
   "source": [
    "opt_model.solve()\n",
    "#print(plp.LpStatus[opt_model.status])"
   ]
  },
  {
   "cell_type": "code",
   "execution_count": 88,
   "metadata": {},
   "outputs": [],
   "source": [
    "opt_g_e_df = pd.DataFrame.from_dict(yg_e, orient=\"index\", columns = [\"variable_object\"])\n",
    "opt_g_w_df = pd.DataFrame.from_dict(yg_w, orient=\"index\", columns = [\"variable_object\"])\n",
    "opt_g_df = pd.concat([opt_g_e_df, opt_g_w_df], ignore_index = True)\n",
    "opt_g_df[\"solution_value\"] = opt_g_df[\"variable_object\"].apply(lambda item: item.varValue)\n",
    "\n",
    "opt_d_e_df = pd.DataFrame.from_dict(yd_e, orient=\"index\", columns = [\"variable_object\"])\n",
    "opt_d_w_df = pd.DataFrame.from_dict(yd_w, orient=\"index\", columns = [\"variable_object\"])\n",
    "opt_d_df = pd.concat([opt_d_e_df, opt_d_w_df], ignore_index = True)\n",
    "opt_d_df[\"solution_value\"] = opt_d_df[\"variable_object\"].apply(lambda item: item.varValue)"
   ]
  },
  {
   "cell_type": "code",
   "execution_count": 89,
   "metadata": {},
   "outputs": [
    {
     "data": {
      "text/html": [
       "<div>\n",
       "<style scoped>\n",
       "    .dataframe tbody tr th:only-of-type {\n",
       "        vertical-align: middle;\n",
       "    }\n",
       "\n",
       "    .dataframe tbody tr th {\n",
       "        vertical-align: top;\n",
       "    }\n",
       "\n",
       "    .dataframe thead th {\n",
       "        text-align: right;\n",
       "    }\n",
       "</style>\n",
       "<table border=\"1\" class=\"dataframe\">\n",
       "  <thead>\n",
       "    <tr style=\"text-align: right;\">\n",
       "      <th></th>\n",
       "      <th>variable_object</th>\n",
       "      <th>solution_value</th>\n",
       "    </tr>\n",
       "  </thead>\n",
       "  <tbody>\n",
       "    <tr>\n",
       "      <th>0</th>\n",
       "      <td>yg_e_1</td>\n",
       "      <td>50.0</td>\n",
       "    </tr>\n",
       "    <tr>\n",
       "      <th>1</th>\n",
       "      <td>yg_e_2</td>\n",
       "      <td>400.0</td>\n",
       "    </tr>\n",
       "    <tr>\n",
       "      <th>2</th>\n",
       "      <td>yg_e_3</td>\n",
       "      <td>30.0</td>\n",
       "    </tr>\n",
       "    <tr>\n",
       "      <th>3</th>\n",
       "      <td>yg_e_4</td>\n",
       "      <td>0.0</td>\n",
       "    </tr>\n",
       "    <tr>\n",
       "      <th>4</th>\n",
       "      <td>yg_e_5</td>\n",
       "      <td>0.0</td>\n",
       "    </tr>\n",
       "    <tr>\n",
       "      <th>5</th>\n",
       "      <td>yg_e_6</td>\n",
       "      <td>0.0</td>\n",
       "    </tr>\n",
       "    <tr>\n",
       "      <th>6</th>\n",
       "      <td>yg_e_7</td>\n",
       "      <td>0.0</td>\n",
       "    </tr>\n",
       "    <tr>\n",
       "      <th>7</th>\n",
       "      <td>yg_w_1</td>\n",
       "      <td>120.0</td>\n",
       "    </tr>\n",
       "    <tr>\n",
       "      <th>8</th>\n",
       "      <td>yg_w_2</td>\n",
       "      <td>200.0</td>\n",
       "    </tr>\n",
       "    <tr>\n",
       "      <th>9</th>\n",
       "      <td>yg_w_3</td>\n",
       "      <td>60.0</td>\n",
       "    </tr>\n",
       "    <tr>\n",
       "      <th>10</th>\n",
       "      <td>yg_w_4</td>\n",
       "      <td>60.0</td>\n",
       "    </tr>\n",
       "    <tr>\n",
       "      <th>11</th>\n",
       "      <td>yg_w_5</td>\n",
       "      <td>75.0</td>\n",
       "    </tr>\n",
       "    <tr>\n",
       "      <th>12</th>\n",
       "      <td>yg_w_6</td>\n",
       "      <td>0.0</td>\n",
       "    </tr>\n",
       "    <tr>\n",
       "      <th>13</th>\n",
       "      <td>yg_w_7</td>\n",
       "      <td>0.0</td>\n",
       "    </tr>\n",
       "    <tr>\n",
       "      <th>14</th>\n",
       "      <td>yg_w_8</td>\n",
       "      <td>0.0</td>\n",
       "    </tr>\n",
       "  </tbody>\n",
       "</table>\n",
       "</div>"
      ],
      "text/plain": [
       "   variable_object  solution_value\n",
       "0           yg_e_1            50.0\n",
       "1           yg_e_2           400.0\n",
       "2           yg_e_3            30.0\n",
       "3           yg_e_4             0.0\n",
       "4           yg_e_5             0.0\n",
       "5           yg_e_6             0.0\n",
       "6           yg_e_7             0.0\n",
       "7           yg_w_1           120.0\n",
       "8           yg_w_2           200.0\n",
       "9           yg_w_3            60.0\n",
       "10          yg_w_4            60.0\n",
       "11          yg_w_5            75.0\n",
       "12          yg_w_6             0.0\n",
       "13          yg_w_7             0.0\n",
       "14          yg_w_8             0.0"
      ]
     },
     "execution_count": 89,
     "metadata": {},
     "output_type": "execute_result"
    }
   ],
   "source": [
    "opt_g_df"
   ]
  },
  {
   "cell_type": "code",
   "execution_count": 90,
   "metadata": {},
   "outputs": [
    {
     "data": {
      "text/html": [
       "<div>\n",
       "<style scoped>\n",
       "    .dataframe tbody tr th:only-of-type {\n",
       "        vertical-align: middle;\n",
       "    }\n",
       "\n",
       "    .dataframe tbody tr th {\n",
       "        vertical-align: top;\n",
       "    }\n",
       "\n",
       "    .dataframe thead th {\n",
       "        text-align: right;\n",
       "    }\n",
       "</style>\n",
       "<table border=\"1\" class=\"dataframe\">\n",
       "  <thead>\n",
       "    <tr style=\"text-align: right;\">\n",
       "      <th></th>\n",
       "      <th>variable_object</th>\n",
       "      <th>solution_value</th>\n",
       "    </tr>\n",
       "  </thead>\n",
       "  <tbody>\n",
       "    <tr>\n",
       "      <th>0</th>\n",
       "      <td>yd_e_1</td>\n",
       "      <td>300.0</td>\n",
       "    </tr>\n",
       "    <tr>\n",
       "      <th>1</th>\n",
       "      <td>yd_e_2</td>\n",
       "      <td>80.0</td>\n",
       "    </tr>\n",
       "    <tr>\n",
       "      <th>2</th>\n",
       "      <td>yd_e_3</td>\n",
       "      <td>60.0</td>\n",
       "    </tr>\n",
       "    <tr>\n",
       "      <th>3</th>\n",
       "      <td>yd_e_4</td>\n",
       "      <td>0.0</td>\n",
       "    </tr>\n",
       "    <tr>\n",
       "      <th>4</th>\n",
       "      <td>yd_e_5</td>\n",
       "      <td>0.0</td>\n",
       "    </tr>\n",
       "    <tr>\n",
       "      <th>5</th>\n",
       "      <td>yd_e_6</td>\n",
       "      <td>0.0</td>\n",
       "    </tr>\n",
       "    <tr>\n",
       "      <th>6</th>\n",
       "      <td>yd_w_1</td>\n",
       "      <td>250.0</td>\n",
       "    </tr>\n",
       "    <tr>\n",
       "      <th>7</th>\n",
       "      <td>yd_w_2</td>\n",
       "      <td>120.0</td>\n",
       "    </tr>\n",
       "    <tr>\n",
       "      <th>8</th>\n",
       "      <td>yd_w_3</td>\n",
       "      <td>40.0</td>\n",
       "    </tr>\n",
       "    <tr>\n",
       "      <th>9</th>\n",
       "      <td>yd_w_4</td>\n",
       "      <td>70.0</td>\n",
       "    </tr>\n",
       "    <tr>\n",
       "      <th>10</th>\n",
       "      <td>yd_w_5</td>\n",
       "      <td>45.0</td>\n",
       "    </tr>\n",
       "    <tr>\n",
       "      <th>11</th>\n",
       "      <td>yd_w_6</td>\n",
       "      <td>30.0</td>\n",
       "    </tr>\n",
       "  </tbody>\n",
       "</table>\n",
       "</div>"
      ],
      "text/plain": [
       "   variable_object  solution_value\n",
       "0           yd_e_1           300.0\n",
       "1           yd_e_2            80.0\n",
       "2           yd_e_3            60.0\n",
       "3           yd_e_4             0.0\n",
       "4           yd_e_5             0.0\n",
       "5           yd_e_6             0.0\n",
       "6           yd_w_1           250.0\n",
       "7           yd_w_2           120.0\n",
       "8           yd_w_3            40.0\n",
       "9           yd_w_4            70.0\n",
       "10          yd_w_5            45.0\n",
       "11          yd_w_6            30.0"
      ]
     },
     "execution_count": 90,
     "metadata": {},
     "output_type": "execute_result"
    }
   ],
   "source": [
    "opt_d_df"
   ]
  },
  {
   "cell_type": "code",
   "execution_count": 91,
   "metadata": {},
   "outputs": [
    {
     "name": "stdout",
     "output_type": "stream",
     "text": [
      "37.5\n",
      "34.0\n"
     ]
    }
   ],
   "source": [
    "for name, c in list(opt_model.constraints.items()):\n",
    "    print(c.pi)"
   ]
  },
  {
   "cell_type": "code",
   "execution_count": 92,
   "metadata": {},
   "outputs": [
    {
     "name": "stdout",
     "output_type": "stream",
     "text": [
      "40.0\n"
     ]
    }
   ],
   "source": [
    "print(theta.varValue)"
   ]
  },
  {
   "cell_type": "code",
   "execution_count": null,
   "metadata": {},
   "outputs": [],
   "source": []
  }
 ],
 "metadata": {
  "kernelspec": {
   "display_name": "Python 3",
   "language": "python",
   "name": "python3"
  },
  "language_info": {
   "codemirror_mode": {
    "name": "ipython",
    "version": 3
   },
   "file_extension": ".py",
   "mimetype": "text/x-python",
   "name": "python",
   "nbconvert_exporter": "python",
   "pygments_lexer": "ipython3",
   "version": "3.7.1"
  }
 },
 "nbformat": 4,
 "nbformat_minor": 2
}
