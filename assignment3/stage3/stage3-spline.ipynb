{
 "cells": [
  {
   "cell_type": "code",
   "execution_count": null,
   "metadata": {},
   "outputs": [],
   "source": [
    "import math\n",
    "import pandas as pd\n",
    "import numpy as np\n",
    "import scipy\n",
    "import statsmodels.api as sm\n",
    "import matplotlib.pyplot as plt\n",
    "from scipy import stats\n",
    "from datetime import datetime\n",
    "from sklearn import preprocessing\n",
    "from sklearn.model_selection import KFold\n",
    "from sklearn.linear_model import LinearRegression\n",
    "from sklearn.metrics import mean_squared_error, r2_score\n",
    "from sklearn.preprocessing import PolynomialFeatures\n",
    "from sklearn.linear_model import Ridge\n",
    "from sklearn.metrics import mean_squared_error\n",
    "from math import sqrt\n",
    "%matplotlib inline\n",
    "\n"
   ]
  },
  {
   "cell_type": "markdown",
   "metadata": {},
   "source": [
    "# Reading data"
   ]
  },
  {
   "cell_type": "code",
   "execution_count": null,
   "metadata": {},
   "outputs": [],
   "source": [
    "traindata_df = pd.read_csv('data/TrainData2.csv', delimiter = ',').dropna().reset_index(drop=True)\n",
    "traindata_df['TIMESTAMP'] = pd.to_datetime(traindata_df['TIMESTAMP'], format='%Y%m%d %H:%M')\n",
    "traindata_df = traindata_df.set_index('TIMESTAMP')\n",
    "std_dev = 3\n",
    "traindata_df = traindata_df[(np.abs(stats.zscore(traindata_df)) < float(std_dev)).all(axis=1)]"
   ]
  },
  {
   "cell_type": "code",
   "execution_count": null,
   "metadata": {},
   "outputs": [],
   "source": [
    "forecast_df = pd.read_csv('data/WeatherForecastInput2.csv', delimiter = ',')\n",
    "forecast_df['TIMESTAMP'] = pd.to_datetime(forecast_df['TIMESTAMP'], format='%Y%m%d %H:%M')\n",
    "forecast_df = forecast_df.set_index('TIMESTAMP')"
   ]
  },
  {
   "cell_type": "code",
   "execution_count": 4,
   "metadata": {},
   "outputs": [],
   "source": [
    "results_st2 = pd.read_csv('data/Solution2.csv', delimiter = ',')\n",
    "results_st2['TIMESTAMP'] = pd.to_datetime(results_st2['TIMESTAMP'], format='%Y%m%d %H:%M')\n",
    "results_st2 = results_st2.set_index('TIMESTAMP')"
   ]
  },
  {
   "cell_type": "markdown",
   "metadata": {},
   "source": [
    "# Feature Engineering"
   ]
  },
  {
   "cell_type": "code",
   "execution_count": 5,
   "metadata": {},
   "outputs": [],
   "source": [
    "X = pd.DataFrame()\n",
    "X['U10'] = traindata_df['U10']\n",
    "X['U100'] = traindata_df['U100']\n",
    "X['V10'] = traindata_df['V10']\n",
    "X['V100'] = traindata_df['V100']\n",
    "X['U10^2'] = X['U10']**2\n",
    "X['U100^2'] = X['U100']**2\n",
    "X['V10^2'] = X['V10']**2\n",
    "X['V100^2'] = X['V100']**2\n",
    "X['U10^3'] = X['U10']**3\n",
    "X['U100^3'] = X['U100']**3\n",
    "X['V10^3'] = X['V10']**3\n",
    "X['V100^3'] = X['V100']**3\n",
    "\n",
    "X['W10'] = (np.sqrt(traindata_df['U10']**2 + traindata_df['V10']**2))\n",
    "X['W100'] = (np.sqrt(traindata_df['U100']**2 + traindata_df['V100']**2))\n",
    "X['W10^2'] = X['W10']**2\n",
    "X['W100^2'] = X['W100']**2\n",
    "X['W10^3'] = X['W10']**3\n",
    "X['W100^3'] = X['W100']**3\n",
    "X['cosTheta10'] = traindata_df['U10']/X['W10']\n",
    "X['sinTheta10'] = traindata_df['V10']/X['W10']\n",
    "X['cosTheta100'] = traindata_df['U100']/X['W100']\n",
    "X['sinTheta100'] = traindata_df['V100']/X['W100']\n",
    "\n",
    "X['beta_0'] = 1\n",
    "\n",
    "X['hour'] = X.index.hour\n",
    "X['year'] = X.index.year\n",
    "X['month'] = X.index.month\n",
    "\n",
    "hour_df = pd.get_dummies(X['hour'])\n",
    "X = X.drop(['hour'], axis=1)\n",
    "X = X.join(hour_df, how = 'left')\n",
    "\n",
    "y = traindata_df[['POWER']].copy()\n",
    "\n",
    "X_pred = pd.DataFrame()\n",
    "\n",
    "X_pred['U10'] = forecast_df['U10']\n",
    "X_pred['U100'] = forecast_df['U100']\n",
    "X_pred['V10'] = forecast_df['V10']\n",
    "X_pred['V100'] = forecast_df['V100']\n",
    "X_pred['U10^2'] = X_pred['U10']**2\n",
    "X_pred['U100^2'] = X_pred['U100']**2\n",
    "X_pred['V10^2'] = X_pred['V10']**2\n",
    "X_pred['V100^2'] = X_pred['V100']**2\n",
    "X_pred['U10^3'] = X_pred['U10']**3\n",
    "X_pred['U100^3'] = X_pred['U100']**3\n",
    "X_pred['V10^3'] = X_pred['V10']**3\n",
    "X_pred['V100^3'] = X_pred['V100']**3\n",
    "\n",
    "X_pred['W10'] = (np.sqrt(forecast_df['U10']**2 + forecast_df['V10']**2))\n",
    "X_pred['W100'] = (np.sqrt(forecast_df['U100']**2 + forecast_df['V100']**2))\n",
    "X_pred['W10^2'] = X_pred['W10']**2\n",
    "X_pred['W100^2'] = X_pred['W100']**2\n",
    "X_pred['W10^3'] = X_pred['W10']**3\n",
    "X_pred['W100^3'] = X_pred['W100']**3\n",
    "X_pred['cosTheta10'] = forecast_df['U10']/X_pred['W10']\n",
    "X_pred['sinTheta10'] = forecast_df['V10']/X_pred['W10']\n",
    "X_pred['cosTheta100'] = forecast_df['U100']/X_pred['W100']\n",
    "X_pred['sinTheta100'] = forecast_df['V100']/X_pred['W100']\n",
    "\n",
    "X_pred['beta_0'] = 1\n",
    "\n",
    "X_pred['hour'] = X_pred.index.hour\n",
    "X_pred['year'] = X_pred.index.year\n",
    "X_pred['month'] = X_pred.index.month\n",
    "\n",
    "hour_pred_df = pd.get_dummies(X_pred['hour'],prefix='h')\n",
    "X_pred = X_pred.drop(['hour'], axis=1)\n",
    "X_pred = X_pred.join(hour_pred_df, how = 'left')\n"
   ]
  },
  {
   "cell_type": "code",
   "execution_count": null,
   "metadata": {},
   "outputs": [],
   "source": []
  },
  {
   "cell_type": "markdown",
   "metadata": {},
   "source": [
    "# Third stage"
   ]
  },
  {
   "cell_type": "code",
   "execution_count": 13,
   "metadata": {},
   "outputs": [
    {
     "ename": "AttributeError",
     "evalue": "module 'statsmodels.api' has no attribute 'arima_model'",
     "output_type": "error",
     "traceback": [
      "\u001b[0;31m---------------------------------------------------------------------------\u001b[0m",
      "\u001b[0;31mAttributeError\u001b[0m                            Traceback (most recent call last)",
      "\u001b[0;32m<ipython-input-13-5b270dbccf88>\u001b[0m in \u001b[0;36m<module>\u001b[0;34m\u001b[0m\n\u001b[1;32m      1\u001b[0m \u001b[0;31m#X1 = sm.add_constant(X_pred)\u001b[0m\u001b[0;34m\u001b[0m\u001b[0;34m\u001b[0m\u001b[0;34m\u001b[0m\u001b[0m\n\u001b[1;32m      2\u001b[0m \u001b[0;31m#X_pred = sm.add_constant(X_pred)\u001b[0m\u001b[0;34m\u001b[0m\u001b[0;34m\u001b[0m\u001b[0;34m\u001b[0m\u001b[0m\n\u001b[0;32m----> 3\u001b[0;31m \u001b[0mmodel\u001b[0m \u001b[0;34m=\u001b[0m \u001b[0msm\u001b[0m\u001b[0;34m.\u001b[0m\u001b[0marima_model\u001b[0m\u001b[0;34m(\u001b[0m\u001b[0my\u001b[0m\u001b[0;34m,\u001b[0m\u001b[0mX\u001b[0m\u001b[0;34m)\u001b[0m\u001b[0;34m\u001b[0m\u001b[0;34m\u001b[0m\u001b[0m\n\u001b[0m",
      "\u001b[0;31mAttributeError\u001b[0m: module 'statsmodels.api' has no attribute 'arima_model'"
     ]
    }
   ],
   "source": [
    "#X1 = sm.add_constant(X_pred)\n",
    "#X_pred = sm.add_constant(X_pred)\n",
    "model = sm.arima_model(y,X)"
   ]
  },
  {
   "cell_type": "code",
   "execution_count": 7,
   "metadata": {},
   "outputs": [],
   "source": [
    "results = model.fit()"
   ]
  },
  {
   "cell_type": "code",
   "execution_count": 8,
   "metadata": {},
   "outputs": [
    {
     "data": {
      "text/plain": [
       "0.1503318994237806"
      ]
     },
     "execution_count": 8,
     "metadata": {},
     "output_type": "execute_result"
    }
   ],
   "source": [
    "pred = results.predict(X_pred)\n",
    "sqrt(mean_squared_error(results_st2,pred))"
   ]
  },
  {
   "cell_type": "code",
   "execution_count": null,
   "metadata": {},
   "outputs": [],
   "source": []
  }
 ],
 "metadata": {
  "kernelspec": {
   "display_name": "Python 3",
   "language": "python",
   "name": "python3"
  },
  "language_info": {
   "codemirror_mode": {
    "name": "ipython",
    "version": 3
   },
   "file_extension": ".py",
   "mimetype": "text/x-python",
   "name": "python",
   "nbconvert_exporter": "python",
   "pygments_lexer": "ipython3",
   "version": "3.7.2"
  }
 },
 "nbformat": 4,
 "nbformat_minor": 2
}
