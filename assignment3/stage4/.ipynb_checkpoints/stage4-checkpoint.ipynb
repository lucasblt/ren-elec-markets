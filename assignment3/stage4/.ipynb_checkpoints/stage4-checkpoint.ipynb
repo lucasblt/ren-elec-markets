{
 "cells": [
  {
   "cell_type": "code",
   "execution_count": null,
   "metadata": {},
   "outputs": [],
   "source": [
    "import math\n",
    "import pandas as pd\n",
    "import numpy as np\n",
    "import scipy\n",
    "from scipy import stats\n",
    "from datetime import datetime\n",
    "from sklearn.linear_model import LinearRegression\n",
    "from sklearn.preprocessing import PolynomialFeatures\n",
    "from sklearn.metrics import mean_squared_error\n",
    "from math import sqrt\n",
    "import matplotlib.pyplot as plt\n",
    "%matplotlib inline\n"
   ]
  },
  {
   "cell_type": "markdown",
   "metadata": {},
   "source": [
    "# Reading data"
   ]
  },
  {
   "cell_type": "code",
   "execution_count": null,
   "metadata": {},
   "outputs": [],
   "source": [
    "train_df = pd.read_csv('data/TrainData4.csv', delimiter = ',').dropna().reset_index(drop=True)\n",
    "train_df['TIMESTAMP'] = pd.to_datetime(train_df['TIMESTAMP'], format='%Y%m%d %H:%M')\n",
    "train_df = train_df.set_index('TIMESTAMP')\n",
    "std_dev = 3\n",
    "train_df = train_df[(np.abs(stats.zscore(train_df)) < float(std_dev)).all(axis=1)]"
   ]
  },
  {
   "cell_type": "code",
   "execution_count": null,
   "metadata": {},
   "outputs": [],
   "source": [
    "pred_df = pd.read_csv('data/WeatherForecastInput4.csv', delimiter = ',')\n",
    "pred_df['TIMESTAMP'] = pd.to_datetime(pred_df['TIMESTAMP'], format='%Y%m%d %H:%M')\n",
    "pred_df = pred_df.set_index('TIMESTAMP')"
   ]
  },
  {
   "cell_type": "markdown",
   "metadata": {},
   "source": [
    "result_st2 = pd.read_csv('data/Solution3.csv', delimiter = ',')\n",
    "result_st2['TIMESTAMP'] = pd.to_datetime(result_st2['TIMESTAMP'], format='%Y%m%d %H:%M')\n",
    "result_st2 = result_st2.set_index('TIMESTAMP')"
   ]
  },
  {
   "cell_type": "markdown",
   "metadata": {},
   "source": [
    "# Feature Engineering"
   ]
  },
  {
   "cell_type": "code",
   "execution_count": null,
   "metadata": {},
   "outputs": [],
   "source": [
    "#Dataset containing the traindata and all the features\n",
    "X = pd.DataFrame()\n",
    "#X['U10'] = train_df['U10']\n",
    "#X['U100'] = train_df['U100']\n",
    "#X['V10'] = train_df['V10']\n",
    "#X['V100'] = train_df['V100']\n",
    "#X['U10^2'] = X['U10']**2\n",
    "#X['U100^2'] = X['U100']**2\n",
    "#X['V10^2'] = X['V10']**2\n",
    "#X['V100^2'] = X['V100']**2\n",
    "#X['U10^3'] = X['U10']**3\n",
    "#X['U100^3'] = X['U100']**3\n",
    "#X['V10^3'] = X['V10']**3\n",
    "#X['V100^3'] = X['V100']**3\n",
    "\n",
    "X['W10'] = np.sqrt(train_df['U10']**2 + train_df['V10']**2)\n",
    "X['W100'] = np.sqrt(train_df['U100']**2 + train_df['V100']**2)\n",
    "X['W10^2'] = X['W10']**2\n",
    "X['W100^2'] = X['W100']**2\n",
    "X['W10^3'] = X['W10']**3\n",
    "X['W100^3'] = X['W100']**3\n",
    "X['W10^4'] = X['W10']**4\n",
    "X['W100^4'] = X['W100']**4\n",
    "X['cosTheta10'] = train_df['U10']/X['W10']\n",
    "X['sinTheta10'] = train_df['V10']/X['W10']\n",
    "X['cosTheta100'] = train_df['U100']/X['W100']\n",
    "X['sinTheta100'] = train_df['V100']/X['W100']\n",
    "\n",
    "X['beta_0'] = 1\n",
    "\n",
    "#Perform a one-out-K-encoding on the hour and month attributes\n",
    "X['hour'] = X.index.hour\n",
    "hour_df = pd.get_dummies(X['hour'],prefix='h')\n",
    "X = X.drop(['hour'], axis=1)\n",
    "X = X.join(hour_df, how = 'left')\n",
    "\n",
    "X['month'] = X.index.month\n",
    "#month_df = pd.get_dummies(X['month'],prefix='m')\n",
    "#X = X.drop(['month'], axis=1)\n",
    "#X = X.join(month_df, how = 'left')\n",
    "\n",
    "X['year'] = X.index.year\n",
    "\n",
    "y = train_df[['POWER']].copy()\n"
   ]
  },
  {
   "cell_type": "code",
   "execution_count": null,
   "metadata": {},
   "outputs": [],
   "source": [
    "#Dataset containing the forecasted values of wind speed and its relations as new attributes\n",
    "X_pred = pd.DataFrame()\n",
    "\n",
    "#X_pred['U10'] = pred_df['U10']\n",
    "#X_pred['U100'] = pred_df['U100']\n",
    "#X_pred['V10'] = pred_df['V10']\n",
    "#X_pred['V100'] = pred_df['V100']\n",
    "#X_pred['U10^2'] = X_pred['U10']**2\n",
    "#X_pred['U100^2'] = X_pred['U100']**2\n",
    "#X_pred['V10^2'] = X_pred['V10']**2\n",
    "#X_pred['V100^2'] = X_pred['V100']**2\n",
    "#X_pred['U10^3'] = X_pred['U10']**3\n",
    "#X_pred['U100^3'] = X_pred['U100']**3\n",
    "#X_pred['V10^3'] = X_pred['V10']**3\n",
    "#X_pred['V100^3'] = X_pred['V100']**3\n",
    "\n",
    "X_pred['W10'] = np.sqrt(pred_df['U10']**2 + pred_df['V10']**2)\n",
    "X_pred['W100'] = np.sqrt(pred_df['U100']**2 + pred_df['V100']**2)\n",
    "X_pred['W10^2'] = X_pred['W10']**2\n",
    "X_pred['W100^2'] = X_pred['W100']**2\n",
    "X_pred['W10^3'] = X_pred['W10']**3\n",
    "X_pred['W100^3'] = X_pred['W100']**3\n",
    "X_pred['W10^4'] = X_pred['W10']**4\n",
    "X_pred['W100^4'] = X_pred['W100']**4\n",
    "X_pred['cosTheta10'] = pred_df['U10']/X_pred['W10']\n",
    "X_pred['sinTheta10'] = pred_df['V10']/X_pred['W10']\n",
    "X_pred['cosTheta100'] = pred_df['U100']/X_pred['W100']\n",
    "X_pred['sinTheta100'] = pred_df['V100']/X_pred['W100']\n",
    "\n",
    "X_pred['beta_0'] = 1\n",
    "\n",
    "#Perform a one-out-K-encoding on the hour and month attributes\n",
    "X_pred['hour'] = X_pred.index.hour\n",
    "hour_pred_df = pd.get_dummies(X_pred['hour'],prefix='h')\n",
    "X_pred = X_pred.drop(['hour'], axis=1)\n",
    "X_pred = X_pred.join(hour_pred_df, how = 'left')\n",
    "\n",
    "X_pred['month'] = X_pred.index.month\n",
    "#month_pred_df = pd.get_dummies(X_pred['month'],prefix='m')\n",
    "#for i in range(X_pred['month'].max()+1,13):\n",
    "#    month_pred_df['m_'+str(i)] = 0\n",
    "#X_pred = X_pred.drop(['month'], axis=1)\n",
    "#X_pred = X_pred.join(month_pred_df, how = 'left')\n",
    "\n",
    "X_pred['year'] = X_pred.index.year"
   ]
  },
  {
   "cell_type": "code",
   "execution_count": null,
   "metadata": {},
   "outputs": [],
   "source": [
    "results = result_st2['POWER'].values.reshape(len(result_st2))"
   ]
  },
  {
   "cell_type": "markdown",
   "metadata": {},
   "source": [
    "# Third stage"
   ]
  },
  {
   "cell_type": "code",
   "execution_count": null,
   "metadata": {
    "scrolled": false
   },
   "outputs": [],
   "source": [
    "scores = []\n",
    "output = pd.DataFrame()\n",
    "\n",
    "#n = [2,5,7,10,12,15,20]\n",
    "\n",
    "n = [10]\n",
    "\n",
    "for j in n[1:]:\n",
    "    data = X.join(y)\n",
    "    data_pred = X_pred\n",
    "\n",
    "    data_dict = {}\n",
    "    data_pred_dict = {}\n",
    "\n",
    "    models = {}\n",
    "\n",
    "    predictions = {}\n",
    "\n",
    "    timestamps = {}\n",
    "\n",
    "    dict_df = {}\n",
    "\n",
    "\n",
    "    N = j\n",
    "    \n",
    "    delta = 20/N\n",
    "    \n",
    "    for i in range(N):\n",
    "        data_dict.update({i : data[(data['W10'] >= (i*delta)) & (data['W10'] < ((i+1)*delta))]})\n",
    "        data_pred_dict.update({i : data_pred[(data_pred['W10'] >= (i*delta)) & (data_pred['W10'] < ((i+1)*delta))]})\n",
    "        X_aux = data_dict[i].values[:,:-1]\n",
    "        y_aux = data_dict[i].values[:,-1]\n",
    "        models.update({i : LinearRegression().fit(X_aux,y_aux)})\n",
    "\n",
    "        X_pred_aux = data_pred_dict[i].values\n",
    "        timestamps.update({i : data_pred_dict[i].index})\n",
    "\n",
    "        if X_pred_aux.shape[0] != 0:\n",
    "            predictions.update({i : models[i].predict(X_pred_aux).clip(min=0,max=1)})\n",
    "        else:\n",
    "            predictions.update({i : []})\n",
    "\n",
    "        df_pred = pd.DataFrame(predictions[i])\n",
    "        df_time = pd.DataFrame(timestamps[i])\n",
    "\n",
    "        dict_df.update({i : df_time.join(df_pred).set_index('TIMESTAMP')})\n",
    "\n",
    "    df = dict_df[0]\n",
    "\n",
    "    for i in range(N-1):\n",
    "        df = pd.concat([df, dict_df[i+1]])\n",
    "\n",
    "    predictions = df.sort_index().values\n",
    "    \n",
    "    #rmse = np.sqrt(mean_squared_error(predictions,results))\n",
    "\n",
    "    #scores.append(100*rmse)"
   ]
  },
  {
   "cell_type": "code",
   "execution_count": 1,
   "metadata": {},
   "outputs": [
    {
     "ename": "NameError",
     "evalue": "name 'predictions' is not defined",
     "output_type": "error",
     "traceback": [
      "\u001b[1;31m---------------------------------------------------------------------------\u001b[0m",
      "\u001b[1;31mNameError\u001b[0m                                 Traceback (most recent call last)",
      "\u001b[1;32m<ipython-input-1-fd2951b82103>\u001b[0m in \u001b[0;36m<module>\u001b[1;34m\u001b[0m\n\u001b[1;32m----> 1\u001b[1;33m \u001b[0mpredictions\u001b[0m\u001b[1;33m\u001b[0m\u001b[1;33m\u001b[0m\u001b[0m\n\u001b[0m",
      "\u001b[1;31mNameError\u001b[0m: name 'predictions' is not defined"
     ]
    }
   ],
   "source": [
    "predictions"
   ]
  },
  {
   "cell_type": "code",
   "execution_count": null,
   "metadata": {},
   "outputs": [],
   "source": []
  }
 ],
 "metadata": {
  "kernelspec": {
   "display_name": "Python 3",
   "language": "python",
   "name": "python3"
  },
  "language_info": {
   "codemirror_mode": {
    "name": "ipython",
    "version": 3
   },
   "file_extension": ".py",
   "mimetype": "text/x-python",
   "name": "python",
   "nbconvert_exporter": "python",
   "pygments_lexer": "ipython3",
   "version": "3.7.1"
  }
 },
 "nbformat": 4,
 "nbformat_minor": 2
}
