{
 "cells": [
  {
   "cell_type": "code",
   "execution_count": 98,
   "metadata": {},
   "outputs": [],
   "source": [
    "import math\n",
    "import pandas as pd\n",
    "import numpy as np\n",
    "from scipy import stats\n",
    "from datetime import datetime\n",
    "from sklearn import preprocessing\n",
    "from sklearn.model_selection import KFold\n",
    "from sklearn.linear_model import LinearRegression\n",
    "from sklearn.metrics import mean_squared_error, r2_score\n",
    "from sklearn.preprocessing import PolynomialFeatures\n",
    "from sklearn.kernel_ridge import KernelRidge\n",
    "import matplotlib.pyplot as plt\n",
    "%matplotlib inline"
   ]
  },
  {
   "cell_type": "markdown",
   "metadata": {},
   "source": [
    "# Reading data"
   ]
  },
  {
   "cell_type": "code",
   "execution_count": 2,
   "metadata": {},
   "outputs": [],
   "source": [
    "train_df = pd.read_csv('data/TrainData2.csv', delimiter = ',').dropna().reset_index(drop=True)\n",
    "train_df['TIMESTAMP'] = pd.to_datetime(train_df['TIMESTAMP'], format='%Y%m%d %H:%M')\n",
    "train_df = train_df.set_index('TIMESTAMP')\n",
    "std_dev = 3\n",
    "train_df = train_df[(np.abs(stats.zscore(train_df)) < float(std_dev)).all(axis=1)]"
   ]
  },
  {
   "cell_type": "code",
   "execution_count": 3,
   "metadata": {},
   "outputs": [],
   "source": [
    "pred_df = pd.read_csv('data/WeatherForecastInput2.csv', delimiter = ',')\n",
    "pred_df['TIMESTAMP'] = pd.to_datetime(pred_df['TIMESTAMP'], format='%Y%m%d %H:%M')\n",
    "pred_df = pred_df.set_index('TIMESTAMP')"
   ]
  },
  {
   "cell_type": "markdown",
   "metadata": {},
   "source": [
    "# Model 1"
   ]
  },
  {
   "cell_type": "code",
   "execution_count": null,
   "metadata": {},
   "outputs": [],
   "source": [
    "X_train = train_df[['U10', 'V10', 'U100', 'V100']].copy()\n",
    "y_train = train_df[['POWER']].copy()\n",
    "\n",
    "X_est = pred_df[['U10', 'V10', 'U100', 'V100']].copy()\n",
    "\n",
    "polynomial_features = PolynomialFeatures(degree=3)\n",
    "\n",
    "X_train = pd.DataFrame(polynomial_features.fit_transform(X_train))\n",
    "X_est = pd.DataFrame(polynomial_features.fit_transform(X_est))\n",
    "\n",
    "model = LinearRegression()\n",
    "scores =[]\n",
    "\n",
    "kfold = KFold(n_splits=2, shuffle=True, random_state=42)\n",
    "\n",
    "for i, (train, test) in enumerate(kfold.split(X_train, y_train)):\n",
    "    model.fit(X_train.iloc[train,:], y_train.iloc[train,:])\n",
    "    y_est = model.predict(X_train.iloc[test,:])\n",
    "    error = (y_est - y_train.iloc[test,:])**2\n",
    "    RMSE = math.sqrt(error.sum())/len(y_est)\n",
    "    scores.append(RMSE)\n",
    "print(scores)"
   ]
  },
  {
   "cell_type": "markdown",
   "metadata": {},
   "source": [
    "# Model 2"
   ]
  },
  {
   "cell_type": "code",
   "execution_count": null,
   "metadata": {},
   "outputs": [],
   "source": [
    "X_train = pd.DataFrame()\n",
    "X_train['W10'] = np.sqrt(train_df['U10']**2 + train_df['V10']**2)\n",
    "X_train['W100'] = np.sqrt(train_df['U100']**2 + train_df['V100']**2)\n",
    "\n",
    "y_train = train_df[['POWER']].copy()\n",
    "\n",
    "X_est = pd.DataFrame()\n",
    "X_est['W10'] = np.sqrt(pred_df['U10']**2 + pred_df['V10']**2)\n",
    "X_est['W100'] = np.sqrt(pred_df['U100']**2 + pred_df['V100']**2)\n",
    "\n",
    "polynomial_features = PolynomialFeatures(degree=3)\n",
    "\n",
    "X_train = pd.DataFrame(polynomial_features.fit_transform(X_train))\n",
    "X_est = pd.DataFrame(polynomial_features.fit_transform(X_est))\n",
    "\n",
    "model = LinearRegression()\n",
    "scores =[]\n",
    "\n",
    "kfold = KFold(n_splits=2, shuffle=True, random_state=42)\n",
    "\n",
    "for i, (train, test) in enumerate(kfold.split(X_train, y_train)):\n",
    "    model.fit(X_train.iloc[train,:], y_train.iloc[train,:])\n",
    "    y_est = model.predict(X_train.iloc[test,:])\n",
    "    error = (y_est - y_train.iloc[test,:])**2\n",
    "    RMSE = math.sqrt(error.sum())/len(y_est)\n",
    "    scores.append(RMSE)\n",
    "print(scores)"
   ]
  },
  {
   "cell_type": "code",
   "execution_count": null,
   "metadata": {},
   "outputs": [],
   "source": [
    "stage1 = pd.DataFrame(model2.predict(X_est2)).to_csv('stage1.csv', index = False)"
   ]
  },
  {
   "cell_type": "markdown",
   "metadata": {},
   "source": [
    "# Model 3"
   ]
  },
  {
   "cell_type": "code",
   "execution_count": null,
   "metadata": {},
   "outputs": [],
   "source": [
    "X_train3 = train_df\n",
    "X_train3['beta_0'] = 1\n",
    "X_train3 = X_train3.drop(columns=['U10', 'V10', 'U100', 'V100', 'POWER'])\n",
    "X_train3['W10'] = np.sqrt(train_df['U10']**2 + train_df['V10']**2)\n",
    "X_train3['W100'] = np.sqrt(train_df['U100']**2 + train_df['V100']**2)\n",
    "X_train3['W10^3'] = X_train3['W10']**3\n",
    "X_train3['W100^3'] = X_train3['W100']**3\n",
    "\n",
    "y_train3 = train_df[['POWER']].copy()\n",
    "\n",
    "X_est3 = pd.DataFrame()\n",
    "X_est3['W10'] = np.sqrt(train_df['U10']**2 + train_df['V10']**2)\n",
    "X_est3['W100'] = np.sqrt(train_df['U100']**2 + train_df['V100']**2)\n",
    "X_est3['W10^3'] = X_est3['W10']**3\n",
    "X_est3['W100^3'] = X_est3['W100']**3\n",
    "\n",
    "model3 = LinearRegression()\n",
    "model3.fit(X_train3,y_train3)\n",
    "\n",
    "y_est3 = model3.predict(X_train3)\n",
    "error3 = (y_est3 - y_train3)**2\n",
    "RMSE3 = math.sqrt(error3.sum())/len(y_est3)\n",
    "RMSE3"
   ]
  },
  {
   "cell_type": "markdown",
   "metadata": {},
   "source": [
    "# Model 5"
   ]
  },
  {
   "cell_type": "code",
   "execution_count": null,
   "metadata": {},
   "outputs": [],
   "source": [
    "X_train2 = pd.DataFrame()\n",
    "\n",
    "X_train2['W10'] = np.sqrt(train_df['U10']**2 + train_df['V10']**2)\n",
    "X_train2['W100'] = np.sqrt(train_df['U100']**2 + train_df['V100']**2)\n",
    "\n",
    "y_train2 = train_df[['POWER']].copy()\n",
    "\n",
    "X_est2 = pd.DataFrame()\n",
    "X_est2['W10'] = np.sqrt(train_df['U10']**2 + train_df['V10']**2)\n",
    "X_est2['W100'] = np.sqrt(train_df['U100']**2 + train_df['V100']**2)\n",
    "\n",
    "polynomial_features = PolynomialFeatures(degree=3)\n",
    "\n",
    "X_train2 = pd.DataFrame(polynomial_features.fit_transform(X_train2))\n",
    "X_est2 = pd.DataFrame(polynomial_features.fit_transform(X_est2))\n",
    "\n",
    "X_train2['HOUR'] = train_df.index.hour \n",
    "X_est2['HOUR'] = train_df.index.hour\n",
    "\n",
    "model2 = LinearRegression()\n",
    "model2.fit(X_train2,y_train2)\n",
    "\n",
    "y_est2 = model2.predict(X_train2)\n",
    "error2 = (y_est2 - y_train2)**2\n",
    "RMSE2 = math.sqrt(error2.sum())/len(y_est2)\n",
    "RMSE2"
   ]
  },
  {
   "cell_type": "markdown",
   "metadata": {},
   "source": [
    "# Model 6"
   ]
  },
  {
   "cell_type": "code",
   "execution_count": 71,
   "metadata": {},
   "outputs": [
    {
     "name": "stdout",
     "output_type": "stream",
     "text": [
      "[0.020836836998225347, 0.020633158508647786, 0.02083280933139269, 0.021931661595181836, 0.02132264102387183, 0.021655636892589803, 0.021920868865405816, 0.020983410776763346, 0.021760720437012805, 0.02046134487309995]\n"
     ]
    }
   ],
   "source": [
    "X_train = pd.DataFrame()\n",
    "X_train['W10'] = np.sqrt(train_df['U10']**2 + train_df['V10']**2)\n",
    "X_train['W100'] = np.sqrt(train_df['U100']**2 + train_df['V100']**2)\n",
    "X_train['W10^3'] = X_train['W10']**3\n",
    "X_train['W100^3'] = X_train['W100']**3\n",
    "X_train['beta_0'] = 1\n",
    "\n",
    "y_train = train_df[['POWER']].copy()\n",
    "\n",
    "X_pred = pd.DataFrame()\n",
    "X_pred['W10'] = np.sqrt(pred_df['U10']**2 + pred_df['V10']**2)\n",
    "X_pred['W100'] = np.sqrt(pred_df['U100']**2 + pred_df['V100']**2)\n",
    "X_pred['W10^3'] = X_pred['W10']**3\n",
    "X_pred['W100^3'] = X_pred['W100']**3\n",
    "X_pred['beta_0'] = 1\n",
    "\n",
    "model = LinearRegression()\n",
    "scores =[]\n",
    "\n",
    "kfold = KFold(n_splits=10, shuffle=True, random_state=42)\n",
    "\n",
    "for i, (train, test) in enumerate(kfold.split(X_train, y_train)):\n",
    "    model.fit(X_train.iloc[train,:], y_train.iloc[train,:])\n",
    "    y_est = model.predict(X_train.iloc[test,:])\n",
    "    RMSE = mean_squared_error(y_train.iloc[test,:], y_est)\n",
    "    scores.append(RMSE)\n",
    "print(scores)"
   ]
  },
  {
   "cell_type": "code",
   "execution_count": 82,
   "metadata": {},
   "outputs": [
    {
     "name": "stdout",
     "output_type": "stream",
     "text": [
      "[0.020841214792652815, 0.02063226113178808, 0.020837013188034614, 0.021930084526445924, 0.021336017347337626, 0.021668113733025223, 0.021916138369874445, 0.020986562503533146, 0.02175628246389216, 0.020457834191082006]\n"
     ]
    }
   ],
   "source": [
    "X_train = pd.DataFrame()\n",
    "X_train['W10'] = np.sqrt(train_df['U10']**2 + train_df['V10']**2)\n",
    "X_train['W100'] = np.sqrt(train_df['U100']**2 + train_df['V100']**2)\n",
    "X_train['W10^3'] = X_train['W10']**3\n",
    "X_train['W100^3'] = X_train['W100']**3\n",
    "X_train['beta_0'] = 1\n",
    "X_train['hour'] = X_train.index.hour\n",
    "\n",
    "y_train = train_df[['POWER']].copy()\n",
    "\n",
    "X_pred = pd.DataFrame()\n",
    "X_pred['W10'] = np.sqrt(pred_df['U10']**2 + pred_df['V10']**2)\n",
    "X_pred['W100'] = np.sqrt(pred_df['U100']**2 + pred_df['V100']**2)\n",
    "X_pred['W10^3'] = X_pred['W10']**3\n",
    "X_pred['W100^3'] = X_pred['W100']**3\n",
    "X_pred['beta_0'] = 1\n",
    "X_pred['hour'] = X_pred.index.hour\n",
    "\n",
    "model = LinearRegression()\n",
    "scores =[]\n",
    "\n",
    "kfold = KFold(n_splits=10, shuffle=True, random_state=42)\n",
    "\n",
    "for i, (train, test) in enumerate(kfold.split(X_train, y_train)):\n",
    "    model.fit(X_train.iloc[train,:], y_train.iloc[train,:])\n",
    "    y_est = model.predict(X_train.iloc[test,:])\n",
    "    RMSE = mean_squared_error(y_train.iloc[test,:], y_est)\n",
    "    scores.append(RMSE)\n",
    "print(scores)"
   ]
  },
  {
   "cell_type": "code",
   "execution_count": 86,
   "metadata": {},
   "outputs": [
    {
     "name": "stdout",
     "output_type": "stream",
     "text": [
      "[0.01953892723117234, 0.01915265902939513, 0.019354306655754258, 0.020434850682616842, 0.019938833042845466, 0.020289595394254612, 0.020121658639476608, 0.01941810207873255, 0.02018259464526591, 0.018917943973467025]\n",
      "0.01973494713729807\n"
     ]
    }
   ],
   "source": [
    "X_train = pd.DataFrame()\n",
    "X_train['W10'] = np.sqrt(train_df['U10']**2 + train_df['V10']**2)\n",
    "X_train['W100'] = np.sqrt(train_df['U100']**2 + train_df['V100']**2)\n",
    "X_train['W10^3'] = X_train['W10']**3\n",
    "X_train['W100^3'] = X_train['W100']**3\n",
    "X_train['beta_0'] = 1\n",
    "X_train['hour'] = X_train.index.hour\n",
    "X_train['year'] = X_train.index.year\n",
    "\n",
    "y_train = train_df[['POWER']].copy()\n",
    "\n",
    "X_pred = pd.DataFrame()\n",
    "X_pred['W10'] = np.sqrt(pred_df['U10']**2 + pred_df['V10']**2)\n",
    "X_pred['W100'] = np.sqrt(pred_df['U100']**2 + pred_df['V100']**2)\n",
    "X_pred['W10^3'] = X_pred['W10']**3\n",
    "X_pred['W100^3'] = X_pred['W100']**3\n",
    "X_pred['beta_0'] = 1\n",
    "X_pred['hour'] = X_pred.index.hour\n",
    "X_pred['year'] = X_pred.index.year\n",
    "\n",
    "model = LinearRegression()\n",
    "scores =[]\n",
    "\n",
    "kfold = KFold(n_splits=10, shuffle=True, random_state=42)\n",
    "\n",
    "for i, (train, test) in enumerate(kfold.split(X_train, y_train)):\n",
    "    model.fit(X_train.iloc[train,:], y_train.iloc[train,:])\n",
    "    y_est = model.predict(X_train.iloc[test,:])\n",
    "    RMSE = mean_squared_error(y_train.iloc[test,:], y_est)\n",
    "    scores.append(RMSE)\n",
    "print(scores)\n",
    "print(np.mean(scores))"
   ]
  },
  {
   "cell_type": "code",
   "execution_count": 87,
   "metadata": {},
   "outputs": [
    {
     "name": "stdout",
     "output_type": "stream",
     "text": [
      "[0.01895817840902218, 0.018795861684604908, 0.01875308293252113, 0.020152582403420598, 0.01945547590717547, 0.019614128191974514, 0.01954481801220398, 0.018823063186088333, 0.01967651210937354, 0.018886544918937896]\n",
      "0.019266024775532256\n"
     ]
    }
   ],
   "source": [
    "X_train = pd.DataFrame()\n",
    "X_train['W10'] = np.sqrt(train_df['U10']**2 + train_df['V10']**2)\n",
    "X_train['W100'] = np.sqrt(train_df['U100']**2 + train_df['V100']**2)\n",
    "X_train['W10^2'] = X_train['W10']**2\n",
    "X_train['W100^2'] = X_train['W100']**2\n",
    "X_train['W10^3'] = X_train['W10']**3\n",
    "X_train['W100^3'] = X_train['W100']**3\n",
    "X_train['beta_0'] = 1\n",
    "X_train['hour'] = X_train.index.hour\n",
    "X_train['year'] = X_train.index.year\n",
    "\n",
    "y_train = train_df[['POWER']].copy()\n",
    "\n",
    "X_pred = pd.DataFrame()\n",
    "X_pred['W10'] = np.sqrt(pred_df['U10']**2 + pred_df['V10']**2)\n",
    "X_pred['W100'] = np.sqrt(pred_df['U100']**2 + pred_df['V100']**2)\n",
    "X_pred['W10^2'] = X_pred['W10']**2\n",
    "X_pred['W100^2'] = X_pred['W100']**2\n",
    "X_pred['W10^3'] = X_pred['W10']**3\n",
    "X_pred['W100^3'] = X_pred['W100']**3\n",
    "X_pred['beta_0'] = 1\n",
    "X_pred['hour'] = X_pred.index.hour\n",
    "X_pred['year'] = X_pred.index.year\n",
    "\n",
    "model = LinearRegression()\n",
    "scores =[]\n",
    "\n",
    "kfold = KFold(n_splits=10, shuffle=True, random_state=42)\n",
    "\n",
    "for i, (train, test) in enumerate(kfold.split(X_train, y_train)):\n",
    "    model.fit(X_train.iloc[train,:], y_train.iloc[train,:])\n",
    "    y_est = model.predict(X_train.iloc[test,:])\n",
    "    RMSE = mean_squared_error(y_train.iloc[test,:], y_est)\n",
    "    scores.append(RMSE)\n",
    "print(scores)\n",
    "print(np.mean(scores))"
   ]
  },
  {
   "cell_type": "code",
   "execution_count": 92,
   "metadata": {},
   "outputs": [
    {
     "name": "stdout",
     "output_type": "stream",
     "text": [
      "[0.016785343944477383, 0.017217983475412955, 0.016912939678504612, 0.01881772587101483, 0.018119560770157497, 0.017669842910729025, 0.01780357267908842, 0.016773366922352692, 0.018030541572373736, 0.01741574141196116]\n",
      "0.01755466192360723\n"
     ]
    }
   ],
   "source": [
    "X_train = pd.DataFrame()\n",
    "X_train['U10'] = train_df['U10']\n",
    "X_train['U100'] = train_df['U100']\n",
    "X_train['V10'] = train_df['V10']\n",
    "X_train['V100'] = train_df['V100']\n",
    "X_train['W10'] = np.sqrt(train_df['U10']**2 + train_df['V10']**2)\n",
    "X_train['W100'] = np.sqrt(train_df['U100']**2 + train_df['V100']**2)\n",
    "X_train['W10^2'] = X_train['W10']**2\n",
    "X_train['W100^2'] = X_train['W100']**2\n",
    "X_train['W10^3'] = X_train['W10']**3\n",
    "X_train['W100^3'] = X_train['W100']**3\n",
    "X_train['beta_0'] = 1\n",
    "X_train['hour'] = X_train.index.hour\n",
    "X_train['year'] = X_train.index.year\n",
    "\n",
    "y_train = train_df[['POWER']].copy()\n",
    "\n",
    "X_pred = pd.DataFrame()\n",
    "X_pred['U10'] = pred_df['U10']\n",
    "X_pred['U100'] = pred_df['U100']\n",
    "X_pred['V10'] = pred_df['V10']\n",
    "X_pred['V100'] = pred_df['V100']\n",
    "X_pred['W10'] = np.sqrt(pred_df['U10']**2 + pred_df['V10']**2)\n",
    "X_pred['W100'] = np.sqrt(pred_df['U100']**2 + pred_df['V100']**2)\n",
    "X_pred['W10^2'] = X_pred['W10']**2\n",
    "X_pred['W100^2'] = X_pred['W100']**2\n",
    "X_pred['W10^3'] = X_pred['W10']**3\n",
    "X_pred['W100^3'] = X_pred['W100']**3\n",
    "X_pred['beta_0'] = 1\n",
    "X_pred['hour'] = X_pred.index.hour\n",
    "X_pred['year'] = X_pred.index.year\n",
    "\n",
    "model = LinearRegression()\n",
    "scores =[]\n",
    "\n",
    "kfold = KFold(n_splits=10, shuffle=True, random_state=42)\n",
    "\n",
    "for i, (train, test) in enumerate(kfold.split(X_train, y_train)):\n",
    "    model.fit(X_train.iloc[train,:], y_train.iloc[train,:])\n",
    "    y_est = model.predict(X_train.iloc[test,:])\n",
    "    RMSE = mean_squared_error(y_train.iloc[test,:], y_est)\n",
    "    scores.append(RMSE)\n",
    "print(scores)\n",
    "print(np.mean(scores))"
   ]
  },
  {
   "cell_type": "code",
   "execution_count": 99,
   "metadata": {},
   "outputs": [
    {
     "name": "stdout",
     "output_type": "stream",
     "text": [
      "[0.01653745868141711, 0.01702478424177884, 0.01683979052719368, 0.01863879947053853, 0.017982386259269175, 0.017424827214917147, 0.017763324209702315, 0.01657757677241125, 0.017778321191418534, 0.017239924277617072]\n",
      "0.017380719284626367\n"
     ]
    }
   ],
   "source": [
    "X_train = pd.DataFrame()\n",
    "X_train['U10'] = train_df['U10']\n",
    "X_train['U100'] = train_df['U100']\n",
    "X_train['V10'] = train_df['V10']\n",
    "X_train['V100'] = train_df['V100']\n",
    "X_train['U10^2'] = X_train['U10']**2\n",
    "X_train['U100^2'] = X_train['U100']**2\n",
    "X_train['V10^3'] = X_train['V10']**3\n",
    "X_train['V100^3'] = X_train['V100']**3\n",
    "\n",
    "X_train['W10'] = np.sqrt(train_df['U10']**2 + train_df['V10']**2)\n",
    "X_train['W100'] = np.sqrt(train_df['U100']**2 + train_df['V100']**2)\n",
    "X_train['W10^2'] = X_train['W10']**2\n",
    "X_train['W100^2'] = X_train['W100']**2\n",
    "X_train['W10^3'] = X_train['W10']**3\n",
    "X_train['W100^3'] = X_train['W100']**3\n",
    "X_train['beta_0'] = 1\n",
    "X_train['hour'] = X_train.index.hour\n",
    "X_train['year'] = X_train.index.year\n",
    "\n",
    "y_train = train_df[['POWER']].copy()\n",
    "\n",
    "X_pred = pd.DataFrame()\n",
    "\n",
    "X_pred['U10'] = pred_df['U10']\n",
    "X_pred['U100'] = pred_df['U100']\n",
    "X_pred['V10'] = pred_df['V10']\n",
    "X_pred['V100'] = pred_df['V100']\n",
    "X_pred['U10^2'] = X_pred['U10']**2\n",
    "X_pred['U100^2'] = X_pred['U100']**2\n",
    "X_pred['V10^3'] = X_pred['V10']**3\n",
    "X_pred['V100^3'] = X_pred['V100']**3\n",
    "\n",
    "X_pred['W10'] = np.sqrt(pred_df['U10']**2 + pred_df['V10']**2)\n",
    "X_pred['W100'] = np.sqrt(pred_df['U100']**2 + pred_df['V100']**2)\n",
    "X_pred['W10^2'] = X_pred['W10']**2\n",
    "X_pred['W100^2'] = X_pred['W100']**2\n",
    "X_pred['W10^3'] = X_pred['W10']**3\n",
    "X_pred['W100^3'] = X_pred['W100']**3\n",
    "\n",
    "X_pred['beta_0'] = 1\n",
    "\n",
    "X_pred['hour'] = X_pred.index.hour\n",
    "X_pred['year'] = X_pred.index.year\n",
    "\n",
    "model = LinearRegression()\n",
    "scores = []\n",
    "\n",
    "kfold = KFold(n_splits=10, shuffle=True, random_state=42)\n",
    "\n",
    "for i, (train, test) in enumerate(kfold.split(X_train, y_train)):\n",
    "    model.fit(X_train.iloc[train,:], y_train.iloc[train,:])\n",
    "    y_est = model.predict(X_train.iloc[test,:])\n",
    "    RMSE = mean_squared_error(y_train.iloc[test,:], y_est)\n",
    "    scores.append(RMSE)\n",
    "print(scores)\n",
    "print(np.mean(scores))"
   ]
  },
  {
   "cell_type": "code",
   "execution_count": null,
   "metadata": {},
   "outputs": [],
   "source": [
    "X_train = pd.DataFrame()\n",
    "X_train['U10'] = train_df['U10']\n",
    "X_train['U100'] = train_df['U100']\n",
    "X_train['V10'] = train_df['V10']\n",
    "X_train['V100'] = train_df['V100']\n",
    "X_train['U10^2'] = X_train['U10']**2\n",
    "X_train['U100^2'] = X_train['U100']**2\n",
    "X_train['V10^3'] = X_train['V10']**3\n",
    "X_train['V100^3'] = X_train['V100']**3\n",
    "\n",
    "X_train['W10'] = np.sqrt(train_df['U10']**2 + train_df['V10']**2)\n",
    "X_train['W100'] = np.sqrt(train_df['U100']**2 + train_df['V100']**2)\n",
    "X_train['W10^2'] = X_train['W10']**2\n",
    "X_train['W100^2'] = X_train['W100']**2\n",
    "X_train['W10^3'] = X_train['W10']**3\n",
    "X_train['W100^3'] = X_train['W100']**3\n",
    "X_train['beta_0'] = 1\n",
    "X_train['hour'] = X_train.index.hour\n",
    "X_train['year'] = X_train.index.year\n",
    "\n",
    "y_train = train_df[['POWER']].copy()\n",
    "\n",
    "X_pred = pd.DataFrame()\n",
    "\n",
    "X_pred['U10'] = pred_df['U10']\n",
    "X_pred['U100'] = pred_df['U100']\n",
    "X_pred['V10'] = pred_df['V10']\n",
    "X_pred['V100'] = pred_df['V100']\n",
    "X_pred['U10^2'] = X_pred['U10']**2\n",
    "X_pred['U100^2'] = X_pred['U100']**2\n",
    "X_pred['V10^3'] = X_pred['V10']**3\n",
    "X_pred['V100^3'] = X_pred['V100']**3\n",
    "\n",
    "X_pred['W10'] = np.sqrt(pred_df['U10']**2 + pred_df['V10']**2)\n",
    "X_pred['W100'] = np.sqrt(pred_df['U100']**2 + pred_df['V100']**2)\n",
    "X_pred['W10^2'] = X_pred['W10']**2\n",
    "X_pred['W100^2'] = X_pred['W100']**2\n",
    "X_pred['W10^3'] = X_pred['W10']**3\n",
    "X_pred['W100^3'] = X_pred['W100']**3\n",
    "\n",
    "X_pred['beta_0'] = 1\n",
    "\n",
    "X_pred['hour'] = X_pred.index.hour\n",
    "X_pred['year'] = X_pred.index.year\n",
    "\n",
    "model = LinearRegression()\n",
    "model2 = KernelRidge(alpha=1.0)\n",
    "scores = []\n",
    "scores2 = []\n",
    "\n",
    "kfold = KFold(n_splits=10, shuffle=True, random_state=42)\n",
    "\n",
    "for i, (train, test) in enumerate(kfold.split(X_train, y_train)):\n",
    "    model.fit(X_train.iloc[train,:], y_train.iloc[train,:])\n",
    "    model2.fit(X_train.iloc[train,:], y_train.iloc[train,:])\n",
    "    \n",
    "    y_est = model.predict(X_train.iloc[test,:])\n",
    "    y_est2 = model2.predict(X_train.iloc[test,:])\n",
    "    \n",
    "    RMSE = mean_squared_error(y_train.iloc[test,:], y_est)\n",
    "    RMSE2 = mean_squared_error(y_train.iloc[test,:], y_est2)\n",
    "    \n",
    "    scores.append(RMSE)\n",
    "    scores2.append(RMSE)\n",
    "\n",
    "print(scores)\n",
    "print(scores2)\n",
    "print(np.mean(scores), np.mean(scores2))"
   ]
  },
  {
   "cell_type": "code",
   "execution_count": null,
   "metadata": {},
   "outputs": [],
   "source": []
  }
 ],
 "metadata": {
  "kernelspec": {
   "display_name": "Python 3",
   "language": "python",
   "name": "python3"
  },
  "language_info": {
   "codemirror_mode": {
    "name": "ipython",
    "version": 3
   },
   "file_extension": ".py",
   "mimetype": "text/x-python",
   "name": "python",
   "nbconvert_exporter": "python",
   "pygments_lexer": "ipython3",
   "version": "3.7.1"
  }
 },
 "nbformat": 4,
 "nbformat_minor": 2
}
