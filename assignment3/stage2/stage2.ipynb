{
 "cells": [
  {
   "cell_type": "code",
   "execution_count": 9,
   "metadata": {},
   "outputs": [],
   "source": [
    "import math\n",
    "import pandas as pd\n",
    "import numpy as np\n",
    "from scipy import stats\n",
    "from datetime import datetime\n",
    "from sklearn import preprocessing\n",
    "from sklearn.model_selection import KFold\n",
    "from sklearn.linear_model import LinearRegression\n",
    "from sklearn.metrics import mean_squared_error, r2_score\n",
    "from sklearn.preprocessing import PolynomialFeatures\n",
    "from sklearn.linear_model import Ridge\n",
    "import matplotlib.pyplot as plt\n",
    "%matplotlib inline"
   ]
  },
  {
   "cell_type": "markdown",
   "metadata": {},
   "source": [
    "# Reading data"
   ]
  },
  {
   "cell_type": "code",
   "execution_count": 10,
   "metadata": {},
   "outputs": [],
   "source": [
    "train_df = pd.read_csv('data/TrainData2.csv', delimiter = ',').dropna().reset_index(drop=True)\n",
    "train_df['TIMESTAMP'] = pd.to_datetime(train_df['TIMESTAMP'], format='%Y%m%d %H:%M')\n",
    "train_df = train_df.set_index('TIMESTAMP')\n",
    "std_dev = 3\n",
    "train_df = train_df[(np.abs(stats.zscore(train_df)) < float(std_dev)).all(axis=1)]"
   ]
  },
  {
   "cell_type": "code",
   "execution_count": 11,
   "metadata": {},
   "outputs": [],
   "source": [
    "pred_df = pd.read_csv('data/WeatherForecastInput2.csv', delimiter = ',')\n",
    "pred_df['TIMESTAMP'] = pd.to_datetime(pred_df['TIMESTAMP'], format='%Y%m%d %H:%M')\n",
    "pred_df = pred_df.set_index('TIMESTAMP')"
   ]
  },
  {
   "cell_type": "markdown",
   "metadata": {},
   "source": [
    "# Feature Engineering"
   ]
  },
  {
   "cell_type": "code",
   "execution_count": 12,
   "metadata": {},
   "outputs": [],
   "source": [
    "X = pd.DataFrame()\n",
    "X['U10'] = train_df['U10']\n",
    "X['U100'] = train_df['U100']\n",
    "X['V10'] = train_df['V10']\n",
    "X['V100'] = train_df['V100']\n",
    "X['U10^2'] = X['U10']**2\n",
    "X['U100^2'] = X['U100']**2\n",
    "#X['V10^2'] = X['V10']**2\n",
    "#X['V100^2'] = X['V100']**2\n",
    "#X['U10^3'] = X['U10']**3\n",
    "#X['U100^3'] = X['U100']**3\n",
    "X['V10^3'] = X['V10']**3\n",
    "X['V100^3'] = X['V100']**3\n",
    "\n",
    "X['W10'] = np.sqrt(train_df['U10']**2 + train_df['V10']**2)\n",
    "X['W100'] = np.sqrt(train_df['U100']**2 + train_df['V100']**2)\n",
    "X['W10^2'] = X['W10']**2\n",
    "X['W100^2'] = X['W100']**2\n",
    "X['W10^3'] = X['W10']**3\n",
    "X['W100^3'] = X['W100']**3\n",
    "X['beta_0'] = 1\n",
    "X['hour'] = X.index.hour\n",
    "X['year'] = X.index.year\n",
    "X['month'] = X.index.month\n",
    "\n",
    "y = train_df[['POWER']].copy()\n",
    "\n",
    "X_pred = pd.DataFrame()\n",
    "\n",
    "X_pred['U10'] = pred_df['U10']\n",
    "X_pred['U100'] = pred_df['U100']\n",
    "X_pred['V10'] = pred_df['V10']\n",
    "X_pred['V100'] = pred_df['V100']\n",
    "X_pred['U10^2'] = X_pred['U10']**2\n",
    "X_pred['U100^2'] = X_pred['U100']**2\n",
    "#X_pred['V10^2'] = X_pred['V10']**2\n",
    "#X_pred['V100^2'] = X_pred['V100']**2\n",
    "#X_pred['U10^3'] = X_pred['U10']**3\n",
    "#X_pred['U100^3'] = X_pred['U100']**3\n",
    "X_pred['V10^3'] = X_pred['V10']**3\n",
    "X_pred['V100^3'] = X_pred['V100']**3\n",
    "\n",
    "X_pred['W10'] = np.sqrt(pred_df['U10']**2 + pred_df['V10']**2)\n",
    "X_pred['W100'] = np.sqrt(pred_df['U100']**2 + pred_df['V100']**2)\n",
    "X_pred['W10^2'] = X_pred['W10']**2\n",
    "X_pred['W100^2'] = X_pred['W100']**2\n",
    "X_pred['W10^3'] = X_pred['W10']**3\n",
    "X_pred['W100^3'] = X_pred['W100']**3\n",
    "\n",
    "X_pred['beta_0'] = 1\n",
    "\n",
    "X_pred['hour'] = X_pred.index.hour\n",
    "X_pred['year'] = X_pred.index.year\n",
    "X_pred['month'] = X_pred.index.month"
   ]
  },
  {
   "cell_type": "markdown",
   "metadata": {},
   "source": [
    "# Model"
   ]
  },
  {
   "cell_type": "code",
   "execution_count": 13,
   "metadata": {},
   "outputs": [],
   "source": [
    "model = LinearRegression()\n",
    "model.fit(X,y)\n",
    "predictions = model.predict(X_pred).clip(min=0,max=1)\n",
    "np.savetxt(\"stage2.csv\", predictions, delimiter=\",\")"
   ]
  },
  {
   "cell_type": "markdown",
   "metadata": {},
   "source": [
    "# Comparing with results"
   ]
  },
  {
   "cell_type": "code",
   "execution_count": null,
   "metadata": {},
   "outputs": [],
   "source": []
  }
 ],
 "metadata": {
  "kernelspec": {
   "display_name": "Python 3",
   "language": "python",
   "name": "python3"
  },
  "language_info": {
   "codemirror_mode": {
    "name": "ipython",
    "version": 3
   },
   "file_extension": ".py",
   "mimetype": "text/x-python",
   "name": "python",
   "nbconvert_exporter": "python",
   "pygments_lexer": "ipython3",
   "version": "3.7.2"
  }
 },
 "nbformat": 4,
 "nbformat_minor": 2
}
