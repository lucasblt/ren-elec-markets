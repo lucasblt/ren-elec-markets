{
 "cells": [
  {
   "cell_type": "code",
   "execution_count": 1,
   "metadata": {},
   "outputs": [],
   "source": [
    "import math\n",
    "import pandas as pd\n",
    "import numpy as np\n",
    "from scipy import stats\n",
    "from datetime import datetime\n",
    "from sklearn import preprocessing\n",
    "from sklearn.model_selection import KFold\n",
    "from sklearn.linear_model import LinearRegression\n",
    "from sklearn.metrics import mean_squared_error, r2_score\n",
    "from sklearn.preprocessing import PolynomialFeatures\n",
    "import matplotlib.pyplot as plt\n",
    "%matplotlib inline"
   ]
  },
  {
   "cell_type": "markdown",
   "metadata": {},
   "source": [
    "# Reading data"
   ]
  },
  {
   "cell_type": "code",
   "execution_count": 2,
   "metadata": {},
   "outputs": [],
   "source": [
    "train_df = pd.read_csv('data/TrainData1.csv', delimiter = ',').dropna().reset_index(drop=True)\n",
    "train_df['TIMESTAMP'] = pd.to_datetime(train_df['TIMESTAMP'], format='%Y%m%d %H:%M')\n",
    "train_df = train_df.set_index('TIMESTAMP')\n",
    "std_dev = 3\n",
    "train_df = train_df[(np.abs(stats.zscore(train_df)) < float(std_dev)).all(axis=1)]"
   ]
  },
  {
   "cell_type": "code",
   "execution_count": 3,
   "metadata": {},
   "outputs": [],
   "source": [
    "pred_df = pd.read_csv('data/WeatherForecastInput1.csv', delimiter = ',')\n",
    "pred_df['TIMESTAMP'] = pd.to_datetime(pred_df['TIMESTAMP'], format='%Y%m%d %H:%M')\n",
    "pred_df = pred_df.set_index('TIMESTAMP')"
   ]
  },
  {
   "cell_type": "markdown",
   "metadata": {},
   "source": [
    "# Model 1"
   ]
  },
  {
   "cell_type": "code",
   "execution_count": 81,
   "metadata": {},
   "outputs": [
    {
     "name": "stdout",
     "output_type": "stream",
     "text": [
      "[0.0013135597399546008, 0.0013071976253938636]\n"
     ]
    }
   ],
   "source": [
    "X_train = train_df[['U10', 'V10', 'U100', 'V100']].copy()\n",
    "y_train = train_df[['POWER']].copy()\n",
    "\n",
    "X_est = pred_df[['U10', 'V10', 'U100', 'V100']].copy()\n",
    "\n",
    "polynomial_features = PolynomialFeatures(degree=3)\n",
    "\n",
    "X_train = pd.DataFrame(polynomial_features.fit_transform(X_train))\n",
    "X_est = pd.DataFrame(polynomial_features.fit_transform(X_est))\n",
    "\n",
    "model = LinearRegression()\n",
    "scores =[]\n",
    "\n",
    "kfold = KFold(n_splits=2, shuffle=True, random_state=42)\n",
    "\n",
    "for i, (train, test) in enumerate(kfold.split(X_train, y_train)):\n",
    "    model.fit(X_train.iloc[train,:], y_train.iloc[train,:])\n",
    "    y_est = model.predict(X_train.iloc[test,:])\n",
    "    error = (y_est - y_train.iloc[test,:])**2\n",
    "    RMSE = math.sqrt(error.sum())/len(y_est)\n",
    "    scores.append(RMSE)\n",
    "print(scores)"
   ]
  },
  {
   "cell_type": "markdown",
   "metadata": {},
   "source": [
    "# Model 2"
   ]
  },
  {
   "cell_type": "code",
   "execution_count": 85,
   "metadata": {},
   "outputs": [
    {
     "name": "stdout",
     "output_type": "stream",
     "text": [
      "[0.0012717464942937533, 0.0012607977729050545]\n"
     ]
    }
   ],
   "source": [
    "X_train = pd.DataFrame()\n",
    "X_train['W10'] = np.sqrt(train_df['U10']**2 + train_df['V10']**2)\n",
    "X_train['W100'] = np.sqrt(train_df['U100']**2 + train_df['V100']**2)\n",
    "\n",
    "y_train = train_df[['POWER']].copy()\n",
    "\n",
    "X_est = pd.DataFrame()\n",
    "X_est['W10'] = np.sqrt(pred_df['U10']**2 + pred_df['V10']**2)\n",
    "X_est['W100'] = np.sqrt(pred_df['U100']**2 + pred_df['V100']**2)\n",
    "\n",
    "polynomial_features = PolynomialFeatures(degree=3)\n",
    "\n",
    "X_train = pd.DataFrame(polynomial_features.fit_transform(X_train))\n",
    "X_est = pd.DataFrame(polynomial_features.fit_transform(X_est))\n",
    "\n",
    "model = LinearRegression()\n",
    "scores =[]\n",
    "\n",
    "kfold = KFold(n_splits=2, shuffle=True, random_state=42)\n",
    "\n",
    "for i, (train, test) in enumerate(kfold.split(X_train, y_train)):\n",
    "    model.fit(X_train.iloc[train,:], y_train.iloc[train,:])\n",
    "    y_est = model.predict(X_train.iloc[test,:])\n",
    "    error = (y_est - y_train.iloc[test,:])**2\n",
    "    RMSE = math.sqrt(error.sum())/len(y_est)\n",
    "    scores.append(RMSE)\n",
    "print(scores)"
   ]
  },
  {
   "cell_type": "code",
   "execution_count": 86,
   "metadata": {},
   "outputs": [],
   "source": [
    "stage1 = pd.DataFrame(model2.predict(X_est2)).to_csv('stage1.csv', index = False)"
   ]
  },
  {
   "cell_type": "markdown",
   "metadata": {},
   "source": [
    "# Model 3"
   ]
  },
  {
   "cell_type": "code",
   "execution_count": 41,
   "metadata": {},
   "outputs": [
    {
     "data": {
      "text/plain": [
       "0.0009078858447008036"
      ]
     },
     "execution_count": 41,
     "metadata": {},
     "output_type": "execute_result"
    }
   ],
   "source": [
    "X_train3 = train_df\n",
    "X_train3['beta_0'] = 1\n",
    "X_train3 = X_train3.drop(columns=['U10', 'V10', 'U100', 'V100', 'POWER'])\n",
    "X_train3['W10'] = np.sqrt(train_df['U10']**2 + train_df['V10']**2)\n",
    "X_train3['W100'] = np.sqrt(train_df['U100']**2 + train_df['V100']**2)\n",
    "X_train3['W10^3'] = X_train3['W10']**3\n",
    "X_train3['W100^3'] = X_train3['W100']**3\n",
    "\n",
    "y_train3 = train_df[['POWER']].copy()\n",
    "\n",
    "X_est3 = pd.DataFrame()\n",
    "X_est3['W10'] = np.sqrt(train_df['U10']**2 + train_df['V10']**2)\n",
    "X_est3['W100'] = np.sqrt(train_df['U100']**2 + train_df['V100']**2)\n",
    "X_est3['W10^3'] = X_est3['W10']**3\n",
    "X_est3['W100^3'] = X_est3['W100']**3\n",
    "\n",
    "model3 = LinearRegression()\n",
    "model3.fit(X_train3,y_train3)\n",
    "\n",
    "y_est3 = model3.predict(X_train3)\n",
    "error3 = (y_est3 - y_train3)**2\n",
    "RMSE3 = math.sqrt(error3.sum())/len(y_est3)\n",
    "RMSE3"
   ]
  },
  {
   "cell_type": "markdown",
   "metadata": {},
   "source": [
    "# Model 5"
   ]
  },
  {
   "cell_type": "code",
   "execution_count": 4,
   "metadata": {},
   "outputs": [
    {
     "data": {
      "text/plain": [
       "0.0008950030704158654"
      ]
     },
     "execution_count": 4,
     "metadata": {},
     "output_type": "execute_result"
    }
   ],
   "source": [
    "X_train2 = pd.DataFrame()\n",
    "\n",
    "X_train2['W10'] = np.sqrt(train_df['U10']**2 + train_df['V10']**2)\n",
    "X_train2['W100'] = np.sqrt(train_df['U100']**2 + train_df['V100']**2)\n",
    "\n",
    "y_train2 = train_df[['POWER']].copy()\n",
    "\n",
    "X_est2 = pd.DataFrame()\n",
    "X_est2['W10'] = np.sqrt(train_df['U10']**2 + train_df['V10']**2)\n",
    "X_est2['W100'] = np.sqrt(train_df['U100']**2 + train_df['V100']**2)\n",
    "\n",
    "polynomial_features = PolynomialFeatures(degree=3)\n",
    "\n",
    "X_train2 = pd.DataFrame(polynomial_features.fit_transform(X_train2))\n",
    "X_est2 = pd.DataFrame(polynomial_features.fit_transform(X_est2))\n",
    "\n",
    "X_train2['HOUR'] = train_df.index.hour \n",
    "X_est2['HOUR'] = train_df.index.hour\n",
    "\n",
    "model2 = LinearRegression()\n",
    "model2.fit(X_train2,y_train2)\n",
    "\n",
    "y_est2 = model2.predict(X_train2)\n",
    "error2 = (y_est2 - y_train2)**2\n",
    "RMSE2 = math.sqrt(error2.sum())/len(y_est2)\n",
    "RMSE2"
   ]
  },
  {
   "cell_type": "markdown",
   "metadata": {},
   "source": [
    "# Testing second stage model here"
   ]
  },
  {
   "cell_type": "code",
   "execution_count": 9,
   "metadata": {},
   "outputs": [],
   "source": [
    "X_train = pd.DataFrame()\n",
    "X_train['U10'] = train_df['U10']\n",
    "X_train['U100'] = train_df['U100']\n",
    "X_train['V10'] = train_df['V10']\n",
    "X_train['V100'] = train_df['V100']\n",
    "X_train['U10^2'] = X_train['U10']**2\n",
    "X_train['U100^2'] = X_train['U100']**2\n",
    "X_train['V10^2'] = X_train['U10']**2\n",
    "X_train['V100^2'] = X_train['U100']**2\n",
    "X_train['U10^3'] = X_train['U10']**3\n",
    "X_train['U100^3'] = X_train['U100']**3\n",
    "X_train['V10^3'] = X_train['V10']**3\n",
    "X_train['V100^3'] = X_train['V100']**3\n",
    "\n",
    "X_train['W10'] = np.sqrt(train_df['U10']**2 + train_df['V10']**2)\n",
    "X_train['W100'] = np.sqrt(train_df['U100']**2 + train_df['V100']**2)\n",
    "X_train['W10^2'] = X_train['W10']**2\n",
    "X_train['W100^2'] = X_train['W100']**2\n",
    "X_train['W10^3'] = X_train['W10']**3\n",
    "X_train['W100^3'] = X_train['W100']**3\n",
    "X_train['beta_0'] = 1\n",
    "X_train['hour'] = X_train.index.hour\n",
    "X_train['year'] = X_train.index.year\n",
    "X_train['month'] = X_train.index.month\n",
    "\n",
    "y_train = train_df[['POWER']].copy()\n",
    "\n",
    "X_pred = pd.DataFrame()\n",
    "\n",
    "X_pred['U10'] = pred_df['U10']\n",
    "X_pred['U100'] = pred_df['U100']\n",
    "X_pred['V10'] = pred_df['V10']\n",
    "X_pred['V100'] = pred_df['V100']\n",
    "X_pred['U10^2'] = X_pred['U10']**2\n",
    "X_pred['U100^2'] = X_pred['U100']**2\n",
    "X_pred['V10^2'] = X_pred['V10']**2\n",
    "X_pred['V100^2'] = X_pred['V100']**2\n",
    "X_pred['U10^3'] = X_pred['U10']**3\n",
    "X_pred['U100^3'] = X_pred['U100']**3\n",
    "X_pred['V10^3'] = X_pred['V10']**3\n",
    "X_pred['V100^3'] = X_pred['V100']**3\n",
    "\n",
    "X_pred['W10'] = np.sqrt(pred_df['U10']**2 + pred_df['V10']**2)\n",
    "X_pred['W100'] = np.sqrt(pred_df['U100']**2 + pred_df['V100']**2)\n",
    "X_pred['W10^2'] = X_pred['W10']**2\n",
    "X_pred['W100^2'] = X_pred['W100']**2\n",
    "X_pred['W10^3'] = X_pred['W10']**3\n",
    "X_pred['W100^3'] = X_pred['W100']**3\n",
    "\n",
    "X_pred['beta_0'] = 1\n",
    "\n",
    "X_pred['hour'] = X_pred.index.hour\n",
    "X_pred['year'] = X_pred.index.year\n",
    "X_pred['month'] = X_pred.index.month"
   ]
  },
  {
   "cell_type": "code",
   "execution_count": 10,
   "metadata": {},
   "outputs": [],
   "source": [
    "model = LinearRegression()\n",
    "model.fit(X_train, y_train)\n",
    "y_est = model.predict(X_pred)"
   ]
  },
  {
   "cell_type": "code",
   "execution_count": 11,
   "metadata": {},
   "outputs": [
    {
     "data": {
      "text/plain": [
       "array([[0.60991036],\n",
       "       [0.68115271],\n",
       "       [0.88562281],\n",
       "       [0.81306285],\n",
       "       [0.79470488],\n",
       "       [0.84321334],\n",
       "       [0.81036848],\n",
       "       [0.93958517],\n",
       "       [0.96049432],\n",
       "       [0.94517202],\n",
       "       [0.96622873],\n",
       "       [0.98461274],\n",
       "       [0.90874919],\n",
       "       [0.86298037],\n",
       "       [0.88558971],\n",
       "       [0.83786513],\n",
       "       [0.77405452],\n",
       "       [0.76529862],\n",
       "       [0.75378145],\n",
       "       [0.69534919],\n",
       "       [0.66397156],\n",
       "       [0.66143757],\n",
       "       [0.60417649],\n",
       "       [0.57452479]])"
      ]
     },
     "execution_count": 11,
     "metadata": {},
     "output_type": "execute_result"
    }
   ],
   "source": [
    "y_est"
   ]
  },
  {
   "cell_type": "code",
   "execution_count": null,
   "metadata": {},
   "outputs": [],
   "source": []
  }
 ],
 "metadata": {
  "kernelspec": {
   "display_name": "Python 3",
   "language": "python",
   "name": "python3"
  },
  "language_info": {
   "codemirror_mode": {
    "name": "ipython",
    "version": 3
   },
   "file_extension": ".py",
   "mimetype": "text/x-python",
   "name": "python",
   "nbconvert_exporter": "python",
   "pygments_lexer": "ipython3",
   "version": "3.7.2"
  }
 },
 "nbformat": 4,
 "nbformat_minor": 2
}
