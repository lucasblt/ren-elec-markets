{
 "cells": [
  {
   "cell_type": "code",
   "execution_count": null,
   "metadata": {},
   "outputs": [],
   "source": [
    "import pandas as pd\n",
    "import numpy as np\n",
    "import urllib.request\n",
    "import os\n",
    "import day_ahead\n",
    "import pulp as plp\n",
    "import matplotlib.pyplot as plt\n",
    "import matplotlib.dates as mdates\n",
    "%matplotlib inline"
   ]
  },
  {
   "cell_type": "markdown",
   "metadata": {},
   "source": [
    "### Downloading and parsing data for Consumption Prognosis"
   ]
  },
  {
   "cell_type": "code",
   "execution_count": null,
   "metadata": {},
   "outputs": [],
   "source": [
    "if not os.path.exists('data'):\n",
    "    os.makedirs('data')\n",
    "\n",
    "#Consumption prognosis data source on Nord Pool's website\n",
    "url = \"http://www.nordpoolspot.com/globalassets/marketdata-excel-files/consumption-prognosis_2019_hourly.xls\" \n",
    "urllib.request.urlretrieve(url, 'data/consumption.xls');\n",
    "\n",
    "#Convert de .xls file into a Data Frame\n",
    "consumptionProg_raw_data = pd.read_html('data/consumption.xls')[0].values\n",
    "consumptionProg_df = pd.DataFrame(consumptionProg_raw_data)\n",
    "consumptionProg_df.columns = ['Dates', 'Hours', 'NO', 'SE', 'FI', 'DK1', 'DK2', 'EE', 'LV', 'LT']\n",
    "consumptionProg_df = consumptionProg_df[['Dates', 'Hours', 'DK1', 'DK2']]\n",
    "consumptionProg_df['Hours'] = consumptionProg_df['Hours'].str.slice(stop=2)\n",
    "consumptionProg_df['ts'] = pd.to_datetime(consumptionProg_df['Dates'] + consumptionProg_df['Hours'] + ':00', format='%d-%m-%Y%H:%M')\n",
    "consumptionProg_df = consumptionProg_df[consumptionProg_df['ts'] < pd.to_datetime('2019-02-01')]\n",
    "\n",
    "## Including Import of DK1 <- Norway (200MW)\n",
    "consumptionProg_df['DK1'] = consumptionProg_df['DK1'] - 200\n",
    "\n",
    "## Including Export of DK1 -> Germany (100MW)\n",
    "for i in consumptionProg_df.index:\n",
    "    if (consumptionProg_df['ts'][i].time() >= pd.to_datetime('07:00:00').time()) & (consumptionProg_df['ts'][i].time() < pd.to_datetime('14:00:00').time()):\n",
    "        consumptionProg_df['DK1'][i] = consumptionProg_df['DK1'][i] + 100\n",
    "        \n",
    "## Including Import of DK2 <- Sweden (150MW)\n",
    "for i in consumptionProg_df.index:\n",
    "    if (consumptionProg_df['ts'][i].time() >= pd.to_datetime('13:00:00').time()) & (consumptionProg_df['ts'][i].time() < pd.to_datetime('19:00:00').time()):\n",
    "        consumptionProg_df['DK2'][i] = consumptionProg_df['DK2'][i] - 150"
   ]
  },
  {
   "cell_type": "markdown",
   "metadata": {},
   "source": [
    "### Downloading and parsing data for Wind Power Generation Prognosis"
   ]
  },
  {
   "cell_type": "code",
   "execution_count": null,
   "metadata": {},
   "outputs": [],
   "source": [
    "#Wind power generation prognosis data source on Nord Pool's website\n",
    "url2 = \"http://www.nordpoolspot.com/globalassets/marketdata-excel-files/wind-power-dk-prognosis_2019_hourly.xls\" \n",
    "urllib.request.urlretrieve(url2, 'data/wind-prognosis.xls');\n",
    "\n",
    "#Convert de .xls file into a Data Frame\n",
    "windProg_raw_data = pd.read_html('data/wind-prognosis.xls')[0].values\n",
    "windProg_df = pd.DataFrame(windProg_raw_data)\n",
    "windProg_df.columns = ['Dates', 'Hours', 'DK1', 'DK2']\n",
    "windProg_df['Hours'] = windProg_df['Hours'].str.slice(stop=2)\n",
    "windProg_df['ts'] = pd.to_datetime(windProg_df['Dates'] + windProg_df['Hours'] + ':00', format='%d-%m-%Y%H:%M')\n",
    "windProg_df = windProg_df[windProg_df['ts'] < pd.to_datetime('2019-02-01')]\n",
    "\n",
    "#Set the proportion of wind power generation to each producer in each region\n",
    "windProg_df['WW1'] = windProg_df['DK1']*(1/4)\n",
    "windProg_df['WW2'] = windProg_df['DK1']*(3/4)\n",
    "windProg_df['EW1'] = windProg_df['DK2']*(1/3)\n",
    "windProg_df['EW2'] = windProg_df['DK2']*(2/3)\n",
    "#Remove unwanted columns from Dataframe\n",
    "windProg_df = windProg_df.drop(['Dates', 'Hours', 'DK1', 'DK2'], axis=1)"
   ]
  },
  {
   "cell_type": "code",
   "execution_count": null,
   "metadata": {},
   "outputs": [],
   "source": [
    "#List of all energy suppliers by region with their respective offers (energy quantity and bid price)\n",
    "region_g = ['DK1', 'DK1', 'DK2', 'DK2', 'DK1', 'DK1', 'DK1', 'DK1', 'DK1', 'DK1','DK1', 'DK2', 'DK2', 'DK2', 'DK2', 'DK2', 'DK2', 'DK2', 'DK2']\n",
    "cost_g = np.array([0, -17, -20, -12, 70, 64, 153, 82, 89, 25, 250, 19, 43, 39, 36, 31, 5, 10, 250])\n",
    "power_g_all = np.array([400, 330, 345, 390, 510, 1000, 900, 1200, 320, 360, 400, 350, 730, 630, 800])\n",
    "#Array considering time restriction of some generators\n",
    "power_g_rest = np.array([400, 330, 345, 390, 510, 0, 900, 0, 320, 360, 400, 350, 730, 630, 800])\n",
    "\n",
    "generationProg_df = windProg_df\n",
    "\n",
    "#Include the supplier energy offers into the generation dataframe according to their time of operation\n",
    "for i in range(15):\n",
    "    generationProg_df['G{}'.format(i+1)] = power_g_rest[i]\n",
    "    \n",
    "for i in generationProg_df.index:\n",
    "    if (generationProg_df['ts'][i].time() >= pd.to_datetime('05:00:00').time()) & (generationProg_df['ts'][i].time() < pd.to_datetime('22:00:00').time()):\n",
    "        generationProg_df['G6'][i] = power_g_all[5]\n",
    "        generationProg_df['G8'][i] = power_g_all[7]"
   ]
  },
  {
   "cell_type": "code",
   "execution_count": null,
   "metadata": {},
   "outputs": [],
   "source": [
    "#Solve the optimization problem for every time slot of the day-ahead market using the demand and supply offers\n",
    "#A function named 'day_ahead.solver' was created to solve the linear programming optimization problem\n",
    "    #INPUT: generation (DF), demand (DF) and interconnection limitaiton.\n",
    "    #OUTPU: scheduled generation (DF), scheduled demand (DF) and amount of interconnection used\n",
    "schedule_g = {}\n",
    "schedule_d = {}\n",
    "price = {}\n",
    "\n",
    "limit = 600\n",
    "\n",
    "#Arrange the data from generation and consumption prognosis into dataframes in the correct structure to be utilized by the function\n",
    "for i in range(len(consumptionProg_df)):\n",
    "    g_df = pd.DataFrame({'ID' : list(generationProg_df)[1:],\n",
    "                         'region' : region_g,\n",
    "                         'power_g' : generationProg_df[list(generationProg_df)[1:]].values[i],\n",
    "                         'cost_g' : cost_g})\n",
    "\n",
    "    d_df = pd.DataFrame({'ID' : ['D1','D2'],\n",
    "                         'region' : list(consumptionProg_df)[2:-1],\n",
    "                         'power_d' : consumptionProg_df[list(consumptionProg_df)[2:-1]].values[i],\n",
    "                         'cost_d' : [99999, 99999]})\n",
    "    \n",
    "    schedule_g[consumptionProg_df['ts'][i]], schedule_d[consumptionProg_df['ts'][i]], price[consumptionProg_df['ts'][i]] = day_ahead.solver(g_df, d_df, limit)\n",
    " \n"
   ]
  },
  {
   "cell_type": "markdown",
   "metadata": {},
   "source": [
    "## Adjusting market price for wind farms with support schemes"
   ]
  },
  {
   "cell_type": "code",
   "execution_count": null,
   "metadata": {},
   "outputs": [],
   "source": [
    "#Add the respective support scheme for each wind power generation to calculate their revenues\n",
    "for key in schedule_g.keys():\n",
    "    schedule_g[key]['Market Price'][1] = price[key]['DK1'] + 17\n",
    "    schedule_g[key]['Market Price'][9] = 20\n",
    "    schedule_g[key]['Market Price'][10] = price[key]['DK2'] + 12\n",
    "    schedule_g[key]['Revenue'] = schedule_g[key]['Market Price'] * schedule_g[key]['Scheduled Pg']"
   ]
  },
  {
   "cell_type": "markdown",
   "metadata": {},
   "source": [
    "### Suppliers Dictionary"
   ]
  },
  {
   "cell_type": "code",
   "execution_count": null,
   "metadata": {},
   "outputs": [],
   "source": [
    "suppliers_dict = {'WW1' : 'WestWind1',\n",
    "                 'WW2' : 'WestWind2',\n",
    "                 'G1' : 'FlexiGas',\n",
    "                 'G2' : 'FlexiGas',\n",
    "                 'G3' : 'FlexiGas',\n",
    "                 'G4' : 'Peako',\n",
    "                 'G5' : 'Peako',\n",
    "                 'G6' : 'Nuke22',\n",
    "                 'G7' : 'CoalAtLast',\n",
    "                 'EE1' : 'EastWind1',\n",
    "                 'EE2' : 'EastWind2',\n",
    "                 'G8' : 'Nuke22',\n",
    "                 'G9' : 'RoskildeCHP',\n",
    "                 'G10' : 'RoskildeCHP',\n",
    "                 'G11' : 'Avedovre',\n",
    "                 'G12' : 'Avedovre',\n",
    "                 'G13' : 'BlueWater',\n",
    "                 'G14' : 'BlueWater',\n",
    "                 'G15' : 'CoalAtLast'}"
   ]
  },
  {
   "cell_type": "markdown",
   "metadata": {},
   "source": [
    "## Verifying congestion in the interconnection"
   ]
  },
  {
   "cell_type": "code",
   "execution_count": null,
   "metadata": {},
   "outputs": [],
   "source": [
    "#We check the congestion of the interconnection by analyzing the difference of scheduled energy for consumption and demand on DK1\n",
    "congestion_df = pd.DataFrame()\n",
    "for key in schedule_d.keys():\n",
    "    \n",
    "    DK1_supply = schedule_g[key][schedule_g[key]['Region'] == 'DK1']['Scheduled Pg'].sum()\n",
    "    DK1_demand = schedule_d[key][schedule_d[key]['Region'] == 'DK1']['Scheduled Pd'].sum()\n",
    "\n",
    "    energy_exchanged = DK1_supply - DK1_demand\n",
    "\n",
    "    if abs(energy_exchanged) == limit:\n",
    "        congestion = 1\n",
    "    else:\n",
    "        congestion = 0\n",
    "    \n",
    "    congestion_df = congestion_df.append({'ts': key,\n",
    "                                          'Energy Exchanged' : energy_exchanged,\n",
    "                                          'Congestion' : congestion}, ignore_index=True)\n",
    "\n",
    "print('The interconnection was congested in {} timesteps (hours).'.format(congestion_df['Congestion'].sum()))    \n",
    "\n",
    "print('Which represents aproximetely {} % of the analyzed period.'.format(round(100*congestion_df['Congestion'].sum()/len(congestion_df['Congestion']))))    \n"
   ]
  },
  {
   "cell_type": "markdown",
   "metadata": {},
   "source": [
    "## Calculating suppliers revenues"
   ]
  },
  {
   "cell_type": "code",
   "execution_count": null,
   "metadata": {
    "scrolled": false
   },
   "outputs": [],
   "source": [
    "#Revenues are calculated considering each the scheduled quantities for each supplier and market price for each time slot\n",
    "revenue_df = pd.concat([pd.DataFrame(schedule_g[key]['Revenue'].values, columns=[key]) for key in schedule_g.keys()], axis = 1)\n",
    "revenue_df.index = suppliers_dict.keys()\n",
    "print('Suppliers Revenues: \\n')\n",
    "print(revenue_df.sum(axis=1))\n",
    "print('\\nTotal: {}'.format(revenue_df.sum(axis=1).sum()))\n",
    "total_revenue = revenue_df.sum(axis=1).sum()"
   ]
  },
  {
   "cell_type": "markdown",
   "metadata": {},
   "source": [
    "# Calculating Payments"
   ]
  },
  {
   "cell_type": "code",
   "execution_count": null,
   "metadata": {},
   "outputs": [],
   "source": [
    "#Revenues are calculated considering each the scheduled quantities for each supplier and market price for each time slot\n",
    "payments_df = pd.concat([pd.DataFrame(schedule_d[key]['Payment'].values, columns=[key]) for key in schedule_d.keys()], axis = 1)\n",
    "payments_df.index = ['DK1', 'DK2']\n",
    "print('Payments: \\n')\n",
    "print(payments_df.sum(axis=1))\n",
    "print('\\nTotal: {}'.format(payments_df.sum(axis=1).sum()))\n",
    "total_payments = payments_df.sum(axis=1).sum()"
   ]
  },
  {
   "cell_type": "markdown",
   "metadata": {},
   "source": [
    "## Calculating difference between payments and revenues"
   ]
  },
  {
   "cell_type": "code",
   "execution_count": null,
   "metadata": {},
   "outputs": [],
   "source": [
    "total_payments - total_revenue"
   ]
  },
  {
   "cell_type": "markdown",
   "metadata": {},
   "source": [
    "# Calculating schedule frequency"
   ]
  },
  {
   "cell_type": "code",
   "execution_count": null,
   "metadata": {},
   "outputs": [],
   "source": [
    "schedule_frequency_df = pd.concat([pd.DataFrame(schedule_g[key]['Scheduled Pg'].values, columns=[key]) for key in schedule_d.keys()], axis = 1)\n",
    "schedule_frequency_df.index = suppliers_dict.keys()\n",
    "print('Total Schedule: \\n')\n",
    "print(schedule_frequency_df.sum(axis=1))"
   ]
  },
  {
   "cell_type": "markdown",
   "metadata": {},
   "source": [
    "## Checking if load shedding happened"
   ]
  },
  {
   "cell_type": "code",
   "execution_count": null,
   "metadata": {},
   "outputs": [],
   "source": [
    "#Check amount of load shedding by analyzing if the demand was ever greater than the supply for each region\n",
    "demand_scheduled = pd.concat([pd.DataFrame([schedule_d[key]['Scheduled Pd'].sum()], columns=[key]) for key in schedule_d.keys()], axis = 1).T\n",
    "\n",
    "load_shedding = pd.DataFrame({'ts' : consumptionProg_df['ts'],\n",
    "                              'Total Demand' : consumptionProg_df['DK1'] + consumptionProg_df['DK2'],\n",
    "                              'Scheduled Demand' : demand_scheduled[0].values})\n",
    "\n",
    "load_shedding['Difference'] = load_shedding['Total Demand'] - load_shedding['Scheduled Demand']\n",
    "print('Total load shedding: {} MWh'.format(load_shedding['Difference'].sum()))"
   ]
  },
  {
   "cell_type": "markdown",
   "metadata": {},
   "source": [
    "## Checking days with high and low wind penetration"
   ]
  },
  {
   "cell_type": "code",
   "execution_count": null,
   "metadata": {},
   "outputs": [],
   "source": [
    "#High wind penetration: Wind power production to meet demand\n",
    "#Low wind penetration: lowest ration between the wind energy produced by the total consumption of any given time slot\n",
    "wind_generation = pd.concat([pd.DataFrame([schedule_g[key]['Scheduled Pg'][0] + schedule_g[key]['Scheduled Pg'][1] + schedule_g[key]['Scheduled Pg'][9] + schedule_g[key]['Scheduled Pg'][10]], columns=[key]) for key in schedule_d.keys()], axis = 1).T\n",
    "\n",
    "WP = pd.DataFrame({'ts' : load_shedding['ts'],\n",
    "                                 'Demand' : load_shedding['Scheduled Demand'],\n",
    "                                 'Wind Suply' : wind_generation[0].values})\n",
    "daily_WP = WP.set_index('ts').resample('D').agg(['sum'])\n",
    "\n",
    "WP['WP'] = WP['Wind Suply']/WP['Demand']\n",
    "daily_WP['WP'] = daily_WP['Wind Suply']/daily_WP['Demand']\n",
    "\n",
    "day_max_WP = daily_WP['WP'].idxmax()\n",
    "day_min_WP = daily_WP['WP'].idxmin()\n",
    "\n",
    "daily_WP_max = daily_WP['WP'][day_max_WP]\n",
    "daily_WP_min = daily_WP['WP'][day_min_WP]\n",
    "\n",
    "high_day_df = WP.set_index('ts').loc['2019-01-01 00:00:00':'2019-01-01 23:59:59']\n",
    "low_day_df = WP.set_index('ts').loc['2019-01-20 00:00:00':'2019-01-20 23:59:59']\n",
    "\n",
    "\n",
    "high_ts = pd.to_datetime('2019-01-01 11:00:00')\n",
    "low_ts = WP.set_index('ts').loc['2019-01-20 00:00:00':'2019-01-20 23:59:59']['WP'].idxmin()\n",
    "\n",
    "#Since the consumption was met by the wind power production in different days, one was selected\n",
    "#HIGH WP: 01/01/2019 at 11:00 AM\n",
    "#LOW WP: 20/01/2019 at 11:00 AM"
   ]
  },
  {
   "cell_type": "markdown",
   "metadata": {},
   "source": [
    "# How often are the conventional generators scheduled?"
   ]
  },
  {
   "cell_type": "code",
   "execution_count": null,
   "metadata": {},
   "outputs": [],
   "source": [
    "conventional_frequency = len(WP[WP['WP'] != 1])\n",
    "conventional_frequency"
   ]
  },
  {
   "cell_type": "markdown",
   "metadata": {},
   "source": [
    "# Wind Curtailment"
   ]
  },
  {
   "cell_type": "code",
   "execution_count": null,
   "metadata": {},
   "outputs": [],
   "source": [
    "data = generationProg_df.set_index('ts')\n",
    "wind_curtailment = pd.concat([pd.DataFrame([data.loc[key]['WW1'] + data.loc[key]['WW2'] + data.loc[key]['EW1'] + data.loc[key]['EW2']], columns=[key]) for key in data.index.values], axis = 1).T\n",
    "wind_curtailment['wind scheduled'] = WP['Wind Suply'].values\n",
    "\n",
    "wind_curtailment['diff'] = wind_curtailment[0] - wind_curtailment['wind scheduled']\n",
    "wind_curtailment = wind_curtailment.round({'diff': 0})\n",
    "\n",
    "hours_curtailment = len(wind_curtailment[wind_curtailment['diff'] != 0])\n",
    "energy_curtailment = wind_curtailment[wind_curtailment['diff'] != 0]['diff'].sum()\n",
    "\n",
    "print('Wind curtailment occured {} hours.'.format(hours_curtailment))\n",
    "print('Resulting in curtailment of {} MWh'.format(energy_curtailment))\n"
   ]
  },
  {
   "cell_type": "markdown",
   "metadata": {},
   "source": [
    "## Plotting the prices of high and low Wind Power Penetration days"
   ]
  },
  {
   "cell_type": "code",
   "execution_count": null,
   "metadata": {},
   "outputs": [],
   "source": [
    "prices_DK1 = pd.concat([pd.DataFrame([schedule_d[key]['Market Price'][0]], columns=[key]) for key in schedule_d.keys()], axis = 1).T\n",
    "prices_DK2 = pd.concat([pd.DataFrame([schedule_d[key]['Market Price'][1]], columns=[key]) for key in schedule_d.keys()], axis = 1).T\n",
    "\n",
    "fig = plt.figure(figsize=(15,7))\n",
    "\n",
    "y1 = prices_DK1.loc['2019-01-20 00:00:00':'2019-01-20 23:59:59'][0].values\n",
    "x1 = prices_DK1.loc['2019-01-20 00:00:00':'2019-01-20 23:59:59'][0].index.time\n",
    "\n",
    "y2 = prices_DK1.loc['2019-01-01 00:00:00':'2019-01-01 23:59:59'][0].values\n",
    "x2 = prices_DK1.loc['2019-01-01 00:00:00':'2019-01-01 23:59:59'][0].index.time\n",
    "\n",
    "y3 = low_day_df.WP.values\n",
    "x3 = low_day_df.index.time\n",
    "\n",
    "y4 = high_day_df.WP.values\n",
    "x4 = high_day_df.index.time\n",
    "\n",
    "y5 = prices_DK2.loc['2019-01-20 00:00:00':'2019-01-20 23:59:59'][0].values\n",
    "x5 = prices_DK2.loc['2019-01-20 00:00:00':'2019-01-20 23:59:59'][0].index.time\n",
    "\n",
    "y6 = prices_DK2.loc['2019-01-01 00:00:00':'2019-01-01 23:59:59'][0].values\n",
    "x6 = prices_DK2.loc['2019-01-01 00:00:00':'2019-01-01 23:59:59'][0].index.time\n",
    "\n",
    "plt.subplot(2,1,1)\n",
    "plt.plot(x3, y3, color = 'red')\n",
    "plt.plot(x4, y4, color = 'blue')\n",
    "plt.ylabel('Wind Power Penetration', fontsize = 'large')\n",
    "plt.xlim(['00:00:00','23:00:00'])\n",
    "plt.xticks(x1, rotation = 45)\n",
    "plt.grid()\n",
    "plt.legend(['Low WP - 20/Jan', 'High WP - 01/Jan'])\n",
    "\n",
    "plt.subplot(2,1,2)\n",
    "plt.plot(x1, y1, color = 'red')\n",
    "plt.plot(x2, y2, color = 'blue')\n",
    "plt.plot(x5, y5, color = 'red', linestyle= '--')\n",
    "plt.plot(x6, y6, color = 'blue', linestyle= '--')\n",
    "plt.ylabel('Price [\\u20ac/MWh]', fontsize = 'large')\n",
    "plt.xlim(['00:00:00','23:00:00'])\n",
    "plt.xticks(x3, rotation = 45)\n",
    "plt.grid()\n",
    "plt.legend(['Low WP - 20/Jan - DK1', 'High WP - 01/Jan - DK1','Low WP - 20/Jan - DK2', 'High WP - 01/Jan - DK2'])\n",
    "plt.show()"
   ]
  },
  {
   "cell_type": "markdown",
   "metadata": {},
   "source": [
    "## Plot of congestion"
   ]
  },
  {
   "cell_type": "code",
   "execution_count": null,
   "metadata": {},
   "outputs": [],
   "source": [
    "TOT = len(congestion_df)\n",
    "DK12 = 100*len(congestion_df[congestion_df['Energy Exchanged'] > 0])/TOT\n",
    "DK21 = 100*len(congestion_df[congestion_df['Energy Exchanged'] < 0])/TOT\n",
    "print('DK1 exports energy {}% of the time'.format(DK12))\n",
    "print('DK2 exports energy {}% of the time'.format(DK21))"
   ]
  },
  {
   "cell_type": "code",
   "execution_count": null,
   "metadata": {},
   "outputs": [],
   "source": [
    "time = congestion_df['ts'].values\n",
    "congestion = congestion_df['Energy Exchanged'].values\n",
    "\n",
    "fig, ax = plt.subplots(figsize=(16, 5))\n",
    "ax.plot(time, congestion, lw=2, color='grey')\n",
    "ax.fill_between(time, congestion, 0, where=congestion >= 0, facecolor='blue', interpolate=True, alpha=0.3)\n",
    "ax.fill_between(time, congestion, 0, where=congestion <= 0, facecolor='purple', interpolate=True, alpha=0.3)\n",
    "ax.axhline(600, linestyle = ':' ,color = 'red')\n",
    "ax.legend(['Energy exchange', 'Interconnection limitation', 'DK1 Exporting','DK2 Exporting'], loc='upper center', bbox_to_anchor=(0.5, -0.08),\n",
    "          fancybox=True, shadow=True, ncol=4)\n",
    "ax.axhline(-600, linestyle = ':' ,color = 'red')\n",
    "ax.axhline(0, linestyle = ':', color = 'grey')\n",
    "ax.xaxis.set_major_locator(mdates.DayLocator())\n",
    "ax.xaxis.set_major_formatter(mdates.DateFormatter('%d'))\n",
    "ax.set_xlim(time[0], time[-1])\n",
    "ax.set_ylabel('Interconnection [MW]')\n",
    "ax.grid()\n",
    "\n",
    "fig.show()"
   ]
  },
  {
   "cell_type": "markdown",
   "metadata": {},
   "source": [
    "# Prices"
   ]
  },
  {
   "cell_type": "code",
   "execution_count": null,
   "metadata": {},
   "outputs": [],
   "source": [
    "prices_df = pd.DataFrame(price).T\n",
    "prices_df['hour'] = prices_df.index.time\n",
    "prices_DK1_df = prices_df.groupby('hour').aggregate({'DK1': ['min', 'max', 'mean']})\n",
    "prices_DK2_df = prices_df.groupby('hour').aggregate({'DK2': ['min', 'max', 'mean']})"
   ]
  },
  {
   "cell_type": "code",
   "execution_count": null,
   "metadata": {},
   "outputs": [],
   "source": [
    "DK1_min = prices_DK1_df.values[:,0]\n",
    "DK1_max = prices_DK1_df.values[:,1]\n",
    "DK1_mean = prices_DK1_df.values[:,2]\n",
    "\n",
    "DK2_min = prices_DK2_df.values[:,0]\n",
    "DK2_max = prices_DK2_df.values[:,1]\n",
    "DK2_mean = prices_DK2_df.values[:,2]\n",
    "\n",
    "t = prices_DK1_df.index.values\n",
    "\n",
    "# plot it!\n",
    "fig = plt.figure(figsize=(15,7))\n",
    "\n",
    "ax = plt.subplot(2,1,1)\n",
    "ax.set_title('Hourly Prices DK1')\n",
    "\n",
    "ax.plot(t, DK1_mean, lw=2, label='Mean', color='blue')\n",
    "ax.fill_between(t, DK1_max, DK1_min, facecolor='blue', alpha=0.3, interpolate=True,)\n",
    "ax.plot(t, DK1_min, lw=2, label='Min', color='green', linestyle= '--')\n",
    "ax.plot(t, DK1_max, lw=2, label='Max', color='red', linestyle= '--')\n",
    "ax.legend(loc='center left', bbox_to_anchor=(1, 0.6),\n",
    "          fancybox=True, shadow=True, ncol=1)\n",
    "ax.set_xlabel('')\n",
    "ax.set_xticks(t)\n",
    "ax.set_xlim(['00:00:00','23:00:00'])\n",
    "ax.grid()\n",
    "ax.set_ylabel('Price [\\u20ac/MWh]')\n",
    "ax.set_ylim([-20,100])\n",
    "\n",
    "ax = plt.subplot(2,1,2)\n",
    "ax.set_title('Hourly Prices DK2')\n",
    "ax.plot(t, DK2_mean, lw=2, label='Mean', color='blue')\n",
    "ax.fill_between(t, DK2_max, DK2_min, facecolor='blue', interpolate=True, alpha=0.3)\n",
    "ax.plot(t, DK2_min, lw=2, label='Min', color='green', linestyle= '--')\n",
    "ax.plot(t, DK2_max, lw=2, label='Max', color='red', linestyle= '--')\n",
    "ax.legend(loc='center left', bbox_to_anchor=(1, 0.5),\n",
    "          fancybox=True, shadow=True, ncol=1)\n",
    "ax.set_xlabel('')\n",
    "ax.set_xticks(t)\n",
    "ax.set_xlim(['00:00:00','23:00:00'])\n",
    "ax.set_ylim([-20,100])\n",
    "ax.grid()\n",
    "ax.set_ylabel('Price [\\u20ac/MWh]')"
   ]
  },
  {
   "cell_type": "markdown",
   "metadata": {},
   "source": [
    "## Couting time units with negative prices"
   ]
  },
  {
   "cell_type": "code",
   "execution_count": null,
   "metadata": {},
   "outputs": [],
   "source": [
    "neg_DK1 = len(prices_df[prices_df['DK1'] < 0 ])\n",
    "neg_DK2 = len(prices_df[prices_df['DK2'] < 0 ])\n",
    "\n",
    "print('DK1 had negative prices in {} hours.'.format(neg_DK1))\n",
    "print('DK2 had negative prices in {} hours.'.format(neg_DK2))"
   ]
  }
 ],
 "metadata": {
  "kernelspec": {
   "display_name": "venv",
   "language": "python",
   "name": "venv"
  },
  "language_info": {
   "codemirror_mode": {
    "name": "ipython",
    "version": 3
   },
   "file_extension": ".py",
   "mimetype": "text/x-python",
   "name": "python",
   "nbconvert_exporter": "python",
   "pygments_lexer": "ipython3",
   "version": "3.7.1"
  }
 },
 "nbformat": 4,
 "nbformat_minor": 2
}
