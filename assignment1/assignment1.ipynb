{
 "cells": [
  {
   "cell_type": "code",
   "execution_count": 3,
   "metadata": {},
   "outputs": [],
   "source": [
    "import pandas as pd\n",
    "import numpy as np\n",
    "from scipy.optimize import linprog \n",
    "from numpy.linalg import solve"
   ]
  },
  {
   "cell_type": "markdown",
   "metadata": {},
   "source": [
    "### Standard Model"
   ]
  },
  {
   "cell_type": "code",
   "execution_count": 7,
   "metadata": {},
   "outputs": [
    {
     "name": "stdout",
     "output_type": "stream",
     "text": [
      "Generation schedules: [120.  50. 200. 400.  60.  50.  60.  55.   0.   0.   0.   0.   0.   0.\n",
      "   0.]\n",
      "Demand schedules: [250. 300. 120.  80.  40.  70.  60.  45.  30.   0.   0.   0.]\n"
     ]
    }
   ],
   "source": [
    "A_eq = np.array([[ 1.,  1.,  1.,  1.,  1.,  1.,  1.,  1.,  1.,  1.,  1.,  1.,  1., 1.,  1., \n",
    "                  -1., -1., -1., -1., -1., -1., -1., -1., -1., -1., -1., -1.]])\n",
    "b_eq = 0\n",
    "\n",
    "A = np.identity(A_eq.size)\n",
    "\n",
    "power_g = np.array([120, 50, 200, 400, 60, 50, 60, 100, 70, 50, 70, 45, 50, 60, 50]) \n",
    "power_d = np.array([250, 300, 120, 80, 40, 70, 60, 45, 30, 35, 25, 10]) \n",
    "b = np.array([np.concatenate((power_g, power_d))]).T\n",
    "\n",
    "cost_g = np.array([0, 0, 15, 30, 32.5, 34, 36, 37.5, 39, 40, 60, 70, 100, 150, 200])\n",
    "cost_d = -np.array([200, 110, 100, 90, 85, 75, 65, 40, 38, 31, 24, 16])\n",
    "c = np.concatenate((cost_g, cost_d))\n",
    "\n",
    "res_std = linprog(c, A_eq=A_eq, b_eq = b_eq, A_ub=A, b_ub=b, bounds=(0, None))\n",
    "print('Generation schedules:', res_std.x[:15])\n",
    "print('Demand schedules:', res_std.x[15:])"
   ]
  },
  {
   "cell_type": "markdown",
   "metadata": {},
   "source": [
    "### Dual"
   ]
  },
  {
   "cell_type": "code",
   "execution_count": 211,
   "metadata": {},
   "outputs": [
    {
     "name": "stdout",
     "output_type": "stream",
     "text": [
      "Cost: 37.5\n"
     ]
    }
   ],
   "source": [
    "a1 = np.ones(15)\n",
    "a2 = -np.ones(12)\n",
    "a3 = np.array([np.hstack((a1,a2))]).T\n",
    "a4 = -np.identity(27)\n",
    "\n",
    "A_tilde = np.concatenate((a4,a3),axis=1)\n",
    "\n",
    "b_tilde = np.concatenate((cost_g, cost_d))\n",
    "\n",
    "c_tilde = np.append(-b, np.array([0]))\n",
    "\n",
    "res_dual = linprog(-c_tilde, A_ub=A_tilde, b_ub=b_tilde)\n",
    "print('Cost:', res_dual.x[-1])"
   ]
  },
  {
   "cell_type": "code",
   "execution_count": 215,
   "metadata": {},
   "outputs": [
    {
     "data": {
      "text/plain": [
       "array([0., 0., 0., 0., 0., 0., 0., 0., 0., 0., 1., 0., 0., 0., 0., 0., 0.,\n",
       "       0., 0., 0., 0., 0., 0., 0., 0., 0., 0.])"
      ]
     },
     "execution_count": 215,
     "metadata": {},
     "output_type": "execute_result"
    }
   ],
   "source": [
    "df = pd.DataFrame(A)\n",
    "df[10].values"
   ]
  },
  {
   "cell_type": "code",
   "execution_count": null,
   "metadata": {},
   "outputs": [],
   "source": []
  }
 ],
 "metadata": {
  "kernelspec": {
   "display_name": "venv",
   "language": "python",
   "name": "venv"
  },
  "language_info": {
   "codemirror_mode": {
    "name": "ipython",
    "version": 3
   },
   "file_extension": ".py",
   "mimetype": "text/x-python",
   "name": "python",
   "nbconvert_exporter": "python",
   "pygments_lexer": "ipython3",
   "version": "3.7.2"
  }
 },
 "nbformat": 4,
 "nbformat_minor": 2
}
