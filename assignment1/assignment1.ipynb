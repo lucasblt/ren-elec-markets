{
 "cells": [
  {
   "cell_type": "code",
   "execution_count": null,
   "metadata": {},
   "outputs": [],
   "source": [
    "import pandas as pd\n",
    "import numpy as np\n",
    "from scipy.optimize import linprog \n",
    "from numpy.linalg import solve\n",
    "import urllib.request\n",
    "import os\n",
    "import day_ahead\n",
    "import pulp as plp\n",
    "import matplotlib.pyplot as plt\n",
    "import matplotlib.dates as mdates"
   ]
  },
  {
   "cell_type": "markdown",
   "metadata": {},
   "source": [
    "### Downloading and parsing data for Consumption Prognosis"
   ]
  },
  {
   "cell_type": "code",
   "execution_count": 2,
   "metadata": {},
   "outputs": [
    {
     "name": "stderr",
     "output_type": "stream",
     "text": [
      "C:\\Users\\lucas\\Anaconda3\\lib\\site-packages\\ipykernel_launcher.py:21: SettingWithCopyWarning: \n",
      "A value is trying to be set on a copy of a slice from a DataFrame\n",
      "\n",
      "See the caveats in the documentation: http://pandas.pydata.org/pandas-docs/stable/indexing.html#indexing-view-versus-copy\n",
      "C:\\Users\\lucas\\Anaconda3\\lib\\site-packages\\ipykernel_launcher.py:26: SettingWithCopyWarning: \n",
      "A value is trying to be set on a copy of a slice from a DataFrame\n",
      "\n",
      "See the caveats in the documentation: http://pandas.pydata.org/pandas-docs/stable/indexing.html#indexing-view-versus-copy\n"
     ]
    }
   ],
   "source": [
    "if not os.path.exists('data'):\n",
    "    os.makedirs('data')\n",
    "\n",
    "#Consumption prognosis data source on Nord Pool's website\n",
    "url = \"http://www.nordpoolspot.com/globalassets/marketdata-excel-files/consumption-prognosis_2019_hourly.xls\" \n",
    "urllib.request.urlretrieve(url, 'data/consumption.xls');\n",
    "\n",
    "#Convert de .xls file into a Data Frame\n",
    "consumptionProg_raw_data = pd.read_html('data/consumption.xls')[0].values\n",
    "consumptionProg_df = pd.DataFrame(consumptionProg_raw_data)\n",
    "consumptionProg_df.columns = ['Dates', 'Hours', 'NO', 'SE', 'FI', 'DK1', 'DK2', 'EE', 'LV', 'LT']\n",
    "consumptionProg_df = consumptionProg_df[['Dates', 'Hours', 'DK1', 'DK2']]\n",
    "consumptionProg_df['Hours'] = consumptionProg_df['Hours'].str.slice(stop=2)\n",
    "consumptionProg_df['ts'] = pd.to_datetime(consumptionProg_df['Dates'] + consumptionProg_df['Hours'] + ':00', format='%d-%m-%Y%H:%M')\n",
    "consumptionProg_df = consumptionProg_df[consumptionProg_df['ts'] < pd.to_datetime('2019-02-01')]\n",
    "\n",
    "## Including Import of DK1 <- Norway (200MW)\n",
    "consumptionProg_df['DK1'] = consumptionProg_df['DK1'] - 200\n",
    "\n",
    "## Including Export of DK1 -> Germany (100MW)\n",
    "for i in consumptionProg_df.index:\n",
    "    if (consumptionProg_df['ts'][i].time() >= pd.to_datetime('07:00:00').time()) & (consumptionProg_df['ts'][i].time() < pd.to_datetime('14:00:00').time()):\n",
    "        consumptionProg_df['DK1'][i] = consumptionProg_df['DK1'][i] + 100\n",
    "        \n",
    "## Including Import of DK2 <- Sweden (150MW)\n",
    "for i in consumptionProg_df.index:\n",
    "    if (consumptionProg_df['ts'][i].time() >= pd.to_datetime('13:00:00').time()) & (consumptionProg_df['ts'][i].time() < pd.to_datetime('19:00:00').time()):\n",
    "        consumptionProg_df['DK2'][i] = consumptionProg_df['DK2'][i] - 150"
   ]
  },
  {
   "cell_type": "markdown",
   "metadata": {},
   "source": [
    "### Downloading and parsing data for Wind Power Generation Prognosis"
   ]
  },
  {
   "cell_type": "code",
   "execution_count": 3,
   "metadata": {},
   "outputs": [],
   "source": [
    "#Wind power generation prognosis data source on Nord Pool's website\n",
    "url2 = \"http://www.nordpoolspot.com/globalassets/marketdata-excel-files/wind-power-dk-prognosis_2019_hourly.xls\" \n",
    "urllib.request.urlretrieve(url2, 'data/wind-prognosis.xls');\n",
    "\n",
    "#Convert de .xls file into a Data Frame\n",
    "windProg_raw_data = pd.read_html('data/wind-prognosis.xls')[0].values\n",
    "windProg_df = pd.DataFrame(windProg_raw_data)\n",
    "windProg_df.columns = ['Dates', 'Hours', 'DK1', 'DK2']\n",
    "windProg_df['Hours'] = windProg_df['Hours'].str.slice(stop=2)\n",
    "windProg_df['ts'] = pd.to_datetime(windProg_df['Dates'] + windProg_df['Hours'] + ':00', format='%d-%m-%Y%H:%M')\n",
    "windProg_df = windProg_df[windProg_df['ts'] < pd.to_datetime('2019-02-01')]\n",
    "\n",
    "#Set the proportion of wind power generation to each producer in each region\n",
    "windProg_df['WW1'] = windProg_df['DK1']*(1/4)\n",
    "windProg_df['WW2'] = windProg_df['DK1']*(3/4)\n",
    "windProg_df['EW1'] = windProg_df['DK2']*(1/3)\n",
    "windProg_df['EW2'] = windProg_df['DK2']*(2/3)\n",
    "\n",
    "windProg_df = windProg_df.drop(['Dates', 'Hours', 'DK1', 'DK2'], axis=1)"
   ]
  },
  {
   "cell_type": "code",
   "execution_count": 4,
   "metadata": {},
   "outputs": [],
   "source": [
    "#List of all energy suppliers by region with their respective offers (energy quantity and bid price)\n",
    "region_g = ['DK1', 'DK1', 'DK2', 'DK2', 'DK1', 'DK1', 'DK1', 'DK1', 'DK1', 'DK1','DK1', 'DK2', 'DK2', 'DK2', 'DK2', 'DK2', 'DK2', 'DK2', 'DK2']\n",
    "cost_g = np.array([0, -17, -20, -12, 70, 64, 153, 82, 89, 25, 250, 19, 43, 39, 36, 31, 5, 10, 250])\n",
    "power_g_all = np.array([400, 330, 345, 390, 510, 1000, 900, 1200, 320, 360, 400, 350, 730, 630, 800])\n",
    "#Array considering time restriction of some generators\n",
    "power_g_rest = np.array([400, 330, 345, 390, 510, 0, 900, 0, 320, 360, 400, 350, 730, 630, 800])\n",
    "\n",
    "generationProg_df = windProg_df\n",
    "\n",
    "for i in range(15):\n",
    "    generationProg_df['G{}'.format(i+1)] = power_g_rest[i]\n",
    "    \n",
    "for i in generationProg_df.index:\n",
    "    if (generationProg_df['ts'][i].time() >= pd.to_datetime('05:00:00').time()) & (generationProg_df['ts'][i].time() < pd.to_datetime('22:00:00').time()):\n",
    "        generationProg_df['G6'][i] = power_g_all[5]\n",
    "        generationProg_df['G8'][i] = power_g_all[7]"
   ]
  },
  {
   "cell_type": "code",
   "execution_count": 5,
   "metadata": {},
   "outputs": [
    {
     "name": "stderr",
     "output_type": "stream",
     "text": [
      "C:\\Users\\lucas\\Anaconda3\\lib\\site-packages\\ipykernel_launcher.py:8: SettingWithCopyWarning: \n",
      "A value is trying to be set on a copy of a slice from a DataFrame\n",
      "\n",
      "See the caveats in the documentation: http://pandas.pydata.org/pandas-docs/stable/indexing.html#indexing-view-versus-copy\n",
      "  \n",
      "C:\\Users\\lucas\\Anaconda3\\lib\\site-packages\\ipykernel_launcher.py:9: SettingWithCopyWarning: \n",
      "A value is trying to be set on a copy of a slice from a DataFrame\n",
      "\n",
      "See the caveats in the documentation: http://pandas.pydata.org/pandas-docs/stable/indexing.html#indexing-view-versus-copy\n",
      "  if __name__ == '__main__':\n"
     ]
    }
   ],
   "source": [
    "\n"
   ]
  },
  {
   "cell_type": "code",
   "execution_count": 6,
   "metadata": {},
   "outputs": [],
   "source": [
    "schedule_g = {}\n",
    "schedule_d = {}\n",
    "price = {}\n",
    "\n",
    "limit = 600\n",
    "\n",
    "for i in range(len(consumptionProg_df)):\n",
    "    g_df = pd.DataFrame({'ID' : list(generationProg_df)[1:],\n",
    "                         'region' : region_g,\n",
    "                         'power_g' : generationProg_df[list(generationProg_df)[1:]].values[i],\n",
    "                         'cost_g' : cost_g})\n",
    "\n",
    "    d_df = pd.DataFrame({'ID' : ['D1','D2'],\n",
    "                         'region' : list(consumptionProg_df)[2:-1],\n",
    "                         'power_d' : consumptionProg_df[list(consumptionProg_df)[2:-1]].values[i],\n",
    "                         'cost_d' : [99999, 99999]})\n",
    "    \n",
    "    schedule_g[consumptionProg_df['ts'][i]], schedule_d[consumptionProg_df['ts'][i]], price[consumptionProg_df['ts'][i]] = day_ahead.solver(g_df, d_df, limit)\n",
    " \n"
   ]
  },
  {
   "cell_type": "markdown",
   "metadata": {},
   "source": [
    "## Adjusting market price for wind farms with support schemes"
   ]
  },
  {
   "cell_type": "code",
   "execution_count": 7,
   "metadata": {},
   "outputs": [
    {
     "name": "stderr",
     "output_type": "stream",
     "text": [
      "C:\\Users\\lucas\\Anaconda3\\lib\\site-packages\\ipykernel_launcher.py:2: SettingWithCopyWarning: \n",
      "A value is trying to be set on a copy of a slice from a DataFrame\n",
      "\n",
      "See the caveats in the documentation: http://pandas.pydata.org/pandas-docs/stable/indexing.html#indexing-view-versus-copy\n",
      "  \n",
      "C:\\Users\\lucas\\Anaconda3\\lib\\site-packages\\ipykernel_launcher.py:3: SettingWithCopyWarning: \n",
      "A value is trying to be set on a copy of a slice from a DataFrame\n",
      "\n",
      "See the caveats in the documentation: http://pandas.pydata.org/pandas-docs/stable/indexing.html#indexing-view-versus-copy\n",
      "  This is separate from the ipykernel package so we can avoid doing imports until\n",
      "C:\\Users\\lucas\\Anaconda3\\lib\\site-packages\\ipykernel_launcher.py:4: SettingWithCopyWarning: \n",
      "A value is trying to be set on a copy of a slice from a DataFrame\n",
      "\n",
      "See the caveats in the documentation: http://pandas.pydata.org/pandas-docs/stable/indexing.html#indexing-view-versus-copy\n",
      "  after removing the cwd from sys.path.\n"
     ]
    }
   ],
   "source": [
    "for key in schedule_g.keys():\n",
    "    schedule_g[key]['Market Price'][1] = price[key]['DK1'] + 17\n",
    "    schedule_g[key]['Market Price'][9] = 20\n",
    "    schedule_g[key]['Market Price'][10] = price[key]['DK2'] + 12\n",
    "    schedule_g[key]['Revenue'] = schedule_g[key]['Market Price'] * schedule_g[key]['Scheduled Pg']"
   ]
  },
  {
   "cell_type": "markdown",
   "metadata": {},
   "source": [
    "### Suppliers Dictionary"
   ]
  },
  {
   "cell_type": "code",
   "execution_count": 8,
   "metadata": {},
   "outputs": [],
   "source": [
    "suppliers_dict = {'WW1' : 'WestWind1',\n",
    "                 'WW2' : 'WestWind2',\n",
    "                 'G1' : 'FlexiGas',\n",
    "                 'G2' : 'FlexiGas',\n",
    "                 'G3' : 'FlexiGas',\n",
    "                 'G4' : 'Peako',\n",
    "                 'G5' : 'Peako',\n",
    "                 'G6' : 'Nuke22',\n",
    "                 'G7' : 'CoalAtLast',\n",
    "                 'EE1' : 'EastWind1',\n",
    "                 'EE2' : 'EastWind2',\n",
    "                 'G8' : 'Nuke22',\n",
    "                 'G9' : 'RoskildeCHP',\n",
    "                 'G10' : 'RoskildeCHP',\n",
    "                 'G11' : 'Avedovre',\n",
    "                 'G12' : 'Avedovre',\n",
    "                 'G13' : 'BlueWater',\n",
    "                 'G14' : 'BlueWater',\n",
    "                 'G15' : 'CoalAtLast'}"
   ]
  },
  {
   "cell_type": "markdown",
   "metadata": {},
   "source": [
    "## Verifying congestion in the interconnection"
   ]
  },
  {
   "cell_type": "code",
   "execution_count": 9,
   "metadata": {},
   "outputs": [
    {
     "name": "stdout",
     "output_type": "stream",
     "text": [
      "The interconnection was congested in 511.0 timesteps (hours).\n",
      "Which represents aproximetely 69.0 % of the analyzed period.\n"
     ]
    }
   ],
   "source": [
    "congestion_df = pd.DataFrame()\n",
    "for key in schedule_d.keys():\n",
    "    \n",
    "    DK1_supply = schedule_g[key][schedule_g[key]['Region'] == 'DK1']['Scheduled Pg'].sum()\n",
    "    DK1_demand = schedule_d[key][schedule_d[key]['Region'] == 'DK1']['Scheduled Pd'].sum()\n",
    "\n",
    "    energy_exchanged = DK1_supply - DK1_demand\n",
    "\n",
    "    if abs(energy_exchanged) == limit:\n",
    "        congestion = 1\n",
    "    else:\n",
    "        congestion = 0\n",
    "    \n",
    "    congestion_df = congestion_df.append({'ts': key,\n",
    "                                          'Energy Exchanged' : energy_exchanged,\n",
    "                                          'Congestion' : congestion}, ignore_index=True)\n",
    "\n",
    "print('The interconnection was congested in {} timesteps (hours).'.format(congestion_df['Congestion'].sum()))    \n",
    "\n",
    "print('Which represents aproximetely {} % of the analyzed period.'.format(round(100*congestion_df['Congestion'].sum()/len(congestion_df['Congestion']))))    \n"
   ]
  },
  {
   "cell_type": "markdown",
   "metadata": {},
   "source": [
    "## Calculating suppliers revenues"
   ]
  },
  {
   "cell_type": "code",
   "execution_count": 10,
   "metadata": {
    "scrolled": false
   },
   "outputs": [
    {
     "name": "stdout",
     "output_type": "stream",
     "text": [
      "Suppliers Revenues: \n",
      "\n",
      "WW1    5.678087e+06\n",
      "WW2    3.136378e+07\n",
      "G1     3.670740e+06\n",
      "G2     5.534338e+06\n",
      "G3     0.000000e+00\n",
      "G4     1.142750e+06\n",
      "G5     1.982920e+05\n",
      "G6     1.441250e+07\n",
      "G7     0.000000e+00\n",
      "EE1    2.357553e+06\n",
      "EE2    5.268758e+06\n",
      "G8     5.894364e+06\n",
      "G9     0.000000e+00\n",
      "G10    1.848600e+04\n",
      "G11    4.615200e+05\n",
      "G12    1.187862e+06\n",
      "G13    8.825185e+06\n",
      "G14    7.218610e+06\n",
      "G15    0.000000e+00\n",
      "dtype: float64\n"
     ]
    }
   ],
   "source": [
    "revenue_df = pd.concat([pd.DataFrame(schedule_g[key]['Revenue'].values, columns=[key]) for key in schedule_d.keys()], axis = 1)\n",
    "revenue_df.index = suppliers_dict.keys()\n",
    "print('Suppliers Revenues: \\n')\n",
    "print(revenue_df.sum(axis=1))"
   ]
  },
  {
   "cell_type": "markdown",
   "metadata": {},
   "source": [
    "## Checking if load shedding happened"
   ]
  },
  {
   "cell_type": "code",
   "execution_count": 11,
   "metadata": {},
   "outputs": [
    {
     "name": "stdout",
     "output_type": "stream",
     "text": [
      "Total load shedding: 0.0 MWh\n"
     ]
    }
   ],
   "source": [
    "demand_scheduled = pd.concat([pd.DataFrame([schedule_d[key]['Scheduled Pd'].sum()], columns=[key]) for key in schedule_d.keys()], axis = 1).T\n",
    "\n",
    "load_shedding = pd.DataFrame({'ts' : consumptionProg_df['ts'],\n",
    "                              'Total Demand' : consumptionProg_df['DK1'] + consumptionProg_df['DK2'],\n",
    "                              'Scheduled Demand' : demand_scheduled[0].values})\n",
    "\n",
    "load_shedding['Difference'] = load_shedding['Total Demand'] - load_shedding['Scheduled Demand']\n",
    "print('Total load shedding: {} MWh'.format(load_shedding['Difference'].sum()))"
   ]
  },
  {
   "cell_type": "markdown",
   "metadata": {},
   "source": [
    "## Checking days with high and low wind penetration"
   ]
  },
  {
   "cell_type": "code",
   "execution_count": 21,
   "metadata": {},
   "outputs": [],
   "source": [
    "wind_generation = pd.concat([pd.DataFrame([schedule_g[key]['Scheduled Pg'][0] + schedule_g[key]['Scheduled Pg'][1] + schedule_g[key]['Scheduled Pg'][9] + schedule_g[key]['Scheduled Pg'][10]], columns=[key]) for key in schedule_d.keys()], axis = 1).T\n",
    "\n",
    "WP = pd.DataFrame({'ts' : load_shedding['ts'],\n",
    "                                 'Demand' : load_shedding['Scheduled Demand'],\n",
    "                                 'Wind Suply' : wind_generation[0].values})\n",
    "daily_WP = WP.set_index('ts').resample('D').agg(['sum'])\n",
    "\n",
    "WP['WP'] = WP['Wind Suply']/WP['Demand']\n",
    "daily_WP['WP'] = daily_WP['Wind Suply']/daily_WP['Demand']\n",
    "\n",
    "day_max_WP = daily_WP['WP'].idxmax()\n",
    "day_min_WP = daily_WP['WP'].idxmin()\n",
    "\n",
    "daily_WP_max = daily_WP['WP'][day_max_WP]\n",
    "daily_WP_min = daily_WP['WP'][day_min_WP]\n",
    "\n",
    "high_day_df = WP.set_index('ts').loc['2019-01-01 00:00:00':'2019-01-01 23:59:59']\n",
    "low_day_df = WP.set_index('ts').loc['2019-01-20 00:00:00':'2019-01-20 23:59:59']\n",
    "\n",
    "\n",
    "high_ts = pd.to_datetime('2019-01-01 11:00:00')\n",
    "low_ts = WP.set_index('ts').loc['2019-01-20 00:00:00':'2019-01-20 23:59:59']['WP'].idxmin()\n",
    "\n"
   ]
  },
  {
   "cell_type": "markdown",
   "metadata": {},
   "source": [
    "## Plotting the prices of these 2 days"
   ]
  },
  {
   "cell_type": "code",
   "execution_count": 24,
   "metadata": {},
   "outputs": [
    {
     "data": {
      "image/png": "[encoded data removed]",
      "text/plain": [
       "<Figure size 1080x504 with 2 Axes>"
      ]
     },
     "metadata": {
      "needs_background": "light"
     },
     "output_type": "display_data"
    }
   ],
   "source": [
    "prices_DK1 = pd.concat([pd.DataFrame([schedule_d[key]['Market Price'][0]], columns=[key]) for key in schedule_d.keys()], axis = 1).T\n",
    "prices_DK2 = pd.concat([pd.DataFrame([schedule_d[key]['Market Price'][1]], columns=[key]) for key in schedule_d.keys()], axis = 1).T\n",
    "\n",
    "fig = plt.figure(figsize=(15,7))\n",
    "\n",
    "y1 = prices_DK1.loc['2019-01-20 00:00:00':'2019-01-20 23:59:59'][0].values\n",
    "x1 = prices_DK1.loc['2019-01-20 00:00:00':'2019-01-20 23:59:59'][0].index.time\n",
    "\n",
    "y2 = prices_DK2.loc['2019-01-01 00:00:00':'2019-01-01 23:59:59'][0].values\n",
    "x2 = prices_DK2.loc['2019-01-01 00:00:00':'2019-01-01 23:59:59'][0].index.time\n",
    "\n",
    "y3 = low_day_df.WP.values\n",
    "x3 = low_day_df.index.time\n",
    "\n",
    "y4 = high_day_df.WP.values\n",
    "x4 = high_day_df.index.time\n",
    "\n",
    "plt.subplot(2,1,1)\n",
    "plt.plot(x3, y3, color = 'red')\n",
    "plt.plot(x4, y4, color = 'blue')\n",
    "plt.ylabel('Wind Power Penetration', fontsize = 'large')\n",
    "plt.xlim(['00:00:00','23:00:00'])\n",
    "plt.xticks(x1, rotation = 45)\n",
    "plt.grid()\n",
    "plt.legend(['Low WP - 20/Jan', 'High WP - 01/Jan'])\n",
    "\n",
    "plt.subplot(2,1,2)\n",
    "plt.plot(x1, y1, color = 'red')\n",
    "plt.plot(x2, y2, color = 'blue')\n",
    "plt.ylabel('Price [\\u20ac/MWh]', fontsize = 'large')\n",
    "plt.xlim(['00:00:00','23:00:00'])\n",
    "plt.xticks(x3, rotation = 45)\n",
    "plt.grid()\n",
    "plt.legend(['Low WP - 20/Jan', 'High WP - 01/Jan'])\n",
    "plt.show()"
   ]
  },
  {
   "cell_type": "code",
   "execution_count": 46,
   "metadata": {},
   "outputs": [
    {
     "data": {
      "text/plain": [
       "(0, 5000)"
      ]
     },
     "execution_count": 46,
     "metadata": {},
     "output_type": "execute_result"
    },
    {
     "data": {
      "image/png": "[encoded data removed]",
      "text/plain": [
       "<Figure size 1080x360 with 4 Axes>"
      ]
     },
     "metadata": {
      "needs_background": "light"
     },
     "output_type": "display_data"
    }
   ],
   "source": [
    "## HIGH PENETRATION DAY\n",
    "\n",
    "curve_g_df = pd.DataFrame({'Pg' : generationProg_df.set_index('ts').loc[high_ts]})\n",
    "curve_g_df['Bid'] = cost_g\n",
    "curve_g_df['Zone'] = region_g\n",
    "curve_g_DK1_df = curve_g_df.loc[curve_g_df.Zone=='DK1'].sort_values(by='Bid')\n",
    "curve_g_DK2_df = curve_g_df.loc[curve_g_df.Zone=='DK2'].sort_values(by='Bid')\n",
    "curve_g_DK1_df['Supply'] = curve_g_DK1_df['Pg'].cumsum()\n",
    "curve_g_DK2_df['Supply'] = curve_g_DK2_df['Pg'].cumsum()\n",
    "curve_g_DK1_df = curve_g_DK1_df.drop(['Zone', 'Pg'], axis=1).set_index('Supply')\n",
    "curve_g_DK2_df = curve_g_DK2_df.drop(['Zone', 'Pg'], axis=1).set_index('Supply')\n",
    "\n",
    "fig, axes = plt.subplots(nrows=2, ncols=2)\n",
    "plt.subplots_adjust(hspace = 0.5)\n",
    "plt.autoscale(tight=True)\n",
    "\n",
    "curve_g_DK1_df.plot(drawstyle=\"steps-post\",linewidth=2, figsize = (15,5), ax=axes[0,0])\n",
    "axes[0,0].axvline(consumptionProg_df.set_index('ts').loc[high_ts]['DK1'], color = 'red')\n",
    "axes[0,0].set_ylabel('Bid [\\u20ac/MWh]')\n",
    "axes[0,0].set_xlabel('')\n",
    "axes[0,0].legend(['Supply','Demand'])\n",
    "axes[0,0].set_xlabel('Quantity [MWh]')\n",
    "axes[0,0].set_title('DK1 - High Wind Power Penetration Day')\n",
    "axes[0,0].set_xlim([0,7000])\n",
    "\n",
    "\n",
    "curve_g_DK2_df.plot(drawstyle=\"steps-post\",linewidth=2, ax=axes[0,1])\n",
    "axes[0,1].axvline(consumptionProg_df.set_index('ts').loc[high_ts]['DK2'], color = 'red')\n",
    "axes[0,1].set_ylabel('Bid [\\u20ac/MWh]')\n",
    "axes[0,1].set_xlabel('')\n",
    "axes[0,1].legend(['Supply','Demand'])\n",
    "axes[0,1].set_xlabel('Quantity [MWh]')\n",
    "axes[0,1].set_title('DK2 - High Wind Power Penetration Day')\n",
    "axes[0,1].set_xlim([0,6000])\n",
    "\n",
    "\n",
    "## LOW PENETRATION DAY\n",
    "\n",
    "curve_g_df = pd.DataFrame({'Pg' : generationProg_df.set_index('ts').loc[low_ts]})\n",
    "curve_g_df['Bid'] = cost_g\n",
    "curve_g_df['Zone'] = region_g\n",
    "curve_g_DK1_df = curve_g_df.loc[curve_g_df.Zone=='DK1'].sort_values(by='Bid')\n",
    "curve_g_DK2_df = curve_g_df.loc[curve_g_df.Zone=='DK2'].sort_values(by='Bid')\n",
    "curve_g_DK1_df['Supply'] = curve_g_DK1_df['Pg'].cumsum()\n",
    "curve_g_DK2_df['Supply'] = curve_g_DK2_df['Pg'].cumsum()\n",
    "curve_g_DK1_df = curve_g_DK1_df.drop(['Zone', 'Pg'], axis=1).set_index('Supply')\n",
    "curve_g_DK2_df = curve_g_DK2_df.drop(['Zone', 'Pg'], axis=1).set_index('Supply')\n",
    "\n",
    "\n",
    "curve_g_DK1_df.plot(drawstyle=\"steps-post\",linewidth=2, figsize = (15,5), ax=axes[1,0])\n",
    "axes[1,0].axvline(consumptionProg_df.set_index('ts').loc[low_ts]['DK1'], color = 'red')\n",
    "axes[1,0].set_ylabel('Bid [\\u20ac/MWh]')\n",
    "axes[1,0].set_xlabel('Quantity [MWh]')\n",
    "axes[1,0].legend(['Supply','Demand'])\n",
    "axes[1,0].set_title('DK1 - Low Wind Power Penetration Day')\n",
    "axes[1,0].set_xlim([0,4200])\n",
    "\n",
    "curve_g_DK2_df.plot(drawstyle=\"steps-post\",linewidth=2, ax=axes[1,1])\n",
    "axes[1,1].axvline(consumptionProg_df.set_index('ts').loc[low_ts]['DK2'], color = 'red')\n",
    "axes[1,1].set_ylabel('Bid [\\u20ac/MWh]')\n",
    "axes[1,1].set_xlabel('Quantity [MWh]')\n",
    "axes[1,1].legend(['Supply','Demand'])\n",
    "axes[1,1].set_title('DK2 - Low Wind Power Penetration Day')\n",
    "axes[1,1].set_xlim([0,5000])"
   ]
  },
  {
   "cell_type": "code",
   "execution_count": 2,
   "metadata": {},
   "outputs": [
    {
     "ename": "NameError",
     "evalue": "name 'windProg_df' is not defined",
     "output_type": "error",
     "traceback": [
      "\u001b[1;31m---------------------------------------------------------------------------\u001b[0m",
      "\u001b[1;31mNameError\u001b[0m                                 Traceback (most recent call last)",
      "\u001b[1;32m<ipython-input-2-f00acf110a31>\u001b[0m in \u001b[0;36m<module>\u001b[1;34m\u001b[0m\n\u001b[1;32m----> 1\u001b[1;33m \u001b[0mwindProg_df\u001b[0m\u001b[1;33m.\u001b[0m\u001b[0mset_index\u001b[0m\u001b[1;33m(\u001b[0m\u001b[1;34m'ts'\u001b[0m\u001b[1;33m)\u001b[0m\u001b[1;33m.\u001b[0m\u001b[0mloc\u001b[0m\u001b[1;33m[\u001b[0m\u001b[0mhigh_ts\u001b[0m\u001b[1;33m]\u001b[0m\u001b[1;33m[\u001b[0m\u001b[1;34m'DK1'\u001b[0m\u001b[1;33m]\u001b[0m\u001b[1;33m\u001b[0m\u001b[1;33m\u001b[0m\u001b[0m\n\u001b[0m",
      "\u001b[1;31mNameError\u001b[0m: name 'windProg_df' is not defined"
     ]
    }
   ],
   "source": [
    "windProg_df.set_index('ts').loc[high_ts]['DK1']"
   ]
  },
  {
   "cell_type": "code",
   "execution_count": 1,
   "metadata": {},
   "outputs": [
    {
     "ename": "NameError",
     "evalue": "name 'windProg_df' is not defined",
     "output_type": "error",
     "traceback": [
      "\u001b[1;31m---------------------------------------------------------------------------\u001b[0m",
      "\u001b[1;31mNameError\u001b[0m                                 Traceback (most recent call last)",
      "\u001b[1;32m<ipython-input-1-58e5cdbb33d3>\u001b[0m in \u001b[0;36m<module>\u001b[1;34m\u001b[0m\n\u001b[1;32m----> 1\u001b[1;33m \u001b[0mwindProg_df\u001b[0m\u001b[1;33m\u001b[0m\u001b[1;33m\u001b[0m\u001b[0m\n\u001b[0m",
      "\u001b[1;31mNameError\u001b[0m: name 'windProg_df' is not defined"
     ]
    }
   ],
   "source": [
    "windProg_df"
   ]
  },
  {
   "cell_type": "code",
   "execution_count": null,
   "metadata": {},
   "outputs": [],
   "source": []
  }
 ],
 "metadata": {
  "kernelspec": {
   "display_name": "Python 3",
   "language": "python",
   "name": "python3"
  },
  "language_info": {
   "codemirror_mode": {
    "name": "ipython",
    "version": 3
   },
   "file_extension": ".py",
   "mimetype": "text/x-python",
   "name": "python",
   "nbconvert_exporter": "python",
   "pygments_lexer": "ipython3",
   "version": "3.7.1"
  }
 },
 "nbformat": 4,
 "nbformat_minor": 2
}
