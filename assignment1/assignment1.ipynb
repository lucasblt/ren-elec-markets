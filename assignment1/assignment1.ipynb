{
 "cells": [
  {
   "cell_type": "code",
   "execution_count": 1,
   "metadata": {},
   "outputs": [],
   "source": [
    "import pandas as pd\n",
    "import numpy as np\n",
    "from scipy.optimize import linprog \n",
    "from numpy.linalg import solve\n",
    "import urllib.request\n",
    "import os\n",
    "import day_ahead\n",
    "import pulp as plp"
   ]
  },
  {
   "cell_type": "markdown",
   "metadata": {},
   "source": [
    "### Downloading and parsing data"
   ]
  },
  {
   "cell_type": "code",
   "execution_count": 2,
   "metadata": {},
   "outputs": [
    {
     "name": "stderr",
     "output_type": "stream",
     "text": [
      "C:\\Users\\lucas\\Anaconda3\\lib\\site-packages\\ipykernel_launcher.py:21: SettingWithCopyWarning: \n",
      "A value is trying to be set on a copy of a slice from a DataFrame\n",
      "\n",
      "See the caveats in the documentation: http://pandas.pydata.org/pandas-docs/stable/indexing.html#indexing-view-versus-copy\n",
      "C:\\Users\\lucas\\Anaconda3\\lib\\site-packages\\ipykernel_launcher.py:26: SettingWithCopyWarning: \n",
      "A value is trying to be set on a copy of a slice from a DataFrame\n",
      "\n",
      "See the caveats in the documentation: http://pandas.pydata.org/pandas-docs/stable/indexing.html#indexing-view-versus-copy\n"
     ]
    }
   ],
   "source": [
    "if not os.path.exists('data'):\n",
    "    os.makedirs('data')\n",
    "\n",
    "url = \"http://www.nordpoolspot.com/globalassets/marketdata-excel-files/consumption-prognosis_2019_hourly.xls\" \n",
    "urllib.request.urlretrieve(url, 'data/consumption.xls');\n",
    "\n",
    "consumptionProg_raw_data = pd.read_html('data/consumption.xls')[0].values\n",
    "consumptionProg_df = pd.DataFrame(consumptionProg_raw_data)\n",
    "consumptionProg_df.columns = ['Dates', 'Hours', 'NO', 'SE', 'FI', 'DK1', 'DK2', 'EE', 'LV', 'LT']\n",
    "consumptionProg_df = consumptionProg_df[['Dates', 'Hours', 'DK1', 'DK2']]\n",
    "consumptionProg_df['Hours'] = consumptionProg_df['Hours'].str.slice(stop=2)\n",
    "consumptionProg_df['ts'] = pd.to_datetime(consumptionProg_df['Dates'] + consumptionProg_df['Hours'] + ':00', format='%d-%m-%Y%H:%M')\n",
    "consumptionProg_df = consumptionProg_df[consumptionProg_df['ts'] < pd.to_datetime('2019-02-01')]\n",
    "\n",
    "## Including Import of DK1 -> Norway 200MW\n",
    "consumptionProg_df['DK1'] = consumptionProg_df['DK1'] + 200\n",
    "\n",
    "## Including Export of DK1 -> Germany 100MW\n",
    "for i in consumptionProg_df.index:\n",
    "    if (consumptionProg_df['ts'][i].time() >= pd.to_datetime('07:00:00').time()) & (consumptionProg_df['ts'][i].time() < pd.to_datetime('14:00:00').time()):\n",
    "        consumptionProg_df['DK1'][i] = consumptionProg_df['DK1'][i] - 100\n",
    "        \n",
    "## Including Import of DK2 -> Sweden 150MW\n",
    "for i in consumptionProg_df.index:\n",
    "    if (consumptionProg_df['ts'][i].time() >= pd.to_datetime('13:00:00').time()) & (consumptionProg_df['ts'][i].time() < pd.to_datetime('19:00:00').time()):\n",
    "        consumptionProg_df['DK2'][i] = consumptionProg_df['DK2'][i] + 150"
   ]
  },
  {
   "cell_type": "code",
   "execution_count": 3,
   "metadata": {},
   "outputs": [],
   "source": [
    "url2 = \"http://www.nordpoolspot.com/globalassets/marketdata-excel-files/wind-power-dk-prognosis_2019_hourly.xls\" \n",
    "urllib.request.urlretrieve(url2, 'data/wind-prognosis.xls');\n",
    "\n",
    "windProg_raw_data = pd.read_html('data/wind-prognosis.xls')[0].values\n",
    "windProg_df = pd.DataFrame(windProg_raw_data)\n",
    "windProg_df.columns = ['Dates', 'Hours', 'DK1', 'DK2']\n",
    "windProg_df['Hours'] = windProg_df['Hours'].str.slice(stop=2)\n",
    "windProg_df['ts'] = pd.to_datetime(windProg_df['Dates'] + windProg_df['Hours'] + ':00', format='%d-%m-%Y%H:%M')\n",
    "windProg_df = windProg_df[windProg_df['ts'] < pd.to_datetime('2019-02-01')]\n",
    "\n",
    "windProg_df['WW1'] = windProg_df['DK1']*(1/4)\n",
    "windProg_df['WW2'] = windProg_df['DK1']*(3/4)\n",
    "windProg_df['EW1'] = windProg_df['DK2']*(1/3)\n",
    "windProg_df['EW2'] = windProg_df['DK2']*(2/3)"
   ]
  },
  {
   "cell_type": "code",
   "execution_count": 32,
   "metadata": {},
   "outputs": [],
   "source": [
    "cost_g = np.array([0, 0, 0, 0, 70, 64, 153, 82, 89, 25, 250, 19, 43, 39, 36, 31, 5, 10, 250])\n",
    "region_g = ['DK1', 'DK1', 'DK2', 'DK2', 'DK1', 'DK1', 'DK1', 'DK1', 'DK1', 'DK1','DK1', 'DK2', 'DK2', 'DK2', 'DK2', 'DK2', 'DK2', 'DK2', 'DK2']\n",
    "power_g_all = np.array([400, 330, 345, 390, 510, 1000, 900, 1200, 320, 360, 400, 350, 730, 630, 800])\n",
    "power_g_rest = np.array([400, 330, 345, 390, 510, 0, 900, 0, 320, 360, 400, 350, 730, 630, 800])"
   ]
  },
  {
   "cell_type": "code",
   "execution_count": 5,
   "metadata": {},
   "outputs": [
    {
     "name": "stderr",
     "output_type": "stream",
     "text": [
      "C:\\Users\\lucas\\Anaconda3\\lib\\site-packages\\ipykernel_launcher.py:8: SettingWithCopyWarning: \n",
      "A value is trying to be set on a copy of a slice from a DataFrame\n",
      "\n",
      "See the caveats in the documentation: http://pandas.pydata.org/pandas-docs/stable/indexing.html#indexing-view-versus-copy\n",
      "  \n",
      "C:\\Users\\lucas\\Anaconda3\\lib\\site-packages\\ipykernel_launcher.py:9: SettingWithCopyWarning: \n",
      "A value is trying to be set on a copy of a slice from a DataFrame\n",
      "\n",
      "See the caveats in the documentation: http://pandas.pydata.org/pandas-docs/stable/indexing.html#indexing-view-versus-copy\n",
      "  if __name__ == '__main__':\n"
     ]
    }
   ],
   "source": [
    "generationProg_df = windProg_df.drop(['Dates', 'Hours', 'DK1', 'DK2'], axis=1)\n",
    "\n",
    "for i in range(15):\n",
    "    generationProg_df['G{}'.format(i+1)] = power_g_rest[i]\n",
    "    \n",
    "for i in generationProg_df.index:\n",
    "    if (generationProg_df['ts'][i].time() >= pd.to_datetime('05:00:00').time()) & (generationProg_df['ts'][i].time() < pd.to_datetime('22:00:00').time()):\n",
    "        generationProg_df['G6'][i] = power_g_all[5]\n",
    "        generationProg_df['G8'][i] = power_g_all[7]"
   ]
  },
  {
   "cell_type": "code",
   "execution_count": 33,
   "metadata": {},
   "outputs": [],
   "source": [
    "schedule_g = {}\n",
    "schedule_d = {}\n",
    "price = {}\n",
    "\n",
    "limit = 600\n",
    "\n",
    "for i in range(len(consumptionProg_df)):\n",
    "    g_df = pd.DataFrame({'ID' : list(generationProg_df)[1:],\n",
    "                         'region' : region_g,\n",
    "                         'power_g' : generationProg_df[list(generationProg_df)[1:]].values[i],\n",
    "                         'cost_g' : cost_g})\n",
    "\n",
    "    d_df = pd.DataFrame({'ID' : ['D1','D2'],\n",
    "                         'region' : list(consumptionProg_df)[2:-1],\n",
    "                         'power_d' : consumptionProg_df[list(consumptionProg_df)[2:-1]].values[i],\n",
    "                         'cost_d' : [99999, 99999]})\n",
    "    \n",
    "    schedule_g[consumptionProg_df['ts'][i]], schedule_d[consumptionProg_df['ts'][i]], price[consumptionProg_df['ts'][i]] = day_ahead.solver(g_df, d_df, limit)"
   ]
  },
  {
   "cell_type": "code",
   "execution_count": 34,
   "metadata": {},
   "outputs": [
    {
     "data": {
      "text/plain": [
       "<matplotlib.axes._subplots.AxesSubplot at 0x1f731194710>"
      ]
     },
     "execution_count": 34,
     "metadata": {},
     "output_type": "execute_result"
    },
    {
     "data": {
      "image/png": "[encoded data removed]",
      "text/plain": [
       "<Figure size 432x288 with 1 Axes>"
      ]
     },
     "metadata": {
      "needs_background": "light"
     },
     "output_type": "display_data"
    }
   ],
   "source": [
    "pd.DataFrame(price).T.plot()"
   ]
  },
  {
   "cell_type": "markdown",
   "metadata": {},
   "source": [
    "### Suppliers Dictionary"
   ]
  },
  {
   "cell_type": "code",
   "execution_count": null,
   "metadata": {},
   "outputs": [],
   "source": [
    "suppliers_dict = {'G1' : 'FlexiGas',\n",
    "                 'G2' : 'FlexiGas',\n",
    "                 'G3' : 'FlexiGas',\n",
    "                 'G4' : 'Peako',\n",
    "                 'G5' : 'Peako',\n",
    "                 'G6' : 'Nuke22',\n",
    "                 'G7' : 'CoalAtLast',\n",
    "                 'G8' : 'Nuke22',\n",
    "                 'G9' : 'RoskildeCHP',\n",
    "                 'G10' : 'RoskildeCHP',\n",
    "                 'G11' : 'Avedovre',\n",
    "                 'G12' : 'Avedovre',\n",
    "                 'G13' : 'BlueWater',\n",
    "                 'G14' : 'BlueWater',\n",
    "                 'G15' : 'CoalAtLast'}"
   ]
  }
 ],
 "metadata": {
  "kernelspec": {
   "display_name": "Python 3",
   "language": "python",
   "name": "python3"
  },
  "language_info": {
   "codemirror_mode": {
    "name": "ipython",
    "version": 3
   },
   "file_extension": ".py",
   "mimetype": "text/x-python",
   "name": "python",
   "nbconvert_exporter": "python",
   "pygments_lexer": "ipython3",
   "version": "3.7.1"
  }
 },
 "nbformat": 4,
 "nbformat_minor": 2
}
