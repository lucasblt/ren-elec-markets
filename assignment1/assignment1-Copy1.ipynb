{
 "cells": [
  {
   "cell_type": "code",
   "execution_count": 26,
   "metadata": {},
   "outputs": [],
   "source": [
    "import pandas as pd\n",
    "import numpy as np\n",
    "from scipy.optimize import linprog \n",
    "from numpy.linalg import solve\n",
    "import urllib.request\n",
    "import os\n",
    "import day_ahead\n",
    "import pulp as plp\n",
    "import matplotlib.pyplot as plt\n",
    "import matplotlib.dates as mdates"
   ]
  },
  {
   "cell_type": "markdown",
   "metadata": {},
   "source": [
    "### Downloading and parsing data for Consumption Prognosis"
   ]
  },
  {
   "cell_type": "code",
   "execution_count": 5,
   "metadata": {},
   "outputs": [
    {
     "name": "stderr",
     "output_type": "stream",
     "text": [
      "c:\\users\\s190045\\pycharmprojects\\untitled\\venv\\lib\\site-packages\\ipykernel_launcher.py:23: SettingWithCopyWarning: \n",
      "A value is trying to be set on a copy of a slice from a DataFrame\n",
      "\n",
      "See the caveats in the documentation: http://pandas.pydata.org/pandas-docs/stable/indexing.html#indexing-view-versus-copy\n",
      "c:\\users\\s190045\\pycharmprojects\\untitled\\venv\\lib\\site-packages\\ipykernel_launcher.py:28: SettingWithCopyWarning: \n",
      "A value is trying to be set on a copy of a slice from a DataFrame\n",
      "\n",
      "See the caveats in the documentation: http://pandas.pydata.org/pandas-docs/stable/indexing.html#indexing-view-versus-copy\n"
     ]
    }
   ],
   "source": [
    "if not os.path.exists('data'):\n",
    "    os.makedirs('data')\n",
    "\n",
    "#Consumption prognosis data source on Nord Pool's website\n",
    "url = \"http://www.nordpoolspot.com/globalassets/marketdata-excel-files/consumption-prognosis_2019_hourly.xls\" \n",
    "urllib.request.urlretrieve(url, 'data/consumption.xls');\n",
    "\n",
    "#Convert de .xls file into a Data Frame\n",
    "consumptionProg_raw_data = pd.read_html('data/consumption.xls')[0].values\n",
    "consumptionProg_df = pd.DataFrame(consumptionProg_raw_data)\n",
    "consumptionProg_df.columns = ['Dates', 'Hours', 'NO', 'SE', 'FI', 'DK1', 'DK2', 'EE', 'LV', 'LT']\n",
    "consumptionProg_df = consumptionProg_df[['Dates', 'Hours', 'DK1', 'DK2']]\n",
    "consumptionProg_df['Hours'] = consumptionProg_df['Hours'].str.slice(stop=2)\n",
    "consumptionProg_df['ts'] = pd.to_datetime(consumptionProg_df['Dates'] + consumptionProg_df['Hours'] + ':00', format='%d-%m-%Y%H:%M')\n",
    "consumptionProg_df = consumptionProg_df[consumptionProg_df['ts'] < pd.to_datetime('2019-02-01')]\n",
    "\n",
    "## Including Import of DK1 <- Norway (200MW)\n",
    "consumptionProg_df['DK1'] = consumptionProg_df['DK1'] - 200\n",
    "\n",
    "## Including Export of DK1 -> Germany (100MW)\n",
    "for i in consumptionProg_df.index:\n",
    "    if (consumptionProg_df['ts'][i].time() >= pd.to_datetime('07:00:00').time()) & (consumptionProg_df['ts'][i].time() < pd.to_datetime('14:00:00').time()):\n",
    "        consumptionProg_df['DK1'][i] = consumptionProg_df['DK1'][i] + 100\n",
    "        \n",
    "## Including Import of DK2 <- Sweden (150MW)\n",
    "for i in consumptionProg_df.index:\n",
    "    if (consumptionProg_df['ts'][i].time() >= pd.to_datetime('13:00:00').time()) & (consumptionProg_df['ts'][i].time() < pd.to_datetime('19:00:00').time()):\n",
    "        consumptionProg_df['DK2'][i] = consumptionProg_df['DK2'][i] - 150"
   ]
  },
  {
   "cell_type": "markdown",
   "metadata": {},
   "source": [
    "### Downloading and parsing data for Wind Power Generation Prognosis"
   ]
  },
  {
   "cell_type": "code",
   "execution_count": 6,
   "metadata": {},
   "outputs": [],
   "source": [
    "#Wind power generation prognosis data source on Nord Pool's website\n",
    "url2 = \"http://www.nordpoolspot.com/globalassets/marketdata-excel-files/wind-power-dk-prognosis_2019_hourly.xls\" \n",
    "urllib.request.urlretrieve(url2, 'data/wind-prognosis.xls');\n",
    "\n",
    "#Convert de .xls file into a Data Frame\n",
    "windProg_raw_data = pd.read_html('data/wind-prognosis.xls')[0].values\n",
    "windProg_df = pd.DataFrame(windProg_raw_data)\n",
    "windProg_df.columns = ['Dates', 'Hours', 'DK1', 'DK2']\n",
    "windProg_df['Hours'] = windProg_df['Hours'].str.slice(stop=2)\n",
    "windProg_df['ts'] = pd.to_datetime(windProg_df['Dates'] + windProg_df['Hours'] + ':00', format='%d-%m-%Y%H:%M')\n",
    "windProg_df = windProg_df[windProg_df['ts'] < pd.to_datetime('2019-02-01')]\n",
    "\n",
    "#Set the proportion of wind power generation to each producer in each region\n",
    "windProg_df['WW1'] = windProg_df['DK1']*(1/4)\n",
    "windProg_df['WW2'] = windProg_df['DK1']*(3/4)\n",
    "windProg_df['EW1'] = windProg_df['DK2']*(1/3)\n",
    "windProg_df['EW2'] = windProg_df['DK2']*(2/3)\n",
    "#Remove unwanted columns from Dataframe\n",
    "windProg_df = windProg_df.drop(['Dates', 'Hours', 'DK1', 'DK2'], axis=1)"
   ]
  },
  {
   "cell_type": "code",
   "execution_count": 7,
   "metadata": {},
   "outputs": [
    {
     "name": "stderr",
     "output_type": "stream",
     "text": [
      "c:\\users\\s190045\\pycharmprojects\\untitled\\venv\\lib\\site-packages\\ipykernel_launcher.py:15: SettingWithCopyWarning: \n",
      "A value is trying to be set on a copy of a slice from a DataFrame\n",
      "\n",
      "See the caveats in the documentation: http://pandas.pydata.org/pandas-docs/stable/indexing.html#indexing-view-versus-copy\n",
      "  from ipykernel import kernelapp as app\n",
      "c:\\users\\s190045\\pycharmprojects\\untitled\\venv\\lib\\site-packages\\ipykernel_launcher.py:16: SettingWithCopyWarning: \n",
      "A value is trying to be set on a copy of a slice from a DataFrame\n",
      "\n",
      "See the caveats in the documentation: http://pandas.pydata.org/pandas-docs/stable/indexing.html#indexing-view-versus-copy\n",
      "  app.launch_new_instance()\n"
     ]
    }
   ],
   "source": [
    "#List of all energy suppliers by region with their respective offers (energy quantity and bid price)\n",
    "region_g = ['DK1', 'DK1', 'DK2', 'DK2', 'DK1', 'DK1', 'DK1', 'DK1', 'DK1', 'DK1','DK1', 'DK2', 'DK2', 'DK2', 'DK2', 'DK2', 'DK2', 'DK2', 'DK2']\n",
    "cost_g = np.array([0, -17, -20, -12, 70, 64, 153, 82, 89, 25, 250, 19, 43, 39, 36, 31, 5, 10, 250])\n",
    "power_g_all = np.array([400, 330, 345, 390, 510, 1000, 900, 1200, 320, 360, 400, 350, 730, 630, 800])\n",
    "#Array considering time restriction of some generators\n",
    "power_g_rest = np.array([400, 330, 345, 390, 510, 0, 900, 0, 320, 360, 400, 350, 730, 630, 800])\n",
    "\n",
    "generationProg_df = windProg_df\n",
    "\n",
    "#Include the supplier energy offers into the generation dataframe according to their time of operation\n",
    "for i in range(15):\n",
    "    generationProg_df['G{}'.format(i+1)] = power_g_rest[i]\n",
    "    \n",
    "for i in generationProg_df.index:\n",
    "    if (generationProg_df['ts'][i].time() >= pd.to_datetime('05:00:00').time()) & (generationProg_df['ts'][i].time() < pd.to_datetime('22:00:00').time()):\n",
    "        generationProg_df['G6'][i] = power_g_all[5]\n",
    "        generationProg_df['G8'][i] = power_g_all[7]"
   ]
  },
  {
   "cell_type": "code",
   "execution_count": 8,
   "metadata": {},
   "outputs": [],
   "source": [
    "#Solve the optimization problem for every time slot of the day-ahead market using the demand and supply offers\n",
    "#A function named 'day_ahead.solver' was created to solve the linear programming optimization problem\n",
    "    #INPUT: generation (DF), demand (DF) and interconnection limitaiton.\n",
    "    #OUTPU: scheduled generation (DF), scheduled demand (DF) and amount of interconnection used\n",
    "schedule_g = {}\n",
    "schedule_d = {}\n",
    "price = {}\n",
    "\n",
    "limit = 600\n",
    "\n",
    "#Arrange the data from generation and consumption prognosis into dataframes in the correct structure to be utilized by the function\n",
    "for i in range(len(consumptionProg_df)):\n",
    "    g_df = pd.DataFrame({'ID' : list(generationProg_df)[1:],\n",
    "                         'region' : region_g,\n",
    "                         'power_g' : generationProg_df[list(generationProg_df)[1:]].values[i],\n",
    "                         'cost_g' : cost_g})\n",
    "\n",
    "    d_df = pd.DataFrame({'ID' : ['D1','D2'],\n",
    "                         'region' : list(consumptionProg_df)[2:-1],\n",
    "                         'power_d' : consumptionProg_df[list(consumptionProg_df)[2:-1]].values[i],\n",
    "                         'cost_d' : [99999, 99999]})\n",
    "    \n",
    "    schedule_g[consumptionProg_df['ts'][i]], schedule_d[consumptionProg_df['ts'][i]], price[consumptionProg_df['ts'][i]] = day_ahead.solver(g_df, d_df, limit)\n",
    " \n"
   ]
  },
  {
   "cell_type": "markdown",
   "metadata": {},
   "source": [
    "## Adjusting market price for wind farms with support schemes"
   ]
  },
  {
   "cell_type": "code",
   "execution_count": 11,
   "metadata": {},
   "outputs": [
    {
     "name": "stderr",
     "output_type": "stream",
     "text": [
      "c:\\users\\s190045\\pycharmprojects\\untitled\\venv\\lib\\site-packages\\ipykernel_launcher.py:3: SettingWithCopyWarning: \n",
      "A value is trying to be set on a copy of a slice from a DataFrame\n",
      "\n",
      "See the caveats in the documentation: http://pandas.pydata.org/pandas-docs/stable/indexing.html#indexing-view-versus-copy\n",
      "  This is separate from the ipykernel package so we can avoid doing imports until\n",
      "c:\\users\\s190045\\pycharmprojects\\untitled\\venv\\lib\\site-packages\\ipykernel_launcher.py:4: SettingWithCopyWarning: \n",
      "A value is trying to be set on a copy of a slice from a DataFrame\n",
      "\n",
      "See the caveats in the documentation: http://pandas.pydata.org/pandas-docs/stable/indexing.html#indexing-view-versus-copy\n",
      "  after removing the cwd from sys.path.\n",
      "c:\\users\\s190045\\pycharmprojects\\untitled\\venv\\lib\\site-packages\\ipykernel_launcher.py:5: SettingWithCopyWarning: \n",
      "A value is trying to be set on a copy of a slice from a DataFrame\n",
      "\n",
      "See the caveats in the documentation: http://pandas.pydata.org/pandas-docs/stable/indexing.html#indexing-view-versus-copy\n",
      "  \"\"\"\n"
     ]
    }
   ],
   "source": [
    "#Add the respective support scheme for each wind power generation to calculate their revenues\n",
    "for key in schedule_g.keys():\n",
    "    schedule_g[key]['Market Price'][1] = price[key]['DK1'] + 17\n",
    "    schedule_g[key]['Market Price'][9] = 20\n",
    "    schedule_g[key]['Market Price'][10] = price[key]['DK2'] + 12\n",
    "    schedule_g[key]['Revenue'] = schedule_g[key]['Market Price'] * schedule_g[key]['Scheduled Pg']"
   ]
  },
  {
   "cell_type": "markdown",
   "metadata": {},
   "source": [
    "### Suppliers Dictionary"
   ]
  },
  {
   "cell_type": "code",
   "execution_count": 13,
   "metadata": {},
   "outputs": [],
   "source": [
    "suppliers_dict = {'WW1' : 'WestWind1',\n",
    "                 'WW2' : 'WestWind2',\n",
    "                 'G1' : 'FlexiGas',\n",
    "                 'G2' : 'FlexiGas',\n",
    "                 'G3' : 'FlexiGas',\n",
    "                 'G4' : 'Peako',\n",
    "                 'G5' : 'Peako',\n",
    "                 'G6' : 'Nuke22',\n",
    "                 'G7' : 'CoalAtLast',\n",
    "                 'EE1' : 'EastWind1',\n",
    "                 'EE2' : 'EastWind2',\n",
    "                 'G8' : 'Nuke22',\n",
    "                 'G9' : 'RoskildeCHP',\n",
    "                 'G10' : 'RoskildeCHP',\n",
    "                 'G11' : 'Avedovre',\n",
    "                 'G12' : 'Avedovre',\n",
    "                 'G13' : 'BlueWater',\n",
    "                 'G14' : 'BlueWater',\n",
    "                 'G15' : 'CoalAtLast'}"
   ]
  },
  {
   "cell_type": "markdown",
   "metadata": {},
   "source": [
    "## Verifying congestion in the interconnection"
   ]
  },
  {
   "cell_type": "code",
   "execution_count": 14,
   "metadata": {},
   "outputs": [
    {
     "name": "stdout",
     "output_type": "stream",
     "text": [
      "The interconnection was congested in 511.0 timesteps (hours).\n",
      "Which represents aproximetely 69.0 % of the analyzed period.\n"
     ]
    }
   ],
   "source": [
    "#We check the congestion of the interconnection by analyzing the difference of scheduled energy for consumption and demand on DK1\n",
    "congestion_df = pd.DataFrame()\n",
    "for key in schedule_d.keys():\n",
    "    \n",
    "    DK1_supply = schedule_g[key][schedule_g[key]['Region'] == 'DK1']['Scheduled Pg'].sum()\n",
    "    DK1_demand = schedule_d[key][schedule_d[key]['Region'] == 'DK1']['Scheduled Pd'].sum()\n",
    "\n",
    "    energy_exchanged = DK1_supply - DK1_demand\n",
    "\n",
    "    if abs(energy_exchanged) == limit:\n",
    "        congestion = 1\n",
    "    else:\n",
    "        congestion = 0\n",
    "    \n",
    "    congestion_df = congestion_df.append({'ts': key,\n",
    "                                          'Energy Exchanged' : energy_exchanged,\n",
    "                                          'Congestion' : congestion}, ignore_index=True)\n",
    "\n",
    "print('The interconnection was congested in {} timesteps (hours).'.format(congestion_df['Congestion'].sum()))    \n",
    "\n",
    "print('Which represents aproximetely {} % of the analyzed period.'.format(round(100*congestion_df['Congestion'].sum()/len(congestion_df['Congestion']))))    \n"
   ]
  },
  {
   "cell_type": "markdown",
   "metadata": {},
   "source": [
    "## Calculating suppliers revenues"
   ]
  },
  {
   "cell_type": "code",
   "execution_count": 10,
   "metadata": {
    "scrolled": false
   },
   "outputs": [
    {
     "name": "stdout",
     "output_type": "stream",
     "text": [
      "Suppliers Revenues: \n",
      "\n",
      "WW1    5.678087e+06\n",
      "WW2    3.136378e+07\n",
      "G1     3.670740e+06\n",
      "G2     5.534338e+06\n",
      "G3     0.000000e+00\n",
      "G4     1.142750e+06\n",
      "G5     1.982920e+05\n",
      "G6     1.441250e+07\n",
      "G7     0.000000e+00\n",
      "EE1    2.357553e+06\n",
      "EE2    5.268758e+06\n",
      "G8     5.894364e+06\n",
      "G9     0.000000e+00\n",
      "G10    1.848600e+04\n",
      "G11    4.615200e+05\n",
      "G12    1.187862e+06\n",
      "G13    8.825185e+06\n",
      "G14    7.218610e+06\n",
      "G15    0.000000e+00\n",
      "dtype: float64\n"
     ]
    }
   ],
   "source": [
    "#Revenues are calculated considering each the scheduled quantities for each supplier and market price for each time slot\n",
    "revenue_df = pd.concat([pd.DataFrame(schedule_g[key]['Revenue'].values, columns=[key]) for key in schedule_d.keys()], axis = 1)\n",
    "revenue_df.index = suppliers_dict.keys()\n",
    "print('Suppliers Revenues: \\n')\n",
    "print(revenue_df.sum(axis=1))"
   ]
  },
  {
   "cell_type": "markdown",
   "metadata": {},
   "source": [
    "## Checking if load shedding happened"
   ]
  },
  {
   "cell_type": "code",
   "execution_count": 21,
   "metadata": {},
   "outputs": [
    {
     "name": "stdout",
     "output_type": "stream",
     "text": [
      "Total load shedding: 0.0 MWh\n"
     ]
    }
   ],
   "source": [
    "#Check amount of load shedding by analyzing if the demand was ever greater than the supply for each region\n",
    "demand_scheduled = pd.concat([pd.DataFrame([schedule_d[key]['Scheduled Pd'].sum()], columns=[key]) for key in schedule_d.keys()], axis = 1).T\n",
    "\n",
    "load_shedding = pd.DataFrame({'ts' : consumptionProg_df['ts'],\n",
    "                              'Total Demand' : consumptionProg_df['DK1'] + consumptionProg_df['DK2'],\n",
    "                              'Scheduled Demand' : demand_scheduled[0].values})\n",
    "\n",
    "load_shedding['Difference'] = load_shedding['Total Demand'] - load_shedding['Scheduled Demand']\n",
    "print('Total load shedding: {} MWh'.format(load_shedding['Difference'].sum()))"
   ]
  },
  {
   "cell_type": "markdown",
   "metadata": {},
   "source": [
    "## Checking days with high and low wind penetration"
   ]
  },
  {
   "cell_type": "code",
   "execution_count": 22,
   "metadata": {},
   "outputs": [],
   "source": [
    "#High wind penetration: Wind power production to meet demand\n",
    "#Low wind penetration: lowest ration between the wind energy produced by the total consumption of any given time slot\n",
    "wind_generation = pd.concat([pd.DataFrame([schedule_g[key]['Scheduled Pg'][0] + schedule_g[key]['Scheduled Pg'][1] + schedule_g[key]['Scheduled Pg'][9] + schedule_g[key]['Scheduled Pg'][10]], columns=[key]) for key in schedule_d.keys()], axis = 1).T\n",
    "\n",
    "WP = pd.DataFrame({'ts' : load_shedding['ts'],\n",
    "                                 'Demand' : load_shedding['Scheduled Demand'],\n",
    "                                 'Wind Suply' : wind_generation[0].values})\n",
    "daily_WP = WP.set_index('ts').resample('D').agg(['sum'])\n",
    "\n",
    "WP['WP'] = WP['Wind Suply']/WP['Demand']\n",
    "daily_WP['WP'] = daily_WP['Wind Suply']/daily_WP['Demand']\n",
    "\n",
    "day_max_WP = daily_WP['WP'].idxmax()\n",
    "day_min_WP = daily_WP['WP'].idxmin()\n",
    "\n",
    "daily_WP_max = daily_WP['WP'][day_max_WP]\n",
    "daily_WP_min = daily_WP['WP'][day_min_WP]\n",
    "\n",
    "high_day_df = WP.set_index('ts').loc['2019-01-01 00:00:00':'2019-01-01 23:59:59']\n",
    "low_day_df = WP.set_index('ts').loc['2019-01-20 00:00:00':'2019-01-20 23:59:59']\n",
    "\n",
    "\n",
    "high_ts = pd.to_datetime('2019-01-01 11:00:00')\n",
    "low_ts = WP.set_index('ts').loc['2019-01-20 00:00:00':'2019-01-20 23:59:59']['WP'].idxmin()\n",
    "\n",
    "#Since the consumption was met by the wind power production in different days, one was selected\n",
    "#HIGH WP: 01/01/2019 at 11:00 AM\n",
    "#LOW WP: 20/01/2019 at 11:00 AM"
   ]
  },
  {
   "cell_type": "markdown",
   "metadata": {},
   "source": [
    "## Plotting the prices of high and low Wind Power Penetration days"
   ]
  },
  {
   "cell_type": "code",
   "execution_count": 28,
   "metadata": {},
   "outputs": [
    {
     "ename": "TypeError",
     "evalue": "float() argument must be a string or a number, not 'datetime.time'",
     "output_type": "error",
     "traceback": [
      "\u001b[1;31m---------------------------------------------------------------------------\u001b[0m",
      "\u001b[1;31mTypeError\u001b[0m                                 Traceback (most recent call last)",
      "\u001b[1;32m<ipython-input-28-463041af7936>\u001b[0m in \u001b[0;36m<module>\u001b[1;34m\u001b[0m\n\u001b[0;32m     17\u001b[0m \u001b[1;33m\u001b[0m\u001b[0m\n\u001b[0;32m     18\u001b[0m \u001b[0mplt\u001b[0m\u001b[1;33m.\u001b[0m\u001b[0msubplot\u001b[0m\u001b[1;33m(\u001b[0m\u001b[1;36m2\u001b[0m\u001b[1;33m,\u001b[0m\u001b[1;36m1\u001b[0m\u001b[1;33m,\u001b[0m\u001b[1;36m1\u001b[0m\u001b[1;33m)\u001b[0m\u001b[1;33m\u001b[0m\u001b[0m\n\u001b[1;32m---> 19\u001b[1;33m \u001b[0mplt\u001b[0m\u001b[1;33m.\u001b[0m\u001b[0mplot\u001b[0m\u001b[1;33m(\u001b[0m\u001b[0mx3\u001b[0m\u001b[1;33m,\u001b[0m \u001b[0my3\u001b[0m\u001b[1;33m,\u001b[0m \u001b[0mcolor\u001b[0m \u001b[1;33m=\u001b[0m \u001b[1;34m'red'\u001b[0m\u001b[1;33m)\u001b[0m\u001b[1;33m\u001b[0m\u001b[0m\n\u001b[0m\u001b[0;32m     20\u001b[0m \u001b[0mplt\u001b[0m\u001b[1;33m.\u001b[0m\u001b[0mplot\u001b[0m\u001b[1;33m(\u001b[0m\u001b[0mx4\u001b[0m\u001b[1;33m,\u001b[0m \u001b[0my4\u001b[0m\u001b[1;33m,\u001b[0m \u001b[0mcolor\u001b[0m \u001b[1;33m=\u001b[0m \u001b[1;34m'blue'\u001b[0m\u001b[1;33m)\u001b[0m\u001b[1;33m\u001b[0m\u001b[0m\n\u001b[0;32m     21\u001b[0m \u001b[0mplt\u001b[0m\u001b[1;33m.\u001b[0m\u001b[0mylabel\u001b[0m\u001b[1;33m(\u001b[0m\u001b[1;34m'Wind Power Penetration'\u001b[0m\u001b[1;33m,\u001b[0m \u001b[0mfontsize\u001b[0m \u001b[1;33m=\u001b[0m \u001b[1;34m'large'\u001b[0m\u001b[1;33m)\u001b[0m\u001b[1;33m\u001b[0m\u001b[0m\n",
      "\u001b[1;32mc:\\users\\s190045\\pycharmprojects\\untitled\\venv\\lib\\site-packages\\matplotlib\\pyplot.py\u001b[0m in \u001b[0;36mplot\u001b[1;34m(scalex, scaley, data, *args, **kwargs)\u001b[0m\n\u001b[0;32m   2809\u001b[0m     return gca().plot(\n\u001b[0;32m   2810\u001b[0m         *args, scalex=scalex, scaley=scaley, **({\"data\": data} if data\n\u001b[1;32m-> 2811\u001b[1;33m         is not None else {}), **kwargs)\n\u001b[0m\u001b[0;32m   2812\u001b[0m \u001b[1;33m\u001b[0m\u001b[0m\n\u001b[0;32m   2813\u001b[0m \u001b[1;33m\u001b[0m\u001b[0m\n",
      "\u001b[1;32mc:\\users\\s190045\\pycharmprojects\\untitled\\venv\\lib\\site-packages\\matplotlib\\__init__.py\u001b[0m in \u001b[0;36minner\u001b[1;34m(ax, data, *args, **kwargs)\u001b[0m\n\u001b[0;32m   1808\u001b[0m                         \u001b[1;34m\"the Matplotlib list!)\"\u001b[0m \u001b[1;33m%\u001b[0m \u001b[1;33m(\u001b[0m\u001b[0mlabel_namer\u001b[0m\u001b[1;33m,\u001b[0m \u001b[0mfunc\u001b[0m\u001b[1;33m.\u001b[0m\u001b[0m__name__\u001b[0m\u001b[1;33m)\u001b[0m\u001b[1;33m,\u001b[0m\u001b[1;33m\u001b[0m\u001b[0m\n\u001b[0;32m   1809\u001b[0m                         RuntimeWarning, stacklevel=2)\n\u001b[1;32m-> 1810\u001b[1;33m             \u001b[1;32mreturn\u001b[0m \u001b[0mfunc\u001b[0m\u001b[1;33m(\u001b[0m\u001b[0max\u001b[0m\u001b[1;33m,\u001b[0m \u001b[1;33m*\u001b[0m\u001b[0margs\u001b[0m\u001b[1;33m,\u001b[0m \u001b[1;33m**\u001b[0m\u001b[0mkwargs\u001b[0m\u001b[1;33m)\u001b[0m\u001b[1;33m\u001b[0m\u001b[0m\n\u001b[0m\u001b[0;32m   1811\u001b[0m \u001b[1;33m\u001b[0m\u001b[0m\n\u001b[0;32m   1812\u001b[0m         inner.__doc__ = _add_data_doc(inner.__doc__,\n",
      "\u001b[1;32mc:\\users\\s190045\\pycharmprojects\\untitled\\venv\\lib\\site-packages\\matplotlib\\axes\\_axes.py\u001b[0m in \u001b[0;36mplot\u001b[1;34m(self, scalex, scaley, *args, **kwargs)\u001b[0m\n\u001b[0;32m   1610\u001b[0m \u001b[1;33m\u001b[0m\u001b[0m\n\u001b[0;32m   1611\u001b[0m         \u001b[1;32mfor\u001b[0m \u001b[0mline\u001b[0m \u001b[1;32min\u001b[0m \u001b[0mself\u001b[0m\u001b[1;33m.\u001b[0m\u001b[0m_get_lines\u001b[0m\u001b[1;33m(\u001b[0m\u001b[1;33m*\u001b[0m\u001b[0margs\u001b[0m\u001b[1;33m,\u001b[0m \u001b[1;33m**\u001b[0m\u001b[0mkwargs\u001b[0m\u001b[1;33m)\u001b[0m\u001b[1;33m:\u001b[0m\u001b[1;33m\u001b[0m\u001b[0m\n\u001b[1;32m-> 1612\u001b[1;33m             \u001b[0mself\u001b[0m\u001b[1;33m.\u001b[0m\u001b[0madd_line\u001b[0m\u001b[1;33m(\u001b[0m\u001b[0mline\u001b[0m\u001b[1;33m)\u001b[0m\u001b[1;33m\u001b[0m\u001b[0m\n\u001b[0m\u001b[0;32m   1613\u001b[0m             \u001b[0mlines\u001b[0m\u001b[1;33m.\u001b[0m\u001b[0mappend\u001b[0m\u001b[1;33m(\u001b[0m\u001b[0mline\u001b[0m\u001b[1;33m)\u001b[0m\u001b[1;33m\u001b[0m\u001b[0m\n\u001b[0;32m   1614\u001b[0m \u001b[1;33m\u001b[0m\u001b[0m\n",
      "\u001b[1;32mc:\\users\\s190045\\pycharmprojects\\untitled\\venv\\lib\\site-packages\\matplotlib\\axes\\_base.py\u001b[0m in \u001b[0;36madd_line\u001b[1;34m(self, line)\u001b[0m\n\u001b[0;32m   1893\u001b[0m             \u001b[0mline\u001b[0m\u001b[1;33m.\u001b[0m\u001b[0mset_clip_path\u001b[0m\u001b[1;33m(\u001b[0m\u001b[0mself\u001b[0m\u001b[1;33m.\u001b[0m\u001b[0mpatch\u001b[0m\u001b[1;33m)\u001b[0m\u001b[1;33m\u001b[0m\u001b[0m\n\u001b[0;32m   1894\u001b[0m \u001b[1;33m\u001b[0m\u001b[0m\n\u001b[1;32m-> 1895\u001b[1;33m         \u001b[0mself\u001b[0m\u001b[1;33m.\u001b[0m\u001b[0m_update_line_limits\u001b[0m\u001b[1;33m(\u001b[0m\u001b[0mline\u001b[0m\u001b[1;33m)\u001b[0m\u001b[1;33m\u001b[0m\u001b[0m\n\u001b[0m\u001b[0;32m   1896\u001b[0m         \u001b[1;32mif\u001b[0m \u001b[1;32mnot\u001b[0m \u001b[0mline\u001b[0m\u001b[1;33m.\u001b[0m\u001b[0mget_label\u001b[0m\u001b[1;33m(\u001b[0m\u001b[1;33m)\u001b[0m\u001b[1;33m:\u001b[0m\u001b[1;33m\u001b[0m\u001b[0m\n\u001b[0;32m   1897\u001b[0m             \u001b[0mline\u001b[0m\u001b[1;33m.\u001b[0m\u001b[0mset_label\u001b[0m\u001b[1;33m(\u001b[0m\u001b[1;34m'_line%d'\u001b[0m \u001b[1;33m%\u001b[0m \u001b[0mlen\u001b[0m\u001b[1;33m(\u001b[0m\u001b[0mself\u001b[0m\u001b[1;33m.\u001b[0m\u001b[0mlines\u001b[0m\u001b[1;33m)\u001b[0m\u001b[1;33m)\u001b[0m\u001b[1;33m\u001b[0m\u001b[0m\n",
      "\u001b[1;32mc:\\users\\s190045\\pycharmprojects\\untitled\\venv\\lib\\site-packages\\matplotlib\\axes\\_base.py\u001b[0m in \u001b[0;36m_update_line_limits\u001b[1;34m(self, line)\u001b[0m\n\u001b[0;32m   1915\u001b[0m         \u001b[0mFigures\u001b[0m \u001b[0mout\u001b[0m \u001b[0mthe\u001b[0m \u001b[0mdata\u001b[0m \u001b[0mlimit\u001b[0m \u001b[0mof\u001b[0m \u001b[0mthe\u001b[0m \u001b[0mgiven\u001b[0m \u001b[0mline\u001b[0m\u001b[1;33m,\u001b[0m \u001b[0mupdating\u001b[0m \u001b[0mself\u001b[0m\u001b[1;33m.\u001b[0m\u001b[0mdataLim\u001b[0m\u001b[1;33m.\u001b[0m\u001b[1;33m\u001b[0m\u001b[0m\n\u001b[0;32m   1916\u001b[0m         \"\"\"\n\u001b[1;32m-> 1917\u001b[1;33m         \u001b[0mpath\u001b[0m \u001b[1;33m=\u001b[0m \u001b[0mline\u001b[0m\u001b[1;33m.\u001b[0m\u001b[0mget_path\u001b[0m\u001b[1;33m(\u001b[0m\u001b[1;33m)\u001b[0m\u001b[1;33m\u001b[0m\u001b[0m\n\u001b[0m\u001b[0;32m   1918\u001b[0m         \u001b[1;32mif\u001b[0m \u001b[0mpath\u001b[0m\u001b[1;33m.\u001b[0m\u001b[0mvertices\u001b[0m\u001b[1;33m.\u001b[0m\u001b[0msize\u001b[0m \u001b[1;33m==\u001b[0m \u001b[1;36m0\u001b[0m\u001b[1;33m:\u001b[0m\u001b[1;33m\u001b[0m\u001b[0m\n\u001b[0;32m   1919\u001b[0m             \u001b[1;32mreturn\u001b[0m\u001b[1;33m\u001b[0m\u001b[0m\n",
      "\u001b[1;32mc:\\users\\s190045\\pycharmprojects\\untitled\\venv\\lib\\site-packages\\matplotlib\\lines.py\u001b[0m in \u001b[0;36mget_path\u001b[1;34m(self)\u001b[0m\n\u001b[0;32m    943\u001b[0m         \"\"\"\n\u001b[0;32m    944\u001b[0m         \u001b[1;32mif\u001b[0m \u001b[0mself\u001b[0m\u001b[1;33m.\u001b[0m\u001b[0m_invalidy\u001b[0m \u001b[1;32mor\u001b[0m \u001b[0mself\u001b[0m\u001b[1;33m.\u001b[0m\u001b[0m_invalidx\u001b[0m\u001b[1;33m:\u001b[0m\u001b[1;33m\u001b[0m\u001b[0m\n\u001b[1;32m--> 945\u001b[1;33m             \u001b[0mself\u001b[0m\u001b[1;33m.\u001b[0m\u001b[0mrecache\u001b[0m\u001b[1;33m(\u001b[0m\u001b[1;33m)\u001b[0m\u001b[1;33m\u001b[0m\u001b[0m\n\u001b[0m\u001b[0;32m    946\u001b[0m         \u001b[1;32mreturn\u001b[0m \u001b[0mself\u001b[0m\u001b[1;33m.\u001b[0m\u001b[0m_path\u001b[0m\u001b[1;33m\u001b[0m\u001b[0m\n\u001b[0;32m    947\u001b[0m \u001b[1;33m\u001b[0m\u001b[0m\n",
      "\u001b[1;32mc:\\users\\s190045\\pycharmprojects\\untitled\\venv\\lib\\site-packages\\matplotlib\\lines.py\u001b[0m in \u001b[0;36mrecache\u001b[1;34m(self, always)\u001b[0m\n\u001b[0;32m    638\u001b[0m         \u001b[1;32mif\u001b[0m \u001b[0malways\u001b[0m \u001b[1;32mor\u001b[0m \u001b[0mself\u001b[0m\u001b[1;33m.\u001b[0m\u001b[0m_invalidx\u001b[0m\u001b[1;33m:\u001b[0m\u001b[1;33m\u001b[0m\u001b[0m\n\u001b[0;32m    639\u001b[0m             \u001b[0mxconv\u001b[0m \u001b[1;33m=\u001b[0m \u001b[0mself\u001b[0m\u001b[1;33m.\u001b[0m\u001b[0mconvert_xunits\u001b[0m\u001b[1;33m(\u001b[0m\u001b[0mself\u001b[0m\u001b[1;33m.\u001b[0m\u001b[0m_xorig\u001b[0m\u001b[1;33m)\u001b[0m\u001b[1;33m\u001b[0m\u001b[0m\n\u001b[1;32m--> 640\u001b[1;33m             \u001b[0mx\u001b[0m \u001b[1;33m=\u001b[0m \u001b[0m_to_unmasked_float_array\u001b[0m\u001b[1;33m(\u001b[0m\u001b[0mxconv\u001b[0m\u001b[1;33m)\u001b[0m\u001b[1;33m.\u001b[0m\u001b[0mravel\u001b[0m\u001b[1;33m(\u001b[0m\u001b[1;33m)\u001b[0m\u001b[1;33m\u001b[0m\u001b[0m\n\u001b[0m\u001b[0;32m    641\u001b[0m         \u001b[1;32melse\u001b[0m\u001b[1;33m:\u001b[0m\u001b[1;33m\u001b[0m\u001b[0m\n\u001b[0;32m    642\u001b[0m             \u001b[0mx\u001b[0m \u001b[1;33m=\u001b[0m \u001b[0mself\u001b[0m\u001b[1;33m.\u001b[0m\u001b[0m_x\u001b[0m\u001b[1;33m\u001b[0m\u001b[0m\n",
      "\u001b[1;32mc:\\users\\s190045\\pycharmprojects\\untitled\\venv\\lib\\site-packages\\matplotlib\\cbook\\__init__.py\u001b[0m in \u001b[0;36m_to_unmasked_float_array\u001b[1;34m(x)\u001b[0m\n\u001b[0;32m   1363\u001b[0m         \u001b[1;32mreturn\u001b[0m \u001b[0mnp\u001b[0m\u001b[1;33m.\u001b[0m\u001b[0mma\u001b[0m\u001b[1;33m.\u001b[0m\u001b[0masarray\u001b[0m\u001b[1;33m(\u001b[0m\u001b[0mx\u001b[0m\u001b[1;33m,\u001b[0m \u001b[0mfloat\u001b[0m\u001b[1;33m)\u001b[0m\u001b[1;33m.\u001b[0m\u001b[0mfilled\u001b[0m\u001b[1;33m(\u001b[0m\u001b[0mnp\u001b[0m\u001b[1;33m.\u001b[0m\u001b[0mnan\u001b[0m\u001b[1;33m)\u001b[0m\u001b[1;33m\u001b[0m\u001b[0m\n\u001b[0;32m   1364\u001b[0m     \u001b[1;32melse\u001b[0m\u001b[1;33m:\u001b[0m\u001b[1;33m\u001b[0m\u001b[0m\n\u001b[1;32m-> 1365\u001b[1;33m         \u001b[1;32mreturn\u001b[0m \u001b[0mnp\u001b[0m\u001b[1;33m.\u001b[0m\u001b[0masarray\u001b[0m\u001b[1;33m(\u001b[0m\u001b[0mx\u001b[0m\u001b[1;33m,\u001b[0m \u001b[0mfloat\u001b[0m\u001b[1;33m)\u001b[0m\u001b[1;33m\u001b[0m\u001b[0m\n\u001b[0m\u001b[0;32m   1366\u001b[0m \u001b[1;33m\u001b[0m\u001b[0m\n\u001b[0;32m   1367\u001b[0m \u001b[1;33m\u001b[0m\u001b[0m\n",
      "\u001b[1;32mc:\\users\\s190045\\pycharmprojects\\untitled\\venv\\lib\\site-packages\\numpy\\core\\numeric.py\u001b[0m in \u001b[0;36masarray\u001b[1;34m(a, dtype, order)\u001b[0m\n\u001b[0;32m    536\u001b[0m \u001b[1;33m\u001b[0m\u001b[0m\n\u001b[0;32m    537\u001b[0m     \"\"\"\n\u001b[1;32m--> 538\u001b[1;33m     \u001b[1;32mreturn\u001b[0m \u001b[0marray\u001b[0m\u001b[1;33m(\u001b[0m\u001b[0ma\u001b[0m\u001b[1;33m,\u001b[0m \u001b[0mdtype\u001b[0m\u001b[1;33m,\u001b[0m \u001b[0mcopy\u001b[0m\u001b[1;33m=\u001b[0m\u001b[1;32mFalse\u001b[0m\u001b[1;33m,\u001b[0m \u001b[0morder\u001b[0m\u001b[1;33m=\u001b[0m\u001b[0morder\u001b[0m\u001b[1;33m)\u001b[0m\u001b[1;33m\u001b[0m\u001b[0m\n\u001b[0m\u001b[0;32m    539\u001b[0m \u001b[1;33m\u001b[0m\u001b[0m\n\u001b[0;32m    540\u001b[0m \u001b[1;33m\u001b[0m\u001b[0m\n",
      "\u001b[1;31mTypeError\u001b[0m: float() argument must be a string or a number, not 'datetime.time'"
     ]
    },
    {
     "data": {
      "image/png": "[encoded data removed]",
      "text/plain": [
       "<Figure size 1080x504 with 1 Axes>"
      ]
     },
     "metadata": {
      "needs_background": "light"
     },
     "output_type": "display_data"
    }
   ],
   "source": [
    "prices_DK1 = pd.concat([pd.DataFrame([schedule_d[key]['Market Price'][0]], columns=[key]) for key in schedule_d.keys()], axis = 1).T\n",
    "prices_DK2 = pd.concat([pd.DataFrame([schedule_d[key]['Market Price'][1]], columns=[key]) for key in schedule_d.keys()], axis = 1).T\n",
    "\n",
    "fig = plt.figure(figsize=(15,7))\n",
    "\n",
    "y1 = prices_DK1.loc['2019-01-20 00:00:00':'2019-01-20 23:59:59'][0].values\n",
    "x1 = prices_DK1.loc['2019-01-20 00:00:00':'2019-01-20 23:59:59'][0].index.time\n",
    "\n",
    "y2 = prices_DK2.loc['2019-01-01 00:00:00':'2019-01-01 23:59:59'][0].values\n",
    "x2 = prices_DK2.loc['2019-01-01 00:00:00':'2019-01-01 23:59:59'][0].index.time\n",
    "\n",
    "y3 = low_day_df.WP.values\n",
    "x3 = low_day_df.index.time\n",
    "\n",
    "y4 = high_day_df.WP.values\n",
    "x4 = high_day_df.index.time\n",
    "\n",
    "plt.subplot(2,1,1)\n",
    "plt.plot(x3, y3, color = 'red')\n",
    "plt.plot(x4, y4, color = 'blue')\n",
    "plt.ylabel('Wind Power Penetration', fontsize = 'large')\n",
    "plt.xlim(['00:00:00','23:00:00'])\n",
    "plt.xticks(x1, rotation = 45)\n",
    "plt.grid()\n",
    "plt.legend(['Low WP - 20/Jan', 'High WP - 01/Jan'])\n",
    "\n",
    "plt.subplot(2,1,2)\n",
    "plt.plot(x1, y1, color = 'red')\n",
    "plt.plot(x2, y2, color = 'blue')\n",
    "plt.ylabel('Price [\\u20ac/MWh]', fontsize = 'large')\n",
    "plt.xlim(['00:00:00','23:00:00'])\n",
    "plt.xticks(x3, rotation = 45)\n",
    "plt.grid()\n",
    "plt.legend(['Low WP - 20/Jan', 'High WP - 01/Jan'])\n",
    "plt.show()"
   ]
  },
  {
   "cell_type": "code",
   "execution_count": 29,
   "metadata": {},
   "outputs": [
    {
     "data": {
      "text/plain": [
       "array([datetime.time(0, 0), datetime.time(1, 0), datetime.time(2, 0),\n",
       "       datetime.time(3, 0), datetime.time(4, 0), datetime.time(5, 0),\n",
       "       datetime.time(6, 0), datetime.time(7, 0), datetime.time(8, 0),\n",
       "       datetime.time(9, 0), datetime.time(10, 0), datetime.time(11, 0),\n",
       "       datetime.time(12, 0), datetime.time(13, 0), datetime.time(14, 0),\n",
       "       datetime.time(15, 0), datetime.time(16, 0), datetime.time(17, 0),\n",
       "       datetime.time(18, 0), datetime.time(19, 0), datetime.time(20, 0),\n",
       "       datetime.time(21, 0), datetime.time(22, 0), datetime.time(23, 0)],\n",
       "      dtype=object)"
      ]
     },
     "execution_count": 29,
     "metadata": {},
     "output_type": "execute_result"
    }
   ],
   "source": [
    "x3"
   ]
  },
  {
   "cell_type": "code",
   "execution_count": 27,
   "metadata": {},
   "outputs": [
    {
     "ename": "ImportError",
     "evalue": "matplotlib is required for plotting.",
     "output_type": "error",
     "traceback": [
      "\u001b[1;31m---------------------------------------------------------------------------\u001b[0m",
      "\u001b[1;31mImportError\u001b[0m                               Traceback (most recent call last)",
      "\u001b[1;32m<ipython-input-27-c2c21068723e>\u001b[0m in \u001b[0;36m<module>\u001b[1;34m\u001b[0m\n\u001b[0;32m     15\u001b[0m \u001b[0mplt\u001b[0m\u001b[1;33m.\u001b[0m\u001b[0mautoscale\u001b[0m\u001b[1;33m(\u001b[0m\u001b[0mtight\u001b[0m\u001b[1;33m=\u001b[0m\u001b[1;32mTrue\u001b[0m\u001b[1;33m)\u001b[0m\u001b[1;33m\u001b[0m\u001b[0m\n\u001b[0;32m     16\u001b[0m \u001b[1;33m\u001b[0m\u001b[0m\n\u001b[1;32m---> 17\u001b[1;33m \u001b[0mcurve_g_DK1_df\u001b[0m\u001b[1;33m.\u001b[0m\u001b[0mplot\u001b[0m\u001b[1;33m(\u001b[0m\u001b[0mdrawstyle\u001b[0m\u001b[1;33m=\u001b[0m\u001b[1;34m\"steps-post\"\u001b[0m\u001b[1;33m,\u001b[0m\u001b[0mlinewidth\u001b[0m\u001b[1;33m=\u001b[0m\u001b[1;36m2\u001b[0m\u001b[1;33m,\u001b[0m \u001b[0mfigsize\u001b[0m \u001b[1;33m=\u001b[0m \u001b[1;33m(\u001b[0m\u001b[1;36m15\u001b[0m\u001b[1;33m,\u001b[0m\u001b[1;36m5\u001b[0m\u001b[1;33m)\u001b[0m\u001b[1;33m,\u001b[0m \u001b[0max\u001b[0m\u001b[1;33m=\u001b[0m\u001b[0maxes\u001b[0m\u001b[1;33m[\u001b[0m\u001b[1;36m0\u001b[0m\u001b[1;33m,\u001b[0m\u001b[1;36m0\u001b[0m\u001b[1;33m]\u001b[0m\u001b[1;33m)\u001b[0m\u001b[1;33m\u001b[0m\u001b[0m\n\u001b[0m\u001b[0;32m     18\u001b[0m \u001b[0maxes\u001b[0m\u001b[1;33m[\u001b[0m\u001b[1;36m0\u001b[0m\u001b[1;33m,\u001b[0m\u001b[1;36m0\u001b[0m\u001b[1;33m]\u001b[0m\u001b[1;33m.\u001b[0m\u001b[0maxvline\u001b[0m\u001b[1;33m(\u001b[0m\u001b[0mconsumptionProg_df\u001b[0m\u001b[1;33m.\u001b[0m\u001b[0mset_index\u001b[0m\u001b[1;33m(\u001b[0m\u001b[1;34m'ts'\u001b[0m\u001b[1;33m)\u001b[0m\u001b[1;33m.\u001b[0m\u001b[0mloc\u001b[0m\u001b[1;33m[\u001b[0m\u001b[0mhigh_ts\u001b[0m\u001b[1;33m]\u001b[0m\u001b[1;33m[\u001b[0m\u001b[1;34m'DK1'\u001b[0m\u001b[1;33m]\u001b[0m\u001b[1;33m,\u001b[0m \u001b[0mcolor\u001b[0m \u001b[1;33m=\u001b[0m \u001b[1;34m'red'\u001b[0m\u001b[1;33m)\u001b[0m\u001b[1;33m\u001b[0m\u001b[0m\n\u001b[0;32m     19\u001b[0m \u001b[0maxes\u001b[0m\u001b[1;33m[\u001b[0m\u001b[1;36m0\u001b[0m\u001b[1;33m,\u001b[0m\u001b[1;36m0\u001b[0m\u001b[1;33m]\u001b[0m\u001b[1;33m.\u001b[0m\u001b[0mset_ylabel\u001b[0m\u001b[1;33m(\u001b[0m\u001b[1;34m'Bid [\\u20ac/MWh]'\u001b[0m\u001b[1;33m)\u001b[0m\u001b[1;33m\u001b[0m\u001b[0m\n",
      "\u001b[1;32mc:\\users\\s190045\\pycharmprojects\\untitled\\venv\\lib\\site-packages\\pandas\\plotting\\_core.py\u001b[0m in \u001b[0;36m__call__\u001b[1;34m(self, x, y, kind, ax, subplots, sharex, sharey, layout, figsize, use_index, title, grid, legend, style, logx, logy, loglog, xticks, yticks, xlim, ylim, rot, fontsize, colormap, table, yerr, xerr, secondary_y, sort_columns, **kwds)\u001b[0m\n\u001b[0;32m   2937\u001b[0m                           \u001b[0mfontsize\u001b[0m\u001b[1;33m=\u001b[0m\u001b[0mfontsize\u001b[0m\u001b[1;33m,\u001b[0m \u001b[0mcolormap\u001b[0m\u001b[1;33m=\u001b[0m\u001b[0mcolormap\u001b[0m\u001b[1;33m,\u001b[0m \u001b[0mtable\u001b[0m\u001b[1;33m=\u001b[0m\u001b[0mtable\u001b[0m\u001b[1;33m,\u001b[0m\u001b[1;33m\u001b[0m\u001b[0m\n\u001b[0;32m   2938\u001b[0m                           \u001b[0myerr\u001b[0m\u001b[1;33m=\u001b[0m\u001b[0myerr\u001b[0m\u001b[1;33m,\u001b[0m \u001b[0mxerr\u001b[0m\u001b[1;33m=\u001b[0m\u001b[0mxerr\u001b[0m\u001b[1;33m,\u001b[0m \u001b[0msecondary_y\u001b[0m\u001b[1;33m=\u001b[0m\u001b[0msecondary_y\u001b[0m\u001b[1;33m,\u001b[0m\u001b[1;33m\u001b[0m\u001b[0m\n\u001b[1;32m-> 2939\u001b[1;33m                           sort_columns=sort_columns, **kwds)\n\u001b[0m\u001b[0;32m   2940\u001b[0m     \u001b[0m__call__\u001b[0m\u001b[1;33m.\u001b[0m\u001b[0m__doc__\u001b[0m \u001b[1;33m=\u001b[0m \u001b[0mplot_frame\u001b[0m\u001b[1;33m.\u001b[0m\u001b[0m__doc__\u001b[0m\u001b[1;33m\u001b[0m\u001b[0m\n\u001b[0;32m   2941\u001b[0m \u001b[1;33m\u001b[0m\u001b[0m\n",
      "\u001b[1;32mc:\\users\\s190045\\pycharmprojects\\untitled\\venv\\lib\\site-packages\\pandas\\plotting\\_core.py\u001b[0m in \u001b[0;36mplot_frame\u001b[1;34m(data, x, y, kind, ax, subplots, sharex, sharey, layout, figsize, use_index, title, grid, legend, style, logx, logy, loglog, xticks, yticks, xlim, ylim, rot, fontsize, colormap, table, yerr, xerr, secondary_y, sort_columns, **kwds)\u001b[0m\n\u001b[0;32m   1968\u001b[0m                  \u001b[0myerr\u001b[0m\u001b[1;33m=\u001b[0m\u001b[0myerr\u001b[0m\u001b[1;33m,\u001b[0m \u001b[0mxerr\u001b[0m\u001b[1;33m=\u001b[0m\u001b[0mxerr\u001b[0m\u001b[1;33m,\u001b[0m\u001b[1;33m\u001b[0m\u001b[0m\n\u001b[0;32m   1969\u001b[0m                  \u001b[0msecondary_y\u001b[0m\u001b[1;33m=\u001b[0m\u001b[0msecondary_y\u001b[0m\u001b[1;33m,\u001b[0m \u001b[0msort_columns\u001b[0m\u001b[1;33m=\u001b[0m\u001b[0msort_columns\u001b[0m\u001b[1;33m,\u001b[0m\u001b[1;33m\u001b[0m\u001b[0m\n\u001b[1;32m-> 1970\u001b[1;33m                  **kwds)\n\u001b[0m\u001b[0;32m   1971\u001b[0m \u001b[1;33m\u001b[0m\u001b[0m\n\u001b[0;32m   1972\u001b[0m \u001b[1;33m\u001b[0m\u001b[0m\n",
      "\u001b[1;32mc:\\users\\s190045\\pycharmprojects\\untitled\\venv\\lib\\site-packages\\pandas\\plotting\\_core.py\u001b[0m in \u001b[0;36m_plot\u001b[1;34m(data, x, y, subplots, ax, kind, **kwds)\u001b[0m\n\u001b[0;32m   1794\u001b[0m                     \u001b[0mdata\u001b[0m\u001b[1;33m.\u001b[0m\u001b[0mcolumns\u001b[0m \u001b[1;33m=\u001b[0m \u001b[0mlabel_name\u001b[0m\u001b[1;33m\u001b[0m\u001b[0m\n\u001b[0;32m   1795\u001b[0m \u001b[1;33m\u001b[0m\u001b[0m\n\u001b[1;32m-> 1796\u001b[1;33m         \u001b[0mplot_obj\u001b[0m \u001b[1;33m=\u001b[0m \u001b[0mklass\u001b[0m\u001b[1;33m(\u001b[0m\u001b[0mdata\u001b[0m\u001b[1;33m,\u001b[0m \u001b[0msubplots\u001b[0m\u001b[1;33m=\u001b[0m\u001b[0msubplots\u001b[0m\u001b[1;33m,\u001b[0m \u001b[0max\u001b[0m\u001b[1;33m=\u001b[0m\u001b[0max\u001b[0m\u001b[1;33m,\u001b[0m \u001b[0mkind\u001b[0m\u001b[1;33m=\u001b[0m\u001b[0mkind\u001b[0m\u001b[1;33m,\u001b[0m \u001b[1;33m**\u001b[0m\u001b[0mkwds\u001b[0m\u001b[1;33m)\u001b[0m\u001b[1;33m\u001b[0m\u001b[0m\n\u001b[0m\u001b[0;32m   1797\u001b[0m \u001b[1;33m\u001b[0m\u001b[0m\n\u001b[0;32m   1798\u001b[0m     \u001b[0mplot_obj\u001b[0m\u001b[1;33m.\u001b[0m\u001b[0mgenerate\u001b[0m\u001b[1;33m(\u001b[0m\u001b[1;33m)\u001b[0m\u001b[1;33m\u001b[0m\u001b[0m\n",
      "\u001b[1;32mc:\\users\\s190045\\pycharmprojects\\untitled\\venv\\lib\\site-packages\\pandas\\plotting\\_core.py\u001b[0m in \u001b[0;36m__init__\u001b[1;34m(self, data, **kwargs)\u001b[0m\n\u001b[0;32m    945\u001b[0m \u001b[1;33m\u001b[0m\u001b[0m\n\u001b[0;32m    946\u001b[0m     \u001b[1;32mdef\u001b[0m \u001b[0m__init__\u001b[0m\u001b[1;33m(\u001b[0m\u001b[0mself\u001b[0m\u001b[1;33m,\u001b[0m \u001b[0mdata\u001b[0m\u001b[1;33m,\u001b[0m \u001b[1;33m**\u001b[0m\u001b[0mkwargs\u001b[0m\u001b[1;33m)\u001b[0m\u001b[1;33m:\u001b[0m\u001b[1;33m\u001b[0m\u001b[0m\n\u001b[1;32m--> 947\u001b[1;33m         \u001b[0mMPLPlot\u001b[0m\u001b[1;33m.\u001b[0m\u001b[0m__init__\u001b[0m\u001b[1;33m(\u001b[0m\u001b[0mself\u001b[0m\u001b[1;33m,\u001b[0m \u001b[0mdata\u001b[0m\u001b[1;33m,\u001b[0m \u001b[1;33m**\u001b[0m\u001b[0mkwargs\u001b[0m\u001b[1;33m)\u001b[0m\u001b[1;33m\u001b[0m\u001b[0m\n\u001b[0m\u001b[0;32m    948\u001b[0m         \u001b[1;32mif\u001b[0m \u001b[0mself\u001b[0m\u001b[1;33m.\u001b[0m\u001b[0mstacked\u001b[0m\u001b[1;33m:\u001b[0m\u001b[1;33m\u001b[0m\u001b[0m\n\u001b[0;32m    949\u001b[0m             \u001b[0mself\u001b[0m\u001b[1;33m.\u001b[0m\u001b[0mdata\u001b[0m \u001b[1;33m=\u001b[0m \u001b[0mself\u001b[0m\u001b[1;33m.\u001b[0m\u001b[0mdata\u001b[0m\u001b[1;33m.\u001b[0m\u001b[0mfillna\u001b[0m\u001b[1;33m(\u001b[0m\u001b[0mvalue\u001b[0m\u001b[1;33m=\u001b[0m\u001b[1;36m0\u001b[0m\u001b[1;33m)\u001b[0m\u001b[1;33m\u001b[0m\u001b[0m\n",
      "\u001b[1;32mc:\\users\\s190045\\pycharmprojects\\untitled\\venv\\lib\\site-packages\\pandas\\plotting\\_core.py\u001b[0m in \u001b[0;36m__init__\u001b[1;34m(self, data, kind, by, subplots, sharex, sharey, use_index, figsize, grid, legend, rot, ax, fig, title, xlim, ylim, xticks, yticks, sort_columns, fontsize, secondary_y, colormap, table, layout, **kwds)\u001b[0m\n\u001b[0;32m     96\u001b[0m                  table=False, layout=None, **kwds):\n\u001b[0;32m     97\u001b[0m \u001b[1;33m\u001b[0m\u001b[0m\n\u001b[1;32m---> 98\u001b[1;33m         \u001b[0m_raise_if_no_mpl\u001b[0m\u001b[1;33m(\u001b[0m\u001b[1;33m)\u001b[0m\u001b[1;33m\u001b[0m\u001b[0m\n\u001b[0m\u001b[0;32m     99\u001b[0m         \u001b[0m_converter\u001b[0m\u001b[1;33m.\u001b[0m\u001b[0m_WARN\u001b[0m \u001b[1;33m=\u001b[0m \u001b[1;32mFalse\u001b[0m\u001b[1;33m\u001b[0m\u001b[0m\n\u001b[0;32m    100\u001b[0m         \u001b[0mself\u001b[0m\u001b[1;33m.\u001b[0m\u001b[0mdata\u001b[0m \u001b[1;33m=\u001b[0m \u001b[0mdata\u001b[0m\u001b[1;33m\u001b[0m\u001b[0m\n",
      "\u001b[1;32mc:\\users\\s190045\\pycharmprojects\\untitled\\venv\\lib\\site-packages\\pandas\\plotting\\_core.py\u001b[0m in \u001b[0;36m_raise_if_no_mpl\u001b[1;34m()\u001b[0m\n\u001b[0;32m     46\u001b[0m     \u001b[1;31m# TODO(mpl_converter): remove once converter is explicit\u001b[0m\u001b[1;33m\u001b[0m\u001b[1;33m\u001b[0m\u001b[0m\n\u001b[0;32m     47\u001b[0m     \u001b[1;32mif\u001b[0m \u001b[1;32mnot\u001b[0m \u001b[0m_HAS_MPL\u001b[0m\u001b[1;33m:\u001b[0m\u001b[1;33m\u001b[0m\u001b[0m\n\u001b[1;32m---> 48\u001b[1;33m         \u001b[1;32mraise\u001b[0m \u001b[0mImportError\u001b[0m\u001b[1;33m(\u001b[0m\u001b[1;34m\"matplotlib is required for plotting.\"\u001b[0m\u001b[1;33m)\u001b[0m\u001b[1;33m\u001b[0m\u001b[0m\n\u001b[0m\u001b[0;32m     49\u001b[0m \u001b[1;33m\u001b[0m\u001b[0m\n\u001b[0;32m     50\u001b[0m \u001b[1;33m\u001b[0m\u001b[0m\n",
      "\u001b[1;31mImportError\u001b[0m: matplotlib is required for plotting."
     ]
    },
    {
     "data": {
      "image/png": "[encoded data removed]",
      "text/plain": [
       "<Figure size 432x288 with 4 Axes>"
      ]
     },
     "metadata": {
      "needs_background": "light"
     },
     "output_type": "display_data"
    }
   ],
   "source": [
    "## HIGH PENETRATION DAY\n",
    "\n",
    "curve_g_df = pd.DataFrame({'Pg' : generationProg_df.set_index('ts').loc[high_ts]})\n",
    "curve_g_df['Bid'] = cost_g\n",
    "curve_g_df['Zone'] = region_g\n",
    "curve_g_DK1_df = curve_g_df.loc[curve_g_df.Zone=='DK1'].sort_values(by='Bid')\n",
    "curve_g_DK2_df = curve_g_df.loc[curve_g_df.Zone=='DK2'].sort_values(by='Bid')\n",
    "curve_g_DK1_df['Supply'] = curve_g_DK1_df['Pg'].cumsum()\n",
    "curve_g_DK2_df['Supply'] = curve_g_DK2_df['Pg'].cumsum()\n",
    "curve_g_DK1_df = curve_g_DK1_df.drop(['Zone', 'Pg'], axis=1).set_index('Supply')\n",
    "curve_g_DK2_df = curve_g_DK2_df.drop(['Zone', 'Pg'], axis=1).set_index('Supply')\n",
    "\n",
    "fig, axes = plt.subplots(nrows=2, ncols=2)\n",
    "plt.subplots_adjust(hspace = 0.5)\n",
    "plt.autoscale(tight=True)\n",
    "\n",
    "curve_g_DK1_df.plot(drawstyle=\"steps-post\",linewidth=2, figsize = (15,5), ax=axes[0,0])\n",
    "axes[0,0].axvline(consumptionProg_df.set_index('ts').loc[high_ts]['DK1'], color = 'red')\n",
    "axes[0,0].set_ylabel('Bid [\\u20ac/MWh]')\n",
    "axes[0,0].set_xlabel('')\n",
    "axes[0,0].legend(['Supply','Demand'])\n",
    "axes[0,0].set_xlabel('Quantity [MWh]')\n",
    "axes[0,0].set_title('DK1 - High Wind Power Penetration Day')\n",
    "axes[0,0].set_xlim([0,7000])\n",
    "\n",
    "\n",
    "curve_g_DK2_df.plot(drawstyle=\"steps-post\",linewidth=2, ax=axes[0,1])\n",
    "axes[0,1].axvline(consumptionProg_df.set_index('ts').loc[high_ts]['DK2'], color = 'red')\n",
    "axes[0,1].set_ylabel('Bid [\\u20ac/MWh]')\n",
    "axes[0,1].set_xlabel('')\n",
    "axes[0,1].legend(['Supply','Demand'])\n",
    "axes[0,1].set_xlabel('Quantity [MWh]')\n",
    "axes[0,1].set_title('DK2 - High Wind Power Penetration Day')\n",
    "axes[0,1].set_xlim([0,6000])\n",
    "\n",
    "\n",
    "## LOW PENETRATION DAY\n",
    "\n",
    "curve_g_df = pd.DataFrame({'Pg' : generationProg_df.set_index('ts').loc[low_ts]})\n",
    "curve_g_df['Bid'] = cost_g\n",
    "curve_g_df['Zone'] = region_g\n",
    "curve_g_DK1_df = curve_g_df.loc[curve_g_df.Zone=='DK1'].sort_values(by='Bid')\n",
    "curve_g_DK2_df = curve_g_df.loc[curve_g_df.Zone=='DK2'].sort_values(by='Bid')\n",
    "curve_g_DK1_df['Supply'] = curve_g_DK1_df['Pg'].cumsum()\n",
    "curve_g_DK2_df['Supply'] = curve_g_DK2_df['Pg'].cumsum()\n",
    "curve_g_DK1_df = curve_g_DK1_df.drop(['Zone', 'Pg'], axis=1).set_index('Supply')\n",
    "curve_g_DK2_df = curve_g_DK2_df.drop(['Zone', 'Pg'], axis=1).set_index('Supply')\n",
    "\n",
    "\n",
    "curve_g_DK1_df.plot(drawstyle=\"steps-post\",linewidth=2, figsize = (15,5), ax=axes[1,0])\n",
    "axes[1,0].axvline(consumptionProg_df.set_index('ts').loc[low_ts]['DK1'], color = 'red')\n",
    "axes[1,0].set_ylabel('Bid [\\u20ac/MWh]')\n",
    "axes[1,0].set_xlabel('Quantity [MWh]')\n",
    "axes[1,0].legend(['Supply','Demand'])\n",
    "axes[1,0].set_title('DK1 - Low Wind Power Penetration Day')\n",
    "axes[1,0].set_xlim([0,4200])\n",
    "\n",
    "curve_g_DK2_df.plot(drawstyle=\"steps-post\",linewidth=2, ax=axes[1,1])\n",
    "axes[1,1].axvline(consumptionProg_df.set_index('ts').loc[low_ts]['DK2'], color = 'red')\n",
    "axes[1,1].set_ylabel('Bid [\\u20ac/MWh]')\n",
    "axes[1,1].set_xlabel('Quantity [MWh]')\n",
    "axes[1,1].legend(['Supply','Demand'])\n",
    "axes[1,1].set_title('DK2 - Low Wind Power Penetration Day')\n",
    "axes[1,1].set_xlim([0,5000])"
   ]
  },
  {
   "cell_type": "code",
   "execution_count": null,
   "metadata": {},
   "outputs": [],
   "source": []
  },
  {
   "cell_type": "code",
   "execution_count": 47,
   "metadata": {},
   "outputs": [
    {
     "data": {
      "text/plain": [
       "2957"
      ]
     },
     "execution_count": 47,
     "metadata": {},
     "output_type": "execute_result"
    }
   ],
   "source": [
    "windProg_df.set_index('ts').loc[high_ts]['DK1']"
   ]
  }
 ],
 "metadata": {
  "kernelspec": {
   "display_name": "Python 3",
   "language": "python",
   "name": "python3"
  },
  "language_info": {
   "codemirror_mode": {
    "name": "ipython",
    "version": 3
   },
   "file_extension": ".py",
   "mimetype": "text/x-python",
   "name": "python",
   "nbconvert_exporter": "python",
   "pygments_lexer": "ipython3",
   "version": "3.7.0"
  }
 },
 "nbformat": 4,
 "nbformat_minor": 2
}
