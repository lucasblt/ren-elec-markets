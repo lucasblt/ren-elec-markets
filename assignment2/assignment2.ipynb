{
 "cells": [
  {
   "cell_type": "markdown",
   "metadata": {
    "colab_type": "text",
    "id": "7vgtlVmNKxPK"
   },
   "source": [
    "## Importing packages and libraries\n",
    "\n"
   ]
  },
  {
   "cell_type": "code",
   "execution_count": 1,
   "metadata": {
    "colab": {
     "base_uri": "https://localhost:8080/",
     "height": 61
    },
    "colab_type": "code",
    "id": "hPQKZH4pEkjz",
    "outputId": "e6e738f5-a79f-4e14-9dba-0ac364427145"
   },
   "outputs": [],
   "source": [
    "import pandas as pd\n",
    "import matplotlib.pyplot as plt\n",
    "import numpy as np"
   ]
  },
  {
   "cell_type": "markdown",
   "metadata": {
    "colab_type": "text",
    "id": "3DJkECcuEkj8"
   },
   "source": [
    "## Parsing forecast data"
   ]
  },
  {
   "cell_type": "code",
   "execution_count": 2,
   "metadata": {
    "colab": {},
    "colab_type": "code",
    "id": "AzU6TfN-Ekj-",
    "scrolled": true
   },
   "outputs": [
    {
     "data": {
      "text/html": [
       "<div>\n",
       "<style scoped>\n",
       "    .dataframe tbody tr th:only-of-type {\n",
       "        vertical-align: middle;\n",
       "    }\n",
       "\n",
       "    .dataframe tbody tr th {\n",
       "        vertical-align: top;\n",
       "    }\n",
       "\n",
       "    .dataframe thead th {\n",
       "        text-align: right;\n",
       "    }\n",
       "</style>\n",
       "<table border=\"1\" class=\"dataframe\">\n",
       "  <thead>\n",
       "    <tr style=\"text-align: right;\">\n",
       "      <th></th>\n",
       "      <th>index</th>\n",
       "      <th>dato</th>\n",
       "      <th>dati</th>\n",
       "      <th>hors</th>\n",
       "      <th>meas</th>\n",
       "      <th>fore</th>\n",
       "      <th>q5</th>\n",
       "      <th>10</th>\n",
       "      <th>q15</th>\n",
       "      <th>q20</th>\n",
       "      <th>...</th>\n",
       "      <th>q55</th>\n",
       "      <th>q60</th>\n",
       "      <th>q65</th>\n",
       "      <th>q70</th>\n",
       "      <th>q75</th>\n",
       "      <th>q80</th>\n",
       "      <th>q85</th>\n",
       "      <th>q90</th>\n",
       "      <th>q95</th>\n",
       "      <th>time</th>\n",
       "    </tr>\n",
       "  </thead>\n",
       "  <tbody>\n",
       "    <tr>\n",
       "      <th>0</th>\n",
       "      <td>49</td>\n",
       "      <td>2017-01-01 00:00:00</td>\n",
       "      <td>2016-12-31 12:00:00</td>\n",
       "      <td>12</td>\n",
       "      <td>147661.0</td>\n",
       "      <td>138349.0</td>\n",
       "      <td>86738.0</td>\n",
       "      <td>108753.0</td>\n",
       "      <td>120017.0</td>\n",
       "      <td>125718.0</td>\n",
       "      <td>...</td>\n",
       "      <td>142746.0</td>\n",
       "      <td>144394.0</td>\n",
       "      <td>146628.0</td>\n",
       "      <td>148193.0</td>\n",
       "      <td>150772.0</td>\n",
       "      <td>152857.0</td>\n",
       "      <td>153662.0</td>\n",
       "      <td>156208.0</td>\n",
       "      <td>157999.0</td>\n",
       "      <td>12:00:00</td>\n",
       "    </tr>\n",
       "    <tr>\n",
       "      <th>1</th>\n",
       "      <td>50</td>\n",
       "      <td>2017-01-01 01:00:00</td>\n",
       "      <td>2016-12-31 12:00:00</td>\n",
       "      <td>13</td>\n",
       "      <td>144796.0</td>\n",
       "      <td>138563.0</td>\n",
       "      <td>90423.0</td>\n",
       "      <td>108710.0</td>\n",
       "      <td>121071.0</td>\n",
       "      <td>127537.0</td>\n",
       "      <td>...</td>\n",
       "      <td>142993.0</td>\n",
       "      <td>144718.0</td>\n",
       "      <td>146568.0</td>\n",
       "      <td>148821.0</td>\n",
       "      <td>150989.0</td>\n",
       "      <td>152172.0</td>\n",
       "      <td>153606.0</td>\n",
       "      <td>156823.0</td>\n",
       "      <td>157806.0</td>\n",
       "      <td>12:00:00</td>\n",
       "    </tr>\n",
       "    <tr>\n",
       "      <th>2</th>\n",
       "      <td>51</td>\n",
       "      <td>2017-01-01 02:00:00</td>\n",
       "      <td>2016-12-31 12:00:00</td>\n",
       "      <td>14</td>\n",
       "      <td>138824.0</td>\n",
       "      <td>139105.0</td>\n",
       "      <td>84651.0</td>\n",
       "      <td>108377.0</td>\n",
       "      <td>118738.0</td>\n",
       "      <td>126285.0</td>\n",
       "      <td>...</td>\n",
       "      <td>143269.0</td>\n",
       "      <td>144843.0</td>\n",
       "      <td>146943.0</td>\n",
       "      <td>148726.0</td>\n",
       "      <td>150211.0</td>\n",
       "      <td>152244.0</td>\n",
       "      <td>154077.0</td>\n",
       "      <td>155062.0</td>\n",
       "      <td>157605.0</td>\n",
       "      <td>12:00:00</td>\n",
       "    </tr>\n",
       "    <tr>\n",
       "      <th>3</th>\n",
       "      <td>52</td>\n",
       "      <td>2017-01-01 03:00:00</td>\n",
       "      <td>2016-12-31 12:00:00</td>\n",
       "      <td>15</td>\n",
       "      <td>139307.0</td>\n",
       "      <td>138035.0</td>\n",
       "      <td>96420.0</td>\n",
       "      <td>111929.0</td>\n",
       "      <td>119582.0</td>\n",
       "      <td>124943.0</td>\n",
       "      <td>...</td>\n",
       "      <td>140940.0</td>\n",
       "      <td>141909.0</td>\n",
       "      <td>144100.0</td>\n",
       "      <td>146150.0</td>\n",
       "      <td>148299.0</td>\n",
       "      <td>150362.0</td>\n",
       "      <td>153688.0</td>\n",
       "      <td>155021.0</td>\n",
       "      <td>156767.0</td>\n",
       "      <td>12:00:00</td>\n",
       "    </tr>\n",
       "    <tr>\n",
       "      <th>4</th>\n",
       "      <td>53</td>\n",
       "      <td>2017-01-01 04:00:00</td>\n",
       "      <td>2016-12-31 12:00:00</td>\n",
       "      <td>16</td>\n",
       "      <td>139602.0</td>\n",
       "      <td>138786.0</td>\n",
       "      <td>101909.0</td>\n",
       "      <td>111329.0</td>\n",
       "      <td>120306.0</td>\n",
       "      <td>124232.0</td>\n",
       "      <td>...</td>\n",
       "      <td>141384.0</td>\n",
       "      <td>143238.0</td>\n",
       "      <td>145445.0</td>\n",
       "      <td>147903.0</td>\n",
       "      <td>150514.0</td>\n",
       "      <td>152098.0</td>\n",
       "      <td>153253.0</td>\n",
       "      <td>154366.0</td>\n",
       "      <td>156323.0</td>\n",
       "      <td>12:00:00</td>\n",
       "    </tr>\n",
       "  </tbody>\n",
       "</table>\n",
       "<p>5 rows × 26 columns</p>\n",
       "</div>"
      ],
      "text/plain": [
       "   index                dato                dati  hors      meas      fore  \\\n",
       "0     49 2017-01-01 00:00:00 2016-12-31 12:00:00    12  147661.0  138349.0   \n",
       "1     50 2017-01-01 01:00:00 2016-12-31 12:00:00    13  144796.0  138563.0   \n",
       "2     51 2017-01-01 02:00:00 2016-12-31 12:00:00    14  138824.0  139105.0   \n",
       "3     52 2017-01-01 03:00:00 2016-12-31 12:00:00    15  139307.0  138035.0   \n",
       "4     53 2017-01-01 04:00:00 2016-12-31 12:00:00    16  139602.0  138786.0   \n",
       "\n",
       "         q5        10       q15       q20    ...          q55       q60  \\\n",
       "0   86738.0  108753.0  120017.0  125718.0    ...     142746.0  144394.0   \n",
       "1   90423.0  108710.0  121071.0  127537.0    ...     142993.0  144718.0   \n",
       "2   84651.0  108377.0  118738.0  126285.0    ...     143269.0  144843.0   \n",
       "3   96420.0  111929.0  119582.0  124943.0    ...     140940.0  141909.0   \n",
       "4  101909.0  111329.0  120306.0  124232.0    ...     141384.0  143238.0   \n",
       "\n",
       "        q65       q70       q75       q80       q85       q90       q95  \\\n",
       "0  146628.0  148193.0  150772.0  152857.0  153662.0  156208.0  157999.0   \n",
       "1  146568.0  148821.0  150989.0  152172.0  153606.0  156823.0  157806.0   \n",
       "2  146943.0  148726.0  150211.0  152244.0  154077.0  155062.0  157605.0   \n",
       "3  144100.0  146150.0  148299.0  150362.0  153688.0  155021.0  156767.0   \n",
       "4  145445.0  147903.0  150514.0  152098.0  153253.0  154366.0  156323.0   \n",
       "\n",
       "       time  \n",
       "0  12:00:00  \n",
       "1  12:00:00  \n",
       "2  12:00:00  \n",
       "3  12:00:00  \n",
       "4  12:00:00  \n",
       "\n",
       "[5 rows x 26 columns]"
      ]
     },
     "execution_count": 2,
     "metadata": {},
     "output_type": "execute_result"
    }
   ],
   "source": [
    "forecast_df = pd.read_csv('data/windpowerforecasts.dat', delimiter = ';')\n",
    "forecast_df['dato'] = pd.to_datetime(forecast_df['dato'], format='%Y%m%d%H%M',)\n",
    "forecast_df['dati'] = pd.to_datetime(forecast_df['dati'], format='%Y%m%d%H%M',)\n",
    "forecast_df['time'] = forecast_df.dati.apply(lambda x: x.time())\n",
    "forecast_df = forecast_df[forecast_df['time'] == pd.to_datetime('12:00').time()]\n",
    "forecast_df = forecast_df[forecast_df['hors'] >= 12]\n",
    "forecast_df = forecast_df[forecast_df['hors'] < 36].reset_index()\n",
    "forecast_df = forecast_df.interpolate()\n",
    "forecast_df = forecast_df.drop([8760], axis=0)\n",
    "forecast_df.head()"
   ]
  },
  {
   "cell_type": "markdown",
   "metadata": {
    "colab_type": "text",
    "id": "oOqgFbnlEkkF"
   },
   "source": [
    "## Parsing data of Day-ahead prices 2013-2017"
   ]
  },
  {
   "cell_type": "code",
   "execution_count": 3,
   "metadata": {},
   "outputs": [
    {
     "data": {
      "text/html": [
       "<div>\n",
       "<style scoped>\n",
       "    .dataframe tbody tr th:only-of-type {\n",
       "        vertical-align: middle;\n",
       "    }\n",
       "\n",
       "    .dataframe tbody tr th {\n",
       "        vertical-align: top;\n",
       "    }\n",
       "\n",
       "    .dataframe thead th {\n",
       "        text-align: right;\n",
       "    }\n",
       "</style>\n",
       "<table border=\"1\" class=\"dataframe\">\n",
       "  <thead>\n",
       "    <tr style=\"text-align: right;\">\n",
       "      <th></th>\n",
       "      <th>DK1</th>\n",
       "    </tr>\n",
       "    <tr>\n",
       "      <th>ts</th>\n",
       "      <th></th>\n",
       "    </tr>\n",
       "  </thead>\n",
       "  <tbody>\n",
       "    <tr>\n",
       "      <th>2013-01-01 00:00:00</th>\n",
       "      <td>104.66</td>\n",
       "    </tr>\n",
       "    <tr>\n",
       "      <th>2013-01-01 01:00:00</th>\n",
       "      <td>82.5</td>\n",
       "    </tr>\n",
       "    <tr>\n",
       "      <th>2013-01-01 02:00:00</th>\n",
       "      <td>63.41</td>\n",
       "    </tr>\n",
       "    <tr>\n",
       "      <th>2013-01-01 03:00:00</th>\n",
       "      <td>0.75</td>\n",
       "    </tr>\n",
       "    <tr>\n",
       "      <th>2013-01-01 04:00:00</th>\n",
       "      <td>14.99</td>\n",
       "    </tr>\n",
       "  </tbody>\n",
       "</table>\n",
       "</div>"
      ],
      "text/plain": [
       "                        DK1\n",
       "ts                         \n",
       "2013-01-01 00:00:00  104.66\n",
       "2013-01-01 01:00:00    82.5\n",
       "2013-01-01 02:00:00   63.41\n",
       "2013-01-01 03:00:00    0.75\n",
       "2013-01-01 04:00:00   14.99"
      ]
     },
     "execution_count": 3,
     "metadata": {},
     "output_type": "execute_result"
    }
   ],
   "source": [
    "prices_dayahead_2013_raw_data = pd.read_html('data/elspot-prices_2013_hourly_dkk.xls')[0].values\n",
    "prices_dayahead_2013 = pd.DataFrame(prices_dayahead_2013_raw_data)\n",
    "prices_dayahead_2013 = prices_dayahead_2013.drop([2,3,4,5,6,7,9,10,11,12,13,14,15,16,17,18,19],axis=1)\n",
    "prices_dayahead_2013.columns = ['Dates', 'Hours', 'DK1']\n",
    "prices_dayahead_2013['Hours'] = prices_dayahead_2013['Hours'].str.slice(stop=2)\n",
    "prices_dayahead_2013['ts'] = pd.to_datetime(prices_dayahead_2013['Dates'] + prices_dayahead_2013['Hours'] + ':00', format='%d-%m-%Y%H:%M')\n",
    "prices_dayahead_2013 = prices_dayahead_2013.drop(['Dates','Hours'],axis=1)\n",
    "prices_dayahead_2013['DK1'] = prices_dayahead_2013['DK1']/100\n",
    "prices_dayahead_2013 = prices_dayahead_2013.set_index('ts')\n",
    "prices_dayahead_2013.head()"
   ]
  },
  {
   "cell_type": "code",
   "execution_count": 4,
   "metadata": {},
   "outputs": [
    {
     "ename": "KeyError",
     "evalue": "'[19] not found in axis'",
     "output_type": "error",
     "traceback": [
      "\u001b[1;31m---------------------------------------------------------------------------\u001b[0m",
      "\u001b[1;31mKeyError\u001b[0m                                  Traceback (most recent call last)",
      "\u001b[1;32m<ipython-input-4-6b3627d99fc1>\u001b[0m in \u001b[0;36m<module>\u001b[1;34m\u001b[0m\n\u001b[0;32m      1\u001b[0m \u001b[0mprices_dayahead_2014_raw_data\u001b[0m \u001b[1;33m=\u001b[0m \u001b[0mpd\u001b[0m\u001b[1;33m.\u001b[0m\u001b[0mread_html\u001b[0m\u001b[1;33m(\u001b[0m\u001b[1;34m'data/elspot-prices_2014_hourly_dkk.xls'\u001b[0m\u001b[1;33m)\u001b[0m\u001b[1;33m[\u001b[0m\u001b[1;36m0\u001b[0m\u001b[1;33m]\u001b[0m\u001b[1;33m.\u001b[0m\u001b[0mvalues\u001b[0m\u001b[1;33m\u001b[0m\u001b[1;33m\u001b[0m\u001b[0m\n\u001b[0;32m      2\u001b[0m \u001b[0mprices_dayahead_2014\u001b[0m \u001b[1;33m=\u001b[0m \u001b[0mpd\u001b[0m\u001b[1;33m.\u001b[0m\u001b[0mDataFrame\u001b[0m\u001b[1;33m(\u001b[0m\u001b[0mprices_dayahead_2014_raw_data\u001b[0m\u001b[1;33m)\u001b[0m\u001b[1;33m\u001b[0m\u001b[1;33m\u001b[0m\u001b[0m\n\u001b[1;32m----> 3\u001b[1;33m \u001b[0mprices_dayahead_2014\u001b[0m \u001b[1;33m=\u001b[0m \u001b[0mprices_dayahead_2014\u001b[0m\u001b[1;33m.\u001b[0m\u001b[0mdrop\u001b[0m\u001b[1;33m(\u001b[0m\u001b[1;33m[\u001b[0m\u001b[1;36m2\u001b[0m\u001b[1;33m,\u001b[0m\u001b[1;36m3\u001b[0m\u001b[1;33m,\u001b[0m\u001b[1;36m4\u001b[0m\u001b[1;33m,\u001b[0m\u001b[1;36m5\u001b[0m\u001b[1;33m,\u001b[0m\u001b[1;36m6\u001b[0m\u001b[1;33m,\u001b[0m\u001b[1;36m7\u001b[0m\u001b[1;33m,\u001b[0m\u001b[1;36m9\u001b[0m\u001b[1;33m,\u001b[0m\u001b[1;36m10\u001b[0m\u001b[1;33m,\u001b[0m\u001b[1;36m11\u001b[0m\u001b[1;33m,\u001b[0m\u001b[1;36m12\u001b[0m\u001b[1;33m,\u001b[0m\u001b[1;36m13\u001b[0m\u001b[1;33m,\u001b[0m\u001b[1;36m14\u001b[0m\u001b[1;33m,\u001b[0m\u001b[1;36m15\u001b[0m\u001b[1;33m,\u001b[0m\u001b[1;36m16\u001b[0m\u001b[1;33m,\u001b[0m\u001b[1;36m17\u001b[0m\u001b[1;33m,\u001b[0m\u001b[1;36m18\u001b[0m\u001b[1;33m,\u001b[0m\u001b[1;36m19\u001b[0m\u001b[1;33m]\u001b[0m\u001b[1;33m,\u001b[0m\u001b[0maxis\u001b[0m\u001b[1;33m=\u001b[0m\u001b[1;36m1\u001b[0m\u001b[1;33m)\u001b[0m\u001b[1;33m\u001b[0m\u001b[1;33m\u001b[0m\u001b[0m\n\u001b[0m\u001b[0;32m      4\u001b[0m \u001b[0mprices_dayahead_2014\u001b[0m\u001b[1;33m.\u001b[0m\u001b[0mcolumns\u001b[0m \u001b[1;33m=\u001b[0m \u001b[1;33m[\u001b[0m\u001b[1;34m'Dates'\u001b[0m\u001b[1;33m,\u001b[0m \u001b[1;34m'Hours'\u001b[0m\u001b[1;33m,\u001b[0m \u001b[1;34m'DK1'\u001b[0m\u001b[1;33m]\u001b[0m\u001b[1;33m\u001b[0m\u001b[1;33m\u001b[0m\u001b[0m\n\u001b[0;32m      5\u001b[0m \u001b[0mprices_dayahead_2014\u001b[0m\u001b[1;33m[\u001b[0m\u001b[1;34m'Hours'\u001b[0m\u001b[1;33m]\u001b[0m \u001b[1;33m=\u001b[0m \u001b[0mprices_dayahead_2014\u001b[0m\u001b[1;33m[\u001b[0m\u001b[1;34m'Hours'\u001b[0m\u001b[1;33m]\u001b[0m\u001b[1;33m.\u001b[0m\u001b[0mstr\u001b[0m\u001b[1;33m.\u001b[0m\u001b[0mslice\u001b[0m\u001b[1;33m(\u001b[0m\u001b[0mstop\u001b[0m\u001b[1;33m=\u001b[0m\u001b[1;36m2\u001b[0m\u001b[1;33m)\u001b[0m\u001b[1;33m\u001b[0m\u001b[1;33m\u001b[0m\u001b[0m\n",
      "\u001b[1;32m~\\Anaconda3\\lib\\site-packages\\pandas\\core\\frame.py\u001b[0m in \u001b[0;36mdrop\u001b[1;34m(self, labels, axis, index, columns, level, inplace, errors)\u001b[0m\n\u001b[0;32m   3695\u001b[0m                                            \u001b[0mindex\u001b[0m\u001b[1;33m=\u001b[0m\u001b[0mindex\u001b[0m\u001b[1;33m,\u001b[0m \u001b[0mcolumns\u001b[0m\u001b[1;33m=\u001b[0m\u001b[0mcolumns\u001b[0m\u001b[1;33m,\u001b[0m\u001b[1;33m\u001b[0m\u001b[1;33m\u001b[0m\u001b[0m\n\u001b[0;32m   3696\u001b[0m                                            \u001b[0mlevel\u001b[0m\u001b[1;33m=\u001b[0m\u001b[0mlevel\u001b[0m\u001b[1;33m,\u001b[0m \u001b[0minplace\u001b[0m\u001b[1;33m=\u001b[0m\u001b[0minplace\u001b[0m\u001b[1;33m,\u001b[0m\u001b[1;33m\u001b[0m\u001b[1;33m\u001b[0m\u001b[0m\n\u001b[1;32m-> 3697\u001b[1;33m                                            errors=errors)\n\u001b[0m\u001b[0;32m   3698\u001b[0m \u001b[1;33m\u001b[0m\u001b[0m\n\u001b[0;32m   3699\u001b[0m     @rewrite_axis_style_signature('mapper', [('copy', True),\n",
      "\u001b[1;32m~\\Anaconda3\\lib\\site-packages\\pandas\\core\\generic.py\u001b[0m in \u001b[0;36mdrop\u001b[1;34m(self, labels, axis, index, columns, level, inplace, errors)\u001b[0m\n\u001b[0;32m   3109\u001b[0m         \u001b[1;32mfor\u001b[0m \u001b[0maxis\u001b[0m\u001b[1;33m,\u001b[0m \u001b[0mlabels\u001b[0m \u001b[1;32min\u001b[0m \u001b[0maxes\u001b[0m\u001b[1;33m.\u001b[0m\u001b[0mitems\u001b[0m\u001b[1;33m(\u001b[0m\u001b[1;33m)\u001b[0m\u001b[1;33m:\u001b[0m\u001b[1;33m\u001b[0m\u001b[1;33m\u001b[0m\u001b[0m\n\u001b[0;32m   3110\u001b[0m             \u001b[1;32mif\u001b[0m \u001b[0mlabels\u001b[0m \u001b[1;32mis\u001b[0m \u001b[1;32mnot\u001b[0m \u001b[1;32mNone\u001b[0m\u001b[1;33m:\u001b[0m\u001b[1;33m\u001b[0m\u001b[1;33m\u001b[0m\u001b[0m\n\u001b[1;32m-> 3111\u001b[1;33m                 \u001b[0mobj\u001b[0m \u001b[1;33m=\u001b[0m \u001b[0mobj\u001b[0m\u001b[1;33m.\u001b[0m\u001b[0m_drop_axis\u001b[0m\u001b[1;33m(\u001b[0m\u001b[0mlabels\u001b[0m\u001b[1;33m,\u001b[0m \u001b[0maxis\u001b[0m\u001b[1;33m,\u001b[0m \u001b[0mlevel\u001b[0m\u001b[1;33m=\u001b[0m\u001b[0mlevel\u001b[0m\u001b[1;33m,\u001b[0m \u001b[0merrors\u001b[0m\u001b[1;33m=\u001b[0m\u001b[0merrors\u001b[0m\u001b[1;33m)\u001b[0m\u001b[1;33m\u001b[0m\u001b[1;33m\u001b[0m\u001b[0m\n\u001b[0m\u001b[0;32m   3112\u001b[0m \u001b[1;33m\u001b[0m\u001b[0m\n\u001b[0;32m   3113\u001b[0m         \u001b[1;32mif\u001b[0m \u001b[0minplace\u001b[0m\u001b[1;33m:\u001b[0m\u001b[1;33m\u001b[0m\u001b[1;33m\u001b[0m\u001b[0m\n",
      "\u001b[1;32m~\\Anaconda3\\lib\\site-packages\\pandas\\core\\generic.py\u001b[0m in \u001b[0;36m_drop_axis\u001b[1;34m(self, labels, axis, level, errors)\u001b[0m\n\u001b[0;32m   3141\u001b[0m                 \u001b[0mnew_axis\u001b[0m \u001b[1;33m=\u001b[0m \u001b[0maxis\u001b[0m\u001b[1;33m.\u001b[0m\u001b[0mdrop\u001b[0m\u001b[1;33m(\u001b[0m\u001b[0mlabels\u001b[0m\u001b[1;33m,\u001b[0m \u001b[0mlevel\u001b[0m\u001b[1;33m=\u001b[0m\u001b[0mlevel\u001b[0m\u001b[1;33m,\u001b[0m \u001b[0merrors\u001b[0m\u001b[1;33m=\u001b[0m\u001b[0merrors\u001b[0m\u001b[1;33m)\u001b[0m\u001b[1;33m\u001b[0m\u001b[1;33m\u001b[0m\u001b[0m\n\u001b[0;32m   3142\u001b[0m             \u001b[1;32melse\u001b[0m\u001b[1;33m:\u001b[0m\u001b[1;33m\u001b[0m\u001b[1;33m\u001b[0m\u001b[0m\n\u001b[1;32m-> 3143\u001b[1;33m                 \u001b[0mnew_axis\u001b[0m \u001b[1;33m=\u001b[0m \u001b[0maxis\u001b[0m\u001b[1;33m.\u001b[0m\u001b[0mdrop\u001b[0m\u001b[1;33m(\u001b[0m\u001b[0mlabels\u001b[0m\u001b[1;33m,\u001b[0m \u001b[0merrors\u001b[0m\u001b[1;33m=\u001b[0m\u001b[0merrors\u001b[0m\u001b[1;33m)\u001b[0m\u001b[1;33m\u001b[0m\u001b[1;33m\u001b[0m\u001b[0m\n\u001b[0m\u001b[0;32m   3144\u001b[0m             \u001b[0mresult\u001b[0m \u001b[1;33m=\u001b[0m \u001b[0mself\u001b[0m\u001b[1;33m.\u001b[0m\u001b[0mreindex\u001b[0m\u001b[1;33m(\u001b[0m\u001b[1;33m**\u001b[0m\u001b[1;33m{\u001b[0m\u001b[0maxis_name\u001b[0m\u001b[1;33m:\u001b[0m \u001b[0mnew_axis\u001b[0m\u001b[1;33m}\u001b[0m\u001b[1;33m)\u001b[0m\u001b[1;33m\u001b[0m\u001b[1;33m\u001b[0m\u001b[0m\n\u001b[0;32m   3145\u001b[0m \u001b[1;33m\u001b[0m\u001b[0m\n",
      "\u001b[1;32m~\\Anaconda3\\lib\\site-packages\\pandas\\core\\indexes\\base.py\u001b[0m in \u001b[0;36mdrop\u001b[1;34m(self, labels, errors)\u001b[0m\n\u001b[0;32m   4402\u001b[0m             \u001b[1;32mif\u001b[0m \u001b[0merrors\u001b[0m \u001b[1;33m!=\u001b[0m \u001b[1;34m'ignore'\u001b[0m\u001b[1;33m:\u001b[0m\u001b[1;33m\u001b[0m\u001b[1;33m\u001b[0m\u001b[0m\n\u001b[0;32m   4403\u001b[0m                 raise KeyError(\n\u001b[1;32m-> 4404\u001b[1;33m                     '{} not found in axis'.format(labels[mask]))\n\u001b[0m\u001b[0;32m   4405\u001b[0m             \u001b[0mindexer\u001b[0m \u001b[1;33m=\u001b[0m \u001b[0mindexer\u001b[0m\u001b[1;33m[\u001b[0m\u001b[1;33m~\u001b[0m\u001b[0mmask\u001b[0m\u001b[1;33m]\u001b[0m\u001b[1;33m\u001b[0m\u001b[1;33m\u001b[0m\u001b[0m\n\u001b[0;32m   4406\u001b[0m         \u001b[1;32mreturn\u001b[0m \u001b[0mself\u001b[0m\u001b[1;33m.\u001b[0m\u001b[0mdelete\u001b[0m\u001b[1;33m(\u001b[0m\u001b[0mindexer\u001b[0m\u001b[1;33m)\u001b[0m\u001b[1;33m\u001b[0m\u001b[1;33m\u001b[0m\u001b[0m\n",
      "\u001b[1;31mKeyError\u001b[0m: '[19] not found in axis'"
     ]
    }
   ],
   "source": [
    "prices_dayahead_2014_raw_data = pd.read_html('data/elspot-prices_2014_hourly_dkk.xls')[0].values\n",
    "prices_dayahead_2014 = pd.DataFrame(prices_dayahead_2014_raw_data)\n",
    "prices_dayahead_2014 = prices_dayahead_2014.drop([2,3,4,5,6,7,9,10,11,12,13,14,15,16,17,18,19],axis=1)\n",
    "prices_dayahead_2014.columns = ['Dates', 'Hours', 'DK1']\n",
    "prices_dayahead_2014['Hours'] = prices_dayahead_2014['Hours'].str.slice(stop=2)\n",
    "prices_dayahead_2014['ts'] = pd.to_datetime(prices_dayahead_2014['Dates'] + prices_dayahead_2014['Hours'] + ':00', format='%d-%m-%Y%H:%M')\n",
    "prices_dayahead_2014 = prices_dayahead_2014.drop(['Dates','Hours'],axis=1)\n",
    "prices_dayahead_2014['DK1'] = prices_dayahead_2014['DK1']/100\n",
    "prices_dayahead_2014 = prices_dayahead_2014.set_index('ts')\n",
    "prices_dayahead_2014.head()"
   ]
  },
  {
   "cell_type": "code",
   "execution_count": null,
   "metadata": {},
   "outputs": [],
   "source": [
    "prices_dayahead_2015_raw_data = pd.read_html('data/elspot-prices_2015_hourly_dkk.xls')[0].values\n",
    "prices_dayahead_2015 = pd.DataFrame(prices_dayahead_2015_raw_data)\n",
    "prices_dayahead_2015 = prices_dayahead_2015.drop([2,3,4,5,6,7,9,10,11,12,13,14,15,16,17,18,19],axis=1)\n",
    "prices_dayahead_2015.columns = ['Dates', 'Hours', 'DK1']\n",
    "prices_dayahead_2015['Hours'] = prices_dayahead_2015['Hours'].str.slice(stop=2)\n",
    "prices_dayahead_2015['ts'] = pd.to_datetime(prices_dayahead_2015['Dates'] + prices_dayahead_2015['Hours'] + ':00', format='%d-%m-%Y%H:%M')\n",
    "prices_dayahead_2015 = prices_dayahead_2015.drop(['Dates','Hours'],axis=1)\n",
    "prices_dayahead_2015['DK1'] = prices_dayahead_2015['DK1']/100\n",
    "prices_dayahead_2015 = prices_dayahead_2015.set_index('ts')\n",
    "prices_dayahead_2015.head()"
   ]
  },
  {
   "cell_type": "code",
   "execution_count": null,
   "metadata": {
    "colab": {},
    "colab_type": "code",
    "id": "etNq4QH6EkkH"
   },
   "outputs": [],
   "source": [
    "prices_dayahead_2016_raw_data = pd.read_html('data/elspot-prices_2016_hourly_dkk.xls')[0].values\n",
    "prices_dayahead_2016 = pd.DataFrame(prices_dayahead_2016_raw_data)\n",
    "prices_dayahead_2016 = prices_dayahead_2016.drop([2,3,4,5,6,7,9,10,11,12,13,14,15,16,17,18,19],axis=1)\n",
    "prices_dayahead_2016.columns = ['Dates', 'Hours', 'DK1']\n",
    "prices_dayahead_2016['Hours'] = prices_dayahead_2016['Hours'].str.slice(stop=2)\n",
    "prices_dayahead_2016['ts'] = pd.to_datetime(prices_dayahead_2016['Dates'] + prices_dayahead_2016['Hours'] + ':00', format='%d-%m-%Y%H:%M')\n",
    "prices_dayahead_2016 = prices_dayahead_2016.drop(['Dates','Hours'],axis=1)\n",
    "prices_dayahead_2016['DK1'] = prices_dayahead_2016['DK1']/100\n",
    "prices_dayahead_2016 = prices_dayahead_2016.set_index('ts')\n",
    "prices_dayahead_2016.head()"
   ]
  },
  {
   "cell_type": "code",
   "execution_count": null,
   "metadata": {
    "colab": {},
    "colab_type": "code",
    "id": "8QAWSPVGEkkP"
   },
   "outputs": [],
   "source": [
    "prices_dayahead_2017_raw_data = pd.read_html('data/elspot-prices_2017_hourly_dkk.xls')[0].values\n",
    "prices_dayahead_2017 = pd.DataFrame(prices_dayahead_2017_raw_data)\n",
    "prices_dayahead_2017 = prices_dayahead_2017.drop([2,3,4,5,6,7,9,10,11,12,13,14,15,16,17,18],axis=1)\n",
    "prices_dayahead_2017.columns = ['Dates', 'Hours', 'DK1']\n",
    "prices_dayahead_2017['Hours'] = prices_dayahead_2017['Hours'].str.slice(stop=2)\n",
    "prices_dayahead_2017['ts'] = pd.to_datetime(prices_dayahead_2017['Dates'] + prices_dayahead_2017['Hours'] + ':00', format='%d-%m-%Y%H:%M')\n",
    "prices_dayahead_2017 = prices_dayahead_2017.drop(['Dates','Hours'],axis=1)\n",
    "prices_dayahead_2017['DK1'] = prices_dayahead_2017['DK1']/100\n",
    "prices_dayahead_2017 = prices_dayahead_2017.set_index('ts')\n",
    "prices_dayahead_2017.head()"
   ]
  },
  {
   "cell_type": "markdown",
   "metadata": {},
   "source": [
    "## Parsing data of Regulating market prices for 2016 and 2017"
   ]
  },
  {
   "cell_type": "code",
   "execution_count": null,
   "metadata": {},
   "outputs": [],
   "source": [
    "prices_regulating_2013_raw_data = pd.read_html('data/regulating-prices_2013_hourly_dkk.xls')[0].values\n",
    "prices_regulating_2013 = pd.DataFrame(prices_regulating_2013_raw_data)\n",
    "prices_regulating_2013 = prices_regulating_2013.drop([2,3,4,5,6,7,8,9,10,11,12,13,14,15,16,17,18,19,20,21,24,25],axis=1)\n",
    "prices_regulating_2013.columns = ['Dates', 'Hours', 'DK1_up', 'DK1_down']\n",
    "prices_regulating_2013['Hours'] = prices_regulating_2013['Hours'].str.slice(stop=2)\n",
    "prices_regulating_2013['ts'] = pd.to_datetime(prices_regulating_2013['Dates'] + prices_regulating_2013['Hours'] + ':00', format='%d-%m-%Y%H:%M')\n",
    "prices_regulating_2013 = prices_regulating_2013.drop(['Dates','Hours'],axis=1)\n",
    "prices_regulating_2013['DK1_up'] = prices_regulating_2013['DK1_up']/100\n",
    "prices_regulating_2013['DK1_down'] = prices_regulating_2013['DK1_down']/100\n",
    "prices_regulating_2013 = prices_regulating_2013.set_index('ts')\n",
    "prices_regulating_2013.head()"
   ]
  },
  {
   "cell_type": "code",
   "execution_count": null,
   "metadata": {},
   "outputs": [],
   "source": [
    "prices_regulating_2014_raw_data = pd.read_html('data/regulating-prices_2014_hourly_dkk.xls')[0].values\n",
    "prices_regulating_2014 = pd.DataFrame(prices_regulating_2014_raw_data)\n",
    "prices_regulating_2014 = prices_regulating_2014.drop([2,3,4,5,6,7,8,9,10,11,12,13,14,15,16,17,18,19,20,21,24,25],axis=1)\n",
    "prices_regulating_2014.columns = ['Dates', 'Hours', 'DK1_up', 'DK1_down']\n",
    "prices_regulating_2014['Hours'] = prices_regulating_2014['Hours'].str.slice(stop=2)\n",
    "prices_regulating_2014['ts'] = pd.to_datetime(prices_regulating_2014['Dates'] + prices_regulating_2014['Hours'] + ':00', format='%d-%m-%Y%H:%M')\n",
    "prices_regulating_2014 = prices_regulating_2014.drop(['Dates','Hours'],axis=1)\n",
    "prices_regulating_2014['DK1_up'] = prices_regulating_2014['DK1_up']/100\n",
    "prices_regulating_2014['DK1_down'] = prices_regulating_2014['DK1_down']/100\n",
    "prices_regulating_2014 = prices_regulating_2014.set_index('ts')\n",
    "prices_regulating_2014.head()"
   ]
  },
  {
   "cell_type": "code",
   "execution_count": null,
   "metadata": {},
   "outputs": [],
   "source": [
    "prices_regulating_2015_raw_data = pd.read_html('data/regulating-prices_2015_hourly_dkk.xls')[0].values\n",
    "prices_regulating_2015 = pd.DataFrame(prices_regulating_2015_raw_data)\n",
    "prices_regulating_2015 = prices_regulating_2015.drop([2,3,4,5,6,7,8,9,10,11,12,13,14,15,16,17,18,19,20,21,24,25],axis=1)\n",
    "prices_regulating_2015.columns = ['Dates', 'Hours', 'DK1_up', 'DK1_down']\n",
    "prices_regulating_2015['Hours'] = prices_regulating_2015['Hours'].str.slice(stop=2)\n",
    "prices_regulating_2015['ts'] = pd.to_datetime(prices_regulating_2015['Dates'] + prices_regulating_2015['Hours'] + ':00', format='%d-%m-%Y%H:%M')\n",
    "prices_regulating_2015 = prices_regulating_2015.drop(['Dates','Hours'],axis=1)\n",
    "prices_regulating_2015['DK1_up'] = prices_regulating_2015['DK1_up']/100\n",
    "prices_regulating_2015['DK1_down'] = prices_regulating_2015['DK1_down']/100\n",
    "prices_regulating_2015 = prices_regulating_2015.set_index('ts')\n",
    "prices_regulating_2015.head()"
   ]
  },
  {
   "cell_type": "code",
   "execution_count": null,
   "metadata": {},
   "outputs": [],
   "source": [
    "prices_regulating_2016_raw_data = pd.read_html('data/regulating-prices_2016_hourly_dkk.xls')[0].values\n",
    "prices_regulating_2016 = pd.DataFrame(prices_regulating_2016_raw_data)\n",
    "prices_regulating_2016 = prices_regulating_2016.drop([2,3,4,5,6,7,8,9,10,11,12,13,14,15,16,17,18,19,20,21,24,25],axis=1)\n",
    "prices_regulating_2016.columns = ['Dates', 'Hours', 'DK1_up', 'DK1_down']\n",
    "prices_regulating_2016['Hours'] = prices_regulating_2016['Hours'].str.slice(stop=2)\n",
    "prices_regulating_2016['ts'] = pd.to_datetime(prices_regulating_2016['Dates'] + prices_regulating_2016['Hours'] + ':00', format='%d-%m-%Y%H:%M')\n",
    "prices_regulating_2016 = prices_regulating_2016.drop(['Dates','Hours'],axis=1)\n",
    "prices_regulating_2016['DK1_up'] = prices_regulating_2016['DK1_up']/100\n",
    "prices_regulating_2016['DK1_down'] = prices_regulating_2016['DK1_down']/100\n",
    "prices_regulating_2016 = prices_regulating_2016.set_index('ts')\n",
    "prices_regulating_2016.head()"
   ]
  },
  {
   "cell_type": "code",
   "execution_count": null,
   "metadata": {},
   "outputs": [],
   "source": [
    "prices_regulating_2017_raw_data = pd.read_html('data/regulating-prices_2017_hourly_dkk.xls')[0].values\n",
    "prices_regulating_2017 = pd.DataFrame(prices_regulating_2017_raw_data)\n",
    "prices_regulating_2017 = prices_regulating_2017.drop([2,3,4,5,6,7,8,9,10,11,12,13,14,15,16,17,18,19,20,21,24,25],axis=1)\n",
    "prices_regulating_2017.columns = ['Dates', 'Hours', 'DK1_up', 'DK1_down']\n",
    "prices_regulating_2017['Hours'] = prices_regulating_2017['Hours'].str.slice(stop=2)\n",
    "prices_regulating_2017['ts'] = pd.to_datetime(prices_regulating_2017['Dates'] + prices_regulating_2017['Hours'] + ':00', format='%d-%m-%Y%H:%M')\n",
    "prices_regulating_2017 = prices_regulating_2017.drop(['Dates','Hours'],axis=1)\n",
    "prices_regulating_2017['DK1_up'] = prices_regulating_2017['DK1_up']/100\n",
    "prices_regulating_2017['DK1_down'] = prices_regulating_2017['DK1_down']/100\n",
    "prices_regulating_2017 = prices_regulating_2017.set_index('ts')\n",
    "prices_regulating_2017.head()"
   ]
  },
  {
   "cell_type": "markdown",
   "metadata": {},
   "source": [
    "## Joining price data in single dataframe"
   ]
  },
  {
   "cell_type": "code",
   "execution_count": null,
   "metadata": {},
   "outputs": [],
   "source": [
    "prices_regulating = pd.concat([prices_regulating_2013, prices_regulating_2014, prices_regulating_2015, prices_regulating_2016, prices_regulating_2017])\n",
    "prices_dayahed = pd.concat([prices_dayahead_2013, prices_dayahead_2014, prices_dayahead_2015,prices_dayahead_2016, prices_dayahead_2017])\n",
    "prices = prices_dayahed.join(prices_regulating)\n",
    "prices = prices[~prices.index.duplicated(keep='first')]\n",
    "prices.head()"
   ]
  },
  {
   "cell_type": "code",
   "execution_count": null,
   "metadata": {},
   "outputs": [],
   "source": [
    "prices['DK1'].plot(figsize=(15,5))\n",
    "prices.drop(columns=['DK1']).plot(figsize=(15,5))"
   ]
  },
  {
   "cell_type": "markdown",
   "metadata": {},
   "source": [
    "## Reference - Perfect solution"
   ]
  },
  {
   "cell_type": "code",
   "execution_count": null,
   "metadata": {},
   "outputs": [],
   "source": [
    "reference = pd.DataFrame()\n",
    "reference = prices[prices.index.year == 2017].drop(['DK1_up', 'DK1_down'],axis=1)\n",
    "reference['Production'] = forecast_df['meas'].values/1000\n",
    "reference['Revenue'] = reference['Production']*reference['DK1']\n",
    "reference_revenue = reference['Revenue'].sum()\n",
    "reference.head()"
   ]
  },
  {
   "cell_type": "code",
   "execution_count": null,
   "metadata": {},
   "outputs": [],
   "source": [
    "print('The revenue for reference: {}'.format(reference_revenue))"
   ]
  },
  {
   "cell_type": "markdown",
   "metadata": {},
   "source": [
    "## Strategy 1 - Based on historical data"
   ]
  },
  {
   "cell_type": "code",
   "execution_count": null,
   "metadata": {},
   "outputs": [],
   "source": [
    "prices2016 = prices[prices.index.year == 2016]\n",
    "prices2016 = prices2016.astype(float).round({'DK1': 0, 'DK1_up': 0, 'DK1_down': 0})\n",
    "prices2016['Up'] = ((prices2016['DK1'] == prices2016['DK1_up']) & (prices2016['DK1_down'] != prices2016['DK1_up']))\n",
    "prices2016['Down'] = ((prices2016['DK1'] == prices2016['DK1_down']) & (prices2016['DK1_down'] != prices2016['DK1_up']))\n",
    "prices2016['Balance'] = (prices2016['DK1_up'] == prices2016['DK1_down'])\n",
    "prices2016 = prices2016*1\n",
    "prices2016['hour'] = prices2016.index.hour\n",
    "hist_up_down = prices2016.groupby('hour').agg({\"Up\": \"sum\", \"Down\": \"sum\", \"Balance\": \"sum\"})\n",
    "hist_up_down.plot(figsize=(15,9))"
   ]
  },
  {
   "cell_type": "code",
   "execution_count": null,
   "metadata": {},
   "outputs": [],
   "source": [
    "strategy1 = pd.DataFrame()\n",
    "strategy1 = prices[prices.index.year == 2017]\n",
    "strategy1['Bid'] = 160\n",
    "strategy1['Production'] = forecast_df['meas'].values/1000\n",
    "strategy1['Dayahead Revenue'] = strategy1['Bid']*strategy1['DK1']\n",
    "strategy1['Delta'] = strategy1['Production'] - strategy1['Bid']\n",
    "strategy1['Regulation Revenue'] = strategy1['Delta']*strategy1['DK1_up']\n",
    "strategy1_revenue = strategy1['Regulation Revenue'].sum() + strategy1['Dayahead Revenue'].sum()\n",
    "strategy1_ratio = strategy1_revenue/reference_revenue\n",
    "strategy1.head()"
   ]
  },
  {
   "cell_type": "code",
   "execution_count": null,
   "metadata": {},
   "outputs": [],
   "source": [
    "strategy1_ratio"
   ]
  },
  {
   "cell_type": "markdown",
   "metadata": {},
   "source": [
    "## Strategy 2 - Deterministic"
   ]
  },
  {
   "cell_type": "code",
   "execution_count": null,
   "metadata": {},
   "outputs": [],
   "source": [
    "strategy2 = pd.DataFrame()\n",
    "strategy2 = prices[prices.index.year == 2017]\n",
    "strategy2['Bid'] = 1.02*forecast_df['fore'].values/1000\n",
    "strategy2['Production'] = forecast_df['meas'].values/1000\n",
    "strategy2['Dayahead Revenue'] = strategy2['Bid']*strategy2['DK1']\n",
    "strategy2['Delta'] = strategy2['Production'] - strategy2['Bid']\n",
    "strategy2_up = strategy2[strategy2['Delta'] <= 0]\n",
    "strategy2_down = strategy2[strategy2['Delta'] > 0]\n",
    "strategy2_up['Regulation Revenue'] = strategy2_up['DK1_up']*strategy2_up['Delta']\n",
    "strategy2_down['Regulation Revenue'] = strategy2_down['DK1_down']*strategy2_down['Delta']\n",
    "\n",
    "strategy2_revenue = strategy2_up['Regulation Revenue'].sum() + strategy2_up['Dayahead Revenue'].sum() + strategy2_down['Regulation Revenue'].sum() + strategy2_down['Dayahead Revenue'].sum()\n",
    "strategy2_ratio = strategy2_revenue/reference_revenue\n",
    "strategy2.head()"
   ]
  },
  {
   "cell_type": "code",
   "execution_count": null,
   "metadata": {},
   "outputs": [],
   "source": [
    "strategy2_ratio"
   ]
  },
  {
   "cell_type": "markdown",
   "metadata": {},
   "source": [
    "## Strategy 3 - Probabilistic "
   ]
  },
  {
   "cell_type": "code",
   "execution_count": null,
   "metadata": {},
   "outputs": [],
   "source": [
    "alpha2016 = prices2016.drop(columns=['Up', 'Down', 'Balance'])\n",
    "alpha2016['pi+'] = (prices2016['DK1'] - prices2016['DK1_down'])\n",
    "alpha2016['pi-'] = (prices2016['DK1_up'] - prices2016['DK1'])"
   ]
  },
  {
   "cell_type": "markdown",
   "metadata": {},
   "source": [
    "Using mean optimal alpha of the year: "
   ]
  },
  {
   "cell_type": "code",
   "execution_count": null,
   "metadata": {},
   "outputs": [],
   "source": [
    "pi_plus = alpha2016['pi+'].mean()\n",
    "pi_minus = alpha2016['pi-'].mean()\n",
    "alpha_2016 = pi_plus/(pi_plus+pi_minus)\n",
    "alpha_2016"
   ]
  },
  {
   "cell_type": "markdown",
   "metadata": {},
   "source": [
    "Calcuating revenue"
   ]
  },
  {
   "cell_type": "code",
   "execution_count": null,
   "metadata": {},
   "outputs": [],
   "source": [
    "strategy3 = pd.DataFrame()\n",
    "strategy3 = prices[prices.index.year == 2017]\n",
    "strategy3['Bid'] = forecast_df['q60'].values/1000\n",
    "strategy3['Production'] = forecast_df['meas'].values/1000\n",
    "strategy3['Dayahead Revenue'] = strategy3['Bid']*strategy3['DK1']\n",
    "strategy3['Delta'] = strategy3['Production'] - strategy3['Bid']\n",
    "strategy3_up = strategy3[strategy3['Delta'] <= 0]\n",
    "strategy3_down = strategy3[strategy3['Delta'] > 0]\n",
    "strategy3_up['Regulation Revenue'] = strategy3_up['DK1_up']*strategy3_up['Delta']\n",
    "strategy3_down['Regulation Revenue'] = strategy3_down['DK1_down']*strategy3_down['Delta']\n",
    "\n",
    "strategy3_revenue = strategy3_up['Regulation Revenue'].sum() + strategy3_up['Dayahead Revenue'].sum() + strategy3_down['Regulation Revenue'].sum() + strategy3_down['Dayahead Revenue'].sum()\n",
    "strategy3_ratio = strategy3_revenue/reference_revenue\n",
    "strategy3_ratio"
   ]
  },
  {
   "cell_type": "markdown",
   "metadata": {},
   "source": [
    "Using mean optimal alpha for 24 hours: "
   ]
  },
  {
   "cell_type": "code",
   "execution_count": null,
   "metadata": {},
   "outputs": [],
   "source": [
    "alpha_profile = alpha2016.groupby('hour').agg({\"pi+\": \"mean\", \"pi-\": \"mean\"})\n",
    "alpha_profile['alpha'] = alpha_profile['pi+']/(alpha_profile['pi+']+alpha_profile['pi-'])\n",
    "alpha_profile['alpha'].plot(figsize=(15,5))\n",
    "alpha_list = alpha_profile['alpha'].values.tolist()\n",
    "alpha_hour = pd.Series(np.tile(alpha_list, 365))"
   ]
  },
  {
   "cell_type": "code",
   "execution_count": null,
   "metadata": {},
   "outputs": [],
   "source": [
    "strategy3b = pd.DataFrame()\n",
    "strategy3b = prices[prices.index.year == 2017]\n",
    "strategy3b['hour'] = strategy3b.index.hour\n",
    "strategy3b['alpha'] = alpha_hour.values\n",
    "strategy3b['quantile'] = 5*round((strategy3b['alpha']*100)/5,0)\n",
    "strategy3b['quantile'] = 'q' + strategy3b['quantile'].astype(str).str.slice(stop=2)\n",
    "strategy3b['Bid'] = forecast_df.set_index('dato').lookup(strategy3b.index, strategy3b['quantile'])/1000\n",
    "strategy3b['Production'] = forecast_df['meas'].values/1000\n",
    "strategy3b['Dayahead Revenue'] = strategy3b['Bid']*strategy3['DK1']\n",
    "strategy3b['Delta'] = strategy3b['Production'] - strategy3b['Bid']\n",
    "strategy3b_up = strategy3b[strategy3b['Delta'] <= 0]\n",
    "strategy3b_down = strategy3b[strategy3b['Delta'] > 0]\n",
    "strategy3b_up['Regulation Revenue'] = strategy3b_up['DK1_up']*strategy3b_up['Delta']\n",
    "strategy3b_down['Regulation Revenue'] = strategy3b_down['DK1_down']*strategy3b_down['Delta']\n",
    "\n",
    "strategy3b_revenue = strategy3b_up['Regulation Revenue'].sum() + strategy3b_up['Dayahead Revenue'].sum() + strategy3b_down['Regulation Revenue'].sum() + strategy3b_down['Dayahead Revenue'].sum()\n",
    "strategy3b_ratio = strategy3b_revenue/reference_revenue\n",
    "strategy3b_ratio"
   ]
  },
  {
   "cell_type": "markdown",
   "metadata": {},
   "source": [
    "Using mean optimal alpha for months:"
   ]
  },
  {
   "cell_type": "code",
   "execution_count": null,
   "metadata": {},
   "outputs": [],
   "source": [
    "alpha_month = alpha2016.groupby(pd.Grouper(freq='M')).agg({\"pi+\": \"mean\", \"pi-\": \"mean\"})\n",
    "alpha_month['alpha'] = alpha_month['pi+']/(alpha_month['pi+']+alpha_month['pi-'])\n",
    "alpha_month['alpha'].plot(figsize=(15,5))"
   ]
  }
 ],
 "metadata": {
  "colab": {
   "collapsed_sections": [],
   "name": "assignment3.ipynb",
   "provenance": [],
   "version": "0.3.2"
  },
  "kernelspec": {
   "display_name": "Python 3",
   "language": "python",
   "name": "python3"
  },
  "language_info": {
   "codemirror_mode": {
    "name": "ipython",
    "version": 3
   },
   "file_extension": ".py",
   "mimetype": "text/x-python",
   "name": "python",
   "nbconvert_exporter": "python",
   "pygments_lexer": "ipython3",
   "version": "3.7.1"
  }
 },
 "nbformat": 4,
 "nbformat_minor": 1
}
