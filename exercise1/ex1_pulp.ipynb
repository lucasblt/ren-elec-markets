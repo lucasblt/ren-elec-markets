{
 "cells": [
  {
   "cell_type": "code",
   "execution_count": 189,
   "metadata": {},
   "outputs": [],
   "source": [
    "power_g = [15, 100, 32, 25, 70]\n",
    "cost_g = [75, 15, 0, 42, 10]\n",
    "\n",
    "power_d = [35, 23, 12, 38, 43, 16, 57]\n",
    "cost_d = [65, 78, 10, 46, 63, 32, 50]\n",
    "\n",
    "nd = len(power_d)\n",
    "ng = len(power_g)\n",
    "n = nd + ng\n",
    "\n",
    "set_nd = range(1, nd+1)\n",
    "set_ng = range(1, ng+1)\n",
    "\n",
    "cg = {(i): cost_g[i-1] for i in set_ng}\n",
    "cd = {(i): cost_d[i-1] for i in set_nd}\n",
    "\n",
    "pg = {(i): power_g[i-1] for i in set_ng}\n",
    "pd = {(i): power_d[i-1] for i in set_nd}"
   ]
  },
  {
   "cell_type": "code",
   "execution_count": 190,
   "metadata": {},
   "outputs": [],
   "source": [
    "import pulp as plp\n",
    "\n",
    "opt_model = plp.LpProblem(name=\"Model\")"
   ]
  },
  {
   "cell_type": "code",
   "execution_count": 191,
   "metadata": {},
   "outputs": [],
   "source": [
    "yg  = {(i): plp.LpVariable(cat=plp.LpContinuous, lowBound=0, upBound=pg[i], name=\"yg_{}\".format(i)) for i in set_ng}\n",
    "yd  = {(i): plp.LpVariable(cat=plp.LpContinuous, lowBound=0, upBound=pd[i], name=\"yd_{}\".format(i)) for i in set_nd}"
   ]
  },
  {
   "cell_type": "code",
   "execution_count": 192,
   "metadata": {},
   "outputs": [],
   "source": [
    "constraints = plp.LpConstraint(\n",
    "                 e=plp.lpSum(yg[j] for j in set_ng) - plp.lpSum(yd[i] for i in set_nd),\n",
    "                 sense=plp.LpConstraintEQ,\n",
    "                 rhs=0,\n",
    "                 name=\"constraint_eq\")"
   ]
  },
  {
   "cell_type": "code",
   "execution_count": 193,
   "metadata": {},
   "outputs": [],
   "source": [
    "opt_model += constraints, \"balance between supply and demand\""
   ]
  },
  {
   "cell_type": "code",
   "execution_count": 194,
   "metadata": {},
   "outputs": [],
   "source": [
    "objective = plp.lpSum(yg[i]*cg[i] for i in set_ng) - plp.lpSum(yd[j]*cd[j] for j in set_nd)"
   ]
  },
  {
   "cell_type": "code",
   "execution_count": 195,
   "metadata": {},
   "outputs": [],
   "source": [
    "opt_model.sense = plp.LpMinimize\n",
    "\n",
    "opt_model.setObjective(objective)"
   ]
  },
  {
   "cell_type": "code",
   "execution_count": 196,
   "metadata": {},
   "outputs": [
    {
     "data": {
      "text/plain": [
       "1"
      ]
     },
     "execution_count": 196,
     "metadata": {},
     "output_type": "execute_result"
    }
   ],
   "source": [
    "opt_model.solve()\n",
    "#print(plp.LpStatus[opt_model.status])"
   ]
  },
  {
   "cell_type": "code",
   "execution_count": 197,
   "metadata": {},
   "outputs": [
    {
     "data": {
      "text/html": [
       "<div>\n",
       "<style scoped>\n",
       "    .dataframe tbody tr th:only-of-type {\n",
       "        vertical-align: middle;\n",
       "    }\n",
       "\n",
       "    .dataframe tbody tr th {\n",
       "        vertical-align: top;\n",
       "    }\n",
       "\n",
       "    .dataframe thead th {\n",
       "        text-align: right;\n",
       "    }\n",
       "</style>\n",
       "<table border=\"1\" class=\"dataframe\">\n",
       "  <thead>\n",
       "    <tr style=\"text-align: right;\">\n",
       "      <th></th>\n",
       "      <th>variable_object</th>\n",
       "      <th>solution_value</th>\n",
       "    </tr>\n",
       "  </thead>\n",
       "  <tbody>\n",
       "    <tr>\n",
       "      <th>1</th>\n",
       "      <td>yd_1</td>\n",
       "      <td>35.0</td>\n",
       "    </tr>\n",
       "    <tr>\n",
       "      <th>2</th>\n",
       "      <td>yd_2</td>\n",
       "      <td>23.0</td>\n",
       "    </tr>\n",
       "    <tr>\n",
       "      <th>3</th>\n",
       "      <td>yd_3</td>\n",
       "      <td>0.0</td>\n",
       "    </tr>\n",
       "    <tr>\n",
       "      <th>4</th>\n",
       "      <td>yd_4</td>\n",
       "      <td>38.0</td>\n",
       "    </tr>\n",
       "    <tr>\n",
       "      <th>5</th>\n",
       "      <td>yd_5</td>\n",
       "      <td>43.0</td>\n",
       "    </tr>\n",
       "    <tr>\n",
       "      <th>6</th>\n",
       "      <td>yd_6</td>\n",
       "      <td>6.0</td>\n",
       "    </tr>\n",
       "    <tr>\n",
       "      <th>7</th>\n",
       "      <td>yd_7</td>\n",
       "      <td>57.0</td>\n",
       "    </tr>\n",
       "  </tbody>\n",
       "</table>\n",
       "</div>"
      ],
      "text/plain": [
       "  variable_object  solution_value\n",
       "1            yd_1            35.0\n",
       "2            yd_2            23.0\n",
       "3            yd_3             0.0\n",
       "4            yd_4            38.0\n",
       "5            yd_5            43.0\n",
       "6            yd_6             6.0\n",
       "7            yd_7            57.0"
      ]
     },
     "execution_count": 197,
     "metadata": {},
     "output_type": "execute_result"
    }
   ],
   "source": [
    "import pandas as pd\n",
    "\n",
    "opt_df = pd.DataFrame.from_dict(yd, orient=\"index\", columns = [\"variable_object\"])\n",
    "\n",
    "opt_df[\"solution_value\"] = opt_df[\"variable_object\"].apply(lambda item: item.varValue)\n",
    "opt_df"
   ]
  },
  {
   "cell_type": "code",
   "execution_count": 198,
   "metadata": {},
   "outputs": [
    {
     "data": {
      "text/html": [
       "<div>\n",
       "<style scoped>\n",
       "    .dataframe tbody tr th:only-of-type {\n",
       "        vertical-align: middle;\n",
       "    }\n",
       "\n",
       "    .dataframe tbody tr th {\n",
       "        vertical-align: top;\n",
       "    }\n",
       "\n",
       "    .dataframe thead th {\n",
       "        text-align: right;\n",
       "    }\n",
       "</style>\n",
       "<table border=\"1\" class=\"dataframe\">\n",
       "  <thead>\n",
       "    <tr style=\"text-align: right;\">\n",
       "      <th></th>\n",
       "      <th>variable_object</th>\n",
       "      <th>solution_value</th>\n",
       "    </tr>\n",
       "  </thead>\n",
       "  <tbody>\n",
       "    <tr>\n",
       "      <th>1</th>\n",
       "      <td>yg_1</td>\n",
       "      <td>0.0</td>\n",
       "    </tr>\n",
       "    <tr>\n",
       "      <th>2</th>\n",
       "      <td>yg_2</td>\n",
       "      <td>100.0</td>\n",
       "    </tr>\n",
       "    <tr>\n",
       "      <th>3</th>\n",
       "      <td>yg_3</td>\n",
       "      <td>32.0</td>\n",
       "    </tr>\n",
       "    <tr>\n",
       "      <th>4</th>\n",
       "      <td>yg_4</td>\n",
       "      <td>0.0</td>\n",
       "    </tr>\n",
       "    <tr>\n",
       "      <th>5</th>\n",
       "      <td>yg_5</td>\n",
       "      <td>70.0</td>\n",
       "    </tr>\n",
       "  </tbody>\n",
       "</table>\n",
       "</div>"
      ],
      "text/plain": [
       "  variable_object  solution_value\n",
       "1            yg_1             0.0\n",
       "2            yg_2           100.0\n",
       "3            yg_3            32.0\n",
       "4            yg_4             0.0\n",
       "5            yg_5            70.0"
      ]
     },
     "execution_count": 198,
     "metadata": {},
     "output_type": "execute_result"
    }
   ],
   "source": [
    "import pandas as pd\n",
    "\n",
    "opt_df = pd.DataFrame.from_dict(yg, orient=\"index\", columns = [\"variable_object\"])\n",
    "\n",
    "opt_df[\"solution_value\"] = opt_df[\"variable_object\"].apply(lambda item: item.varValue)\n",
    "opt_df"
   ]
  },
  {
   "cell_type": "code",
   "execution_count": 199,
   "metadata": {},
   "outputs": [
    {
     "name": "stdout",
     "output_type": "stream",
     "text": [
      "32.0\n"
     ]
    }
   ],
   "source": [
    "for name, c in list(opt_model.constraints.items()):\n",
    "    print(c.pi)"
   ]
  }
 ],
 "metadata": {
  "kernelspec": {
   "display_name": "Python 3",
   "language": "python",
   "name": "python3"
  },
  "language_info": {
   "codemirror_mode": {
    "name": "ipython",
    "version": 3
   },
   "file_extension": ".py",
   "mimetype": "text/x-python",
   "name": "python",
   "nbconvert_exporter": "python",
   "pygments_lexer": "ipython3",
   "version": "3.7.1"
  }
 },
 "nbformat": 4,
 "nbformat_minor": 2
}
