{
 "cells": [
  {
   "cell_type": "code",
   "execution_count": 55,
   "metadata": {},
   "outputs": [],
   "source": [
    "import pandas as pd\n",
    "import numpy as np\n",
    "from scipy.optimize import linprog \n",
    "from numpy.linalg import solve\n",
    "import urllib.request\n",
    "import os\n",
    "import matplotlib.pyplot as plt"
   ]
  },
  {
   "cell_type": "code",
   "execution_count": 172,
   "metadata": {},
   "outputs": [],
   "source": [
    "power_g = np.array([15, 100, 32, 25, 70]) \n",
    "cost_g = np.array([75, 15, 0, 42, 10])\n",
    "\n",
    "g = np.vstack((power_g, cost_g)).T\n",
    "g = g[g[:,1].argsort()]\n",
    "ng = power_g.shape[0]\n",
    "\n",
    "power_d = np.array([35, 23, 12, 38, 43, 16, 57])\n",
    "cost_d = np.array([65, 78, 10, 46, 63, 32, 50])\n",
    "d = np.vstack((power_d, cost_d)).T\n",
    "d = d[d[:,1].argsort()[::-1]]\n",
    "nd = power_d.shape[0]\n",
    "\n",
    "ids = [''] * (nd+ng)\n",
    "\n",
    "for i in range(ng):\n",
    "    ids[i] = 'G{}'.format(i+1)\n",
    "\n",
    "for i in range(nd):\n",
    "    ids[ng+i] = 'D{}'.format(i+1)\n",
    "    \n",
    "ids = np.array(ids)"
   ]
  },
  {
   "cell_type": "code",
   "execution_count": 159,
   "metadata": {},
   "outputs": [
    {
     "data": {
      "text/plain": [
       "array(['a', 'b'], dtype='<U1')"
      ]
     },
     "execution_count": 159,
     "metadata": {},
     "output_type": "execute_result"
    }
   ],
   "source": [
    "np.array(['a', 'b'])"
   ]
  },
  {
   "cell_type": "code",
   "execution_count": 102,
   "metadata": {},
   "outputs": [],
   "source": [
    "xg = np.cumsum(g[:,0])\n",
    "xg = np.insert(xg, 0, 0)\n",
    "yg = g[:,1]\n",
    "yg = np.insert(yg, 0, 0)\n",
    "\n",
    "xd = np.cumsum(d[:,0])\n",
    "xd = np.insert(xd, 0, 0)\n",
    "yd = d[:,1]\n",
    "yd = np.insert(yd, 0, yd[0])"
   ]
  },
  {
   "cell_type": "markdown",
   "metadata": {},
   "source": [
    "# 4.1 and 4.2"
   ]
  },
  {
   "cell_type": "code",
   "execution_count": 110,
   "metadata": {},
   "outputs": [
    {
     "data": {
      "text/plain": [
       "<matplotlib.legend.Legend at 0x1a5652cdeb8>"
      ]
     },
     "execution_count": 110,
     "metadata": {},
     "output_type": "execute_result"
    },
    {
     "data": {
      "image/png": "[encoded data removed]",
      "text/plain": [
       "<Figure size 1080x504 with 1 Axes>"
      ]
     },
     "metadata": {
      "needs_background": "light"
     },
     "output_type": "display_data"
    }
   ],
   "source": [
    "plt.figure(figsize=(15, 7))\n",
    "plt.step(xg,yg, where = 'pre', label ='Supply')\n",
    "plt.step(xd,yd, where = 'pre', label ='Demand')\n",
    "plt.legend()"
   ]
  },
  {
   "cell_type": "markdown",
   "metadata": {},
   "source": [
    "# 4.3"
   ]
  },
  {
   "cell_type": "code",
   "execution_count": 133,
   "metadata": {},
   "outputs": [
    {
     "name": "stdout",
     "output_type": "stream",
     "text": [
      "Generation schedules: [  0. 100.  32.   0.  70.]\n",
      "Demand schedules: [35. 23.  0. 38. 43.  6. 57.]\n",
      "\n",
      "Total energy scheduled: 202.0 MWh\n",
      "\n",
      "G2: 100.0 MWh\n",
      "G3: 32.0 MWh\n",
      "G5: 70.0 MWh\n",
      "\n",
      "D1: 35.0 MWh\n",
      "D2: 23.0 MWh\n",
      "D4: 38.0 MWh\n",
      "D5: 43.0 MWh\n",
      "D6: 6.0 MWh\n",
      "D7: 57.0 MWh\n"
     ]
    }
   ],
   "source": [
    "n_g = power_g.shape[0]\n",
    "n_d = power_d.shape[0]\n",
    "\n",
    "A_eq = np.array([np.concatenate((np.ones(n_g),-np.ones(n_d)))])\n",
    "\n",
    "b_eq = 0\n",
    "\n",
    "A = np.identity(A_eq.size)\n",
    "\n",
    "b = np.array([np.concatenate((power_g, power_d))]).T\n",
    "\n",
    "c = np.concatenate((cost_g, -cost_d))\n",
    "\n",
    "res_std = linprog(c, A_eq=A_eq, b_eq = b_eq, A_ub=A, b_ub=b, bounds=(0, None))\n",
    "\n",
    "gen_sch = res_std.x[:n_g]\n",
    "dem_sch = res_std.x[n_g:]\n",
    "\n",
    "print('Generation schedules:', gen_sch)\n",
    "print('Demand schedules:', dem_sch)\n",
    "\n",
    "print()        \n",
    "\n",
    "print('Total energy scheduled: {} MWh'.format(gen_sch.sum()))\n",
    "\n",
    "print()        \n",
    "\n",
    "for i in range(gen_sch.shape[0]):\n",
    "    if gen_sch[i] > 0:\n",
    "        print('G{}: {} MWh'.format((i+1), gen_sch[i]))\n",
    "\n",
    "print()        \n",
    "        \n",
    "for i in range(dem_sch.shape[0]):\n",
    "    if dem_sch[i] > 0:\n",
    "        print('D{}: {} MWh'.format((i+1),dem_sch[i]))\n"
   ]
  },
  {
   "cell_type": "code",
   "execution_count": 234,
   "metadata": {},
   "outputs": [
    {
     "name": "stdout",
     "output_type": "stream",
     "text": [
      "Cost: $ 32.0\n"
     ]
    }
   ],
   "source": [
    "a1 = np.ones(n_g)\n",
    "a2 = -np.ones(n_d)\n",
    "a3 = np.array([np.hstack((a1,a2))]).T\n",
    "a4 = -np.identity((n_d + n_g))\n",
    "\n",
    "A_tilde = np.concatenate((a4,a3),axis=1)\n",
    "\n",
    "b_tilde = np.concatenate((cost_g, -cost_d))\n",
    "\n",
    "c_tilde = np.append(-b, np.array([0]))\n",
    "\n",
    "res_dual = linprog(-c_tilde, A_ub=A_tilde, b_ub=b_tilde)\n",
    "\n",
    "eq_cost = res_dual.x[-1]\n",
    "print('Cost: $ {}'.format(eq_cost))"
   ]
  },
  {
   "cell_type": "markdown",
   "metadata": {},
   "source": [
    "# Social Welfare"
   ]
  },
  {
   "cell_type": "code",
   "execution_count": 233,
   "metadata": {},
   "outputs": [
    {
     "name": "stdout",
     "output_type": "stream",
     "text": [
      "Social Walfare: $ 9368.0\n"
     ]
    }
   ],
   "source": [
    "df = pd.DataFrame({'ID' : ids, 'Quantity [MWh]': np.concatenate((power_g, power_d)), 'Bid [$/MWh]': np.concatenate((cost_g, cost_d)), 'Cost [$/MWh]' : res_dual.x[-1], 'Scheduled [MWh]' : res_std.x})\n",
    "df['Revenue'] = df['Cost [$/MWh]']*df['Scheduled [MWh]']\n",
    "\n",
    "df_g = df[0:ng].values\n",
    "df_d = df[ng:].values\n",
    "\n",
    "SW = (df_d[:,2]*df_d[:,4]).sum() - (df_g[:,2]*df_g[:,4]).sum()\n",
    "\n",
    "print('Social Walfare: $ {}'.format(SW))"
   ]
  }
 ],
 "metadata": {
  "kernelspec": {
   "display_name": "Python 3",
   "language": "python",
   "name": "python3"
  },
  "language_info": {
   "codemirror_mode": {
    "name": "ipython",
    "version": 3
   },
   "file_extension": ".py",
   "mimetype": "text/x-python",
   "name": "python",
   "nbconvert_exporter": "python",
   "pygments_lexer": "ipython3",
   "version": "3.7.1"
  }
 },
 "nbformat": 4,
 "nbformat_minor": 2
}
